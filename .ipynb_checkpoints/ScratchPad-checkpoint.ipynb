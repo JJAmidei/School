{
 "cells": [
  {
   "cell_type": "code",
   "execution_count": 17,
   "id": "970622b2-0fb5-432a-9c58-ed1f44f826fa",
   "metadata": {},
   "outputs": [
    {
     "name": "stdout",
     "output_type": "stream",
     "text": [
      "\n",
      "State: Counts\n",
      "|0000>: 649 (6.49%)\n",
      "|0001>: 655 (6.55%)\n",
      "|0010>: 568 (5.68%)\n",
      "|0011>: 635 (6.35%)\n",
      "|0100>: 618 (6.18%)\n",
      "|0101>: 632 (6.32%)\n",
      "|0110>: 645 (6.45%)\n",
      "|0111>: 589 (5.89%)\n",
      "|1000>: 662 (6.62%)\n",
      "|1001>: 603 (6.03%)\n",
      "|1010>: 624 (6.24%)\n",
      "|1011>: 610 (6.10%)\n",
      "|1100>: 604 (6.04%)\n",
      "|1101>: 635 (6.35%)\n",
      "|1110>: 661 (6.61%)\n",
      "|1111>: 610 (6.10%)\n"
     ]
    },
    {
     "data": {
      "image/png": "[encoded data removed]",
      "text/plain": [
       "<Figure size 640x480 with 1 Axes>"
      ]
     },
     "metadata": {},
     "output_type": "display_data"
    }
   ],
   "source": [
    "import numpy as np\n",
    "import matplotlib.pyplot as plt\n",
    "\n",
    "H = 1/np.sqrt(2) * np.array([[1, 1], # Hadamard\n",
    "                            [1, -1]])\n",
    "\n",
    "def cnot_n(n, control, target):\n",
    "    \"\"\"\n",
    "    Constructs an n-qubit CNOT gate where the control and target qubits are specified.\n",
    "    \n",
    "    Parameters:\n",
    "    n : int - Number of qubits\n",
    "    control : int - Control qubit index\n",
    "    target : int - Target qubit index\n",
    "    \n",
    "    Returns:\n",
    "    np.array - n-qubit CNOT gate matrix (2^n x 2^n)\n",
    "    \"\"\"\n",
    "    size = 2**n\n",
    "    I = np.eye(size)  # Identity matrix of full system size\n",
    "    CNOT = np.zeros((size, size))\n",
    "\n",
    "    for i in range(size):\n",
    "        binary = list(f\"{i:0{n}b}\")  # Convert to binary representation\n",
    "        if binary[control] == '1':  # Apply NOT to target if control is 1\n",
    "            binary[target] = '1' if binary[target] == '0' else '0'\n",
    "        j = int(\"\".join(binary), 2)  # Convert back to integer index\n",
    "        CNOT[j, i] = 1\n",
    "\n",
    "    return CNOT\n",
    "\n",
    "def initial_state(n):\n",
    "    \"\"\"\n",
    "    Creates an initial quantum state |00...0⟩ for n-qubits.\n",
    "    \"\"\"\n",
    "    state = np.zeros((2**n, 1))\n",
    "    state[0, 0] = 1  # |00...0⟩ state\n",
    "    return state\n",
    "\n",
    "# Define the Hadamard gate for multiple qubits\n",
    "def hadamard_n(n):\n",
    "    \"\"\"\n",
    "    Constructs an n-qubit Hadamard gate using Kronecker products.\n",
    "    \"\"\"\n",
    "    H_n = H\n",
    "    for _ in range(n - 1):\n",
    "        H_n = np.kron(H_n, H)\n",
    "    return H_n\n",
    "\n",
    "# Number of qubits\n",
    "n = 4  # Change this for different numbers of qubits\n",
    "\n",
    "# Initialize the state\n",
    "q = initial_state(n)\n",
    "\n",
    "# Apply Hadamard to the first qubit\n",
    "H_n = hadamard_n(n)\n",
    "q = H_n @ q\n",
    "\n",
    "# Apply a CNOT gate (control=0, target=1)\n",
    "CNOT = cnot_n(n, 0, 1)\n",
    "q = CNOT @ q\n",
    "\n",
    "# Compute probability amplitudes\n",
    "prob_amp = np.abs(q.flatten())**2\n",
    "\n",
    "# Define basis states\n",
    "basis_states = [f\"|{x:0{n}b}>\" for x in range(2**n)]\n",
    "\n",
    "# Perform measurements\n",
    "meas = np.random.choice(basis_states, size=10000, p=prob_amp)\n",
    "\n",
    "# Count occurrences\n",
    "unique, counts = np.unique(meas, return_counts=True)\n",
    "results = dict(zip(unique, counts))\n",
    "\n",
    "# Print results\n",
    "print('\\nState: Counts')\n",
    "for key, value in results.items():\n",
    "    print(f\"{key}: {value} ({value/100:.2f}%)\")\n",
    "\n",
    "# Plot results\n",
    "plt.bar(results.keys(), results.values())\n",
    "plt.xlabel('Basis states')\n",
    "plt.ylabel('Counts')\n",
    "plt.title(f'Measurement Results for {n}-Qubit System')\n",
    "plt.show()\n",
    "#print(H_n)"
   ]
  },
  {
   "cell_type": "code",
   "execution_count": 19,
   "id": "d7f9a99a-23b2-41a8-902a-9819bb2f2b03",
   "metadata": {},
   "outputs": [
    {
     "name": "stdout",
     "output_type": "stream",
     "text": [
      "CNOT operator for control qubit 0 and target qubit 1 in a 3 -qubit system:\n",
      "[]\n"
     ]
    }
   ],
   "source": [
    "import numpy as np\n",
    "\n",
    "# Single-qubit identity matrix\n",
    "I = np.eye(2)\n",
    "\n",
    "# CNOT gate (2-qubit gate)\n",
    "CNOT = np.array([[1, 0, 0, 0],\n",
    "                 [0, 1, 0, 0],\n",
    "                 [0, 0, 0, 1],\n",
    "                 [0, 0, 1, 0]])\n",
    "\n",
    "def construct_cnot(n, control, target):\n",
    "    \"\"\"\n",
    "    Constructs an n-qubit CNOT gate with the specified control and target qubits.\n",
    "    \n",
    "    Args:\n",
    "        n (int): Total number of qubits.\n",
    "        control (int): Index of the control qubit (0-based).\n",
    "        target (int): Index of the target qubit (0-based).\n",
    "    \n",
    "    Returns:\n",
    "        np.ndarray: The n-qubit CNOT operator as a 2^n x 2^n matrix.\n",
    "    \"\"\"\n",
    "    if control >= n or target >= n:\n",
    "        raise ValueError(\"Control or target qubit index out of range.\")\n",
    "    \n",
    "    # Initialize the operator as the identity matrix for the first qubit\n",
    "    operator = I if 0 not in [control, target] else CNOT.reshape((2, 2, 2, 2))[0, 0]\n",
    "    \n",
    "    # Iterate over the remaining qubits\n",
    "    for qubit in range(1, n):\n",
    "        if qubit == control or qubit == target:\n",
    "            # If the qubit is the control or target, use the CNOT gate\n",
    "            operator = np.kron(operator, CNOT.reshape((2, 2, 2, 2))[qubit == control, qubit == target])\n",
    "        else:\n",
    "            # Otherwise, use the identity matrix\n",
    "            operator = np.kron(operator, I)\n",
    "    \n",
    "    return operator\n",
    "\n",
    "# Example usage\n",
    "n = 3  # Number of qubits\n",
    "control = 0  # Control qubit (0-based index)\n",
    "target = 1   # Target qubit (0-based index)\n",
    "\n",
    "cnot_operator = construct_cnot(n, control, target)\n",
    "print(\"CNOT operator for control qubit\", control, \"and target qubit\", target, \"in a\", n, \"-qubit system:\")\n",
    "print(cnot_operator)"
   ]
  },
  {
   "cell_type": "code",
   "execution_count": null,
   "id": "42fbfe26-d34f-48fd-9bf7-64a209c98988",
   "metadata": {},
   "outputs": [],
   "source": []
  },
  {
   "cell_type": "code",
   "execution_count": 22,
   "id": "f938c2ca-26b0-4aec-a1a8-02c5f6e910e5",
   "metadata": {},
   "outputs": [
    {
     "name": "stdout",
     "output_type": "stream",
     "text": [
      "Final state vector:\n",
      "[0.70710678+0.j 0.        +0.j 0.        +0.j 0.        +0.j\n",
      " 0.        +0.j 0.        +0.j 0.        +0.j 0.        +0.j\n",
      " 0.        +0.j 0.        +0.j 0.        +0.j 0.        +0.j\n",
      " 0.        +0.j 0.        +0.j 0.        +0.j 0.70710678+0.j]\n",
      "\n",
      "Measurement probabilities [|0000>, |0001>, ..., |1111>]:\n",
      "[0.5 0.  0.  0.  0.  0.  0.  0.  0.  0.  0.  0.  0.  0.  0.  0.5]\n",
      "\n",
      "Measurement histogram:\n",
      "{'0000': 4969, '1111': 5031}\n"
     ]
    },
    {
     "data": {
      "image/png": "[encoded data removed]",
      "text/plain": [
       "<Figure size 640x480 with 1 Axes>"
      ]
     },
     "metadata": {},
     "output_type": "display_data"
    }
   ],
   "source": [
    "def controlled_not_matrix(control, target, n):\n",
    "    \"\"\"\n",
    "    Construct the full 2^n x 2^n matrix for a CNOT gate acting on an n-qubit system,\n",
    "    with the given control and target indices (0-indexed, with 0 as the most significant qubit).\n",
    "    This function does not use an explicit Pauli-X or projector; it builds the permutation matrix\n",
    "    by examining the binary representation of basis state indices.\n",
    "    \"\"\"\n",
    "    dim = 2**n\n",
    "    M = np.zeros((dim, dim), dtype=complex)\n",
    "    for i in range(dim):\n",
    "        # Get the binary representation (as a list of characters) with n bits.\n",
    "        b = list(np.binary_repr(i, width=n))\n",
    "        # If the control qubit is '0', leave the state unchanged.\n",
    "        if b[control] == '0':\n",
    "            j = i\n",
    "        else:\n",
    "            # If control is '1', flip the target bit.\n",
    "            b[target] = '1' if b[target] == '0' else '0'\n",
    "            j = int(\"\".join(b), 2)\n",
    "        M[j, i] = 1\n",
    "    return M\n",
    "\n",
    "# Number of qubits and total Hilbert space dimension\n",
    "n_qubits = 4\n",
    "dim = 2**n_qubits # 16\n",
    "\n",
    "# Define the basic 2x2 Hadamard gate and the 2x2 identity matrix.\n",
    "H = (1/np.sqrt(2))*np.array([[1,  1],\n",
    "                            [1, -1]])\n",
    "I2 = np.eye(2)\n",
    "\n",
    "# Build the full operator for Hadamard acting on qubit 0:\n",
    "# H ⊗ I ⊗ I ⊗ I\n",
    "H_q0 = np.kron(np.kron(np.kron(H, I2), I2), I2)\n",
    "\n",
    "# Define the initial state |0000> as a 16-dimensional column vector.\n",
    "psi0 = np.zeros(dim, dtype=complex)\n",
    "psi0[0] = 1\n",
    "\n",
    "# Build the CNOT operators (as 16x16 matrices) for the pairs:\n",
    "# (control, target) = (0,1), (0,2), and (0,3)\n",
    "CNOT_01 = controlled_not_matrix(0, 1, n_qubits)\n",
    "CNOT_02 = controlled_not_matrix(0, 2, n_qubits)\n",
    "CNOT_03 = controlled_not_matrix(0, 3, n_qubits)\n",
    "\n",
    "# --- Simulate the Circuit ---\n",
    "\n",
    "# 1. Apply Hadamard to qubit 0.\n",
    "#    This transforms |0000> into 1/sqrt(2)(|0000> + |1000>)\n",
    "psi_after_H = H_q0 @ psi0\n",
    "\n",
    "# 2. Apply CNOT with qubit 0 (control) and qubit 1 (target).\n",
    "#    When the control (q0) is 1, q1 is flipped.\n",
    "#    |0000> remains unchanged; |1000> becomes |1100>\n",
    "psi_after_CNOT01 = CNOT_01 @ psi_after_H\n",
    "\n",
    "# 3. Apply CNOT with qubit 0 (control) and qubit 2 (target).\n",
    "#    |0000> remains; |1100> becomes |1110> (q2 flips when q0 is 1)\n",
    "psi_after_CNOT02 = CNOT_02 @ psi_after_CNOT01\n",
    "\n",
    "# 4. Apply CNOT with qubit 0 (control) and qubit 3 (target).\n",
    "#    |0000> remains; |1110> becomes |1111> (q3 flips when q0 is 1)\n",
    "psi_final = CNOT_03 @ psi_after_CNOT02\n",
    "\n",
    "# The expected final state is:\n",
    "# 1/sqrt(2)(|0000> + |1111>)\n",
    "print(\"Final state vector:\")\n",
    "print(psi_final)\n",
    "\n",
    "# Compute the probabilities for each basis state.\n",
    "probabilities = np.abs(psi_final)**2\n",
    "print(\"\\nMeasurement probabilities [|0000>, |0001>, ..., |1111>]:\")\n",
    "print(probabilities)\n",
    "\n",
    "# --- Simulate Measurements ---\n",
    "\n",
    "# For the state 1/sqrt(2)(|0000> + |1111>), only basis states |0000> (index 0)\n",
    "# and |1111> (index 15) have nonzero probability (each 0.5).\n",
    "# We simulate 10,000 measurements using a random number generator.\n",
    "n_measure = 10000\n",
    "random_numbers = np.random.rand(n_measure)\n",
    "\n",
    "# Assign \"0000\" if the random number is less than 0.5, otherwise \"1111\"\n",
    "outcomes = np.where(random_numbers < 0.5, \"0000\", \"1111\")\n",
    "\n",
    "# Tally the measurement outcomes\n",
    "unique_outcomes, counts = np.unique(outcomes, return_counts=True)\n",
    "histogram = dict(zip(unique_outcomes, counts))\n",
    "print(\"\\nMeasurement histogram:\")\n",
    "print(histogram)\n",
    "\n",
    "# Plot the measurement histogram\n",
    "plt.bar(histogram.keys(), histogram.values(), color='skyblue')\n",
    "plt.xlabel(\"Measurement Outcome\")\n",
    "plt.ylabel(\"Counts\")\n",
    "plt.title(\"4-Qubit Entangled State Measurement Histogram (NumPy)\")\n",
    "plt.show()\n"
   ]
  },
  {
   "cell_type": "code",
   "execution_count": 24,
   "id": "def4ed0a-3c2e-4380-9391-9a0e0792dffb",
   "metadata": {},
   "outputs": [
    {
     "ename": "ValueError",
     "evalue": "matmul: Input operand 0 does not have enough dimensions (has 0, gufunc core with signature (n?,k),(k,m?)->(n?,m?) requires 1)",
     "output_type": "error",
     "traceback": [
      "\u001b[1;31m---------------------------------------------------------------------------\u001b[0m",
      "\u001b[1;31mValueError\u001b[0m                                Traceback (most recent call last)",
      "Cell \u001b[1;32mIn[24], line 45\u001b[0m\n\u001b[0;32m     38\u001b[0m     CNOTs\u001b[38;5;241m.\u001b[39mappend(cnot_n(n, \u001b[38;5;241m0\u001b[39m, target))\n\u001b[0;32m     40\u001b[0m \u001b[38;5;66;03m#for i, CNOT in enumerate(CNOTs):\u001b[39;00m\n\u001b[0;32m     41\u001b[0m \u001b[38;5;66;03m#    print(f\"CNOT {i+1} (control=1, target={i+1}): \")\u001b[39;00m\n\u001b[0;32m     42\u001b[0m \u001b[38;5;66;03m#    print(CNOT)\u001b[39;00m\n\u001b[0;32m     43\u001b[0m \u001b[38;5;66;03m#    print()\u001b[39;00m\n\u001b[1;32m---> 45\u001b[0m psi_H \u001b[38;5;241m=\u001b[39m H_n \u001b[38;5;241m@\u001b[39m psi_init\n\u001b[0;32m     46\u001b[0m \u001b[38;5;28mprint\u001b[39m(psi_H)\n",
      "\u001b[1;31mValueError\u001b[0m: matmul: Input operand 0 does not have enough dimensions (has 0, gufunc core with signature (n?,k),(k,m?)->(n?,m?) requires 1)"
     ]
    }
   ],
   "source": [
    "n = 4 # number of qubits\n",
    "psi_init = np.zeros(2**n, dtype=complex) # empty wavefunction\n",
    "psi_init[0]=1\n",
    "\n",
    "H = 1/np.sqrt(2)*np.array([[1,1], # Hadamard matrix\n",
    "                           [1,-1]])\n",
    "\n",
    "I = np.eye(2) # Identity matrix\n",
    "\n",
    "def cnot_n(n, control, target):\n",
    "    m = 2**n\n",
    "    CNOT = np.zeros((m,m))\n",
    "    for i in range(m):\n",
    "        b = list(np.binary_repr(i, width=n))\n",
    "        if b[control] == '0':\n",
    "                 j = i\n",
    "        else:\n",
    "            b[target] = '1' if b[target] == '0' else '0'\n",
    "            j = int(\"\".join(b), 2)\n",
    "        CNOT[j, i] = 1\n",
    "    return CNOT\n",
    "\n",
    "def H_n(n, target): # function that applied the Hadarmard to the first qubit\n",
    "    H = 1/np.sqrt(2)*np.array([[1, 1], [1, -1]])\n",
    "    I = np.eye(2)\n",
    "    \n",
    "    M = [H if i == target else I for i in range(n)]\n",
    "    H_n = M[0]\n",
    "\n",
    "    for m in M[1:]:\n",
    "       H_n = np.kron(H_n, m)\n",
    "    \n",
    "    return H_n\n",
    "\n",
    "CNOTs = []\n",
    "\n",
    "for target in range(1, n):\n",
    "    CNOTs.append(cnot_n(n, 0, target))\n",
    "\n",
    "#for i, CNOT in enumerate(CNOTs):\n",
    "#    print(f\"CNOT {i+1} (control=1, target={i+1}): \")\n",
    "#    print(CNOT)\n",
    "#    print()\n",
    "\n",
    "psi_H = H_n @ psi_init\n",
    "print(psi_H)"
   ]
  },
  {
   "cell_type": "code",
   "execution_count": 28,
   "id": "b8bbf31f-2a4e-435a-90bc-8c917509e2dd",
   "metadata": {},
   "outputs": [
    {
     "name": "stdout",
     "output_type": "stream",
     "text": [
      "Hadamard on first qubit in a 4-qubit system:\n",
      "[[ 0.70710678  0.          0.          0.          0.          0.\n",
      "   0.          0.          0.70710678  0.          0.          0.\n",
      "   0.          0.          0.          0.        ]\n",
      " [ 0.          0.70710678  0.          0.          0.          0.\n",
      "   0.          0.          0.          0.70710678  0.          0.\n",
      "   0.          0.          0.          0.        ]\n",
      " [ 0.          0.          0.70710678  0.          0.          0.\n",
      "   0.          0.          0.          0.          0.70710678  0.\n",
      "   0.          0.          0.          0.        ]\n",
      " [ 0.          0.          0.          0.70710678  0.          0.\n",
      "   0.          0.          0.          0.          0.          0.70710678\n",
      "   0.          0.          0.          0.        ]\n",
      " [ 0.          0.          0.          0.          0.70710678  0.\n",
      "   0.          0.          0.          0.          0.          0.\n",
      "   0.70710678  0.          0.          0.        ]\n",
      " [ 0.          0.          0.          0.          0.          0.70710678\n",
      "   0.          0.          0.          0.          0.          0.\n",
      "   0.          0.70710678  0.          0.        ]\n",
      " [ 0.          0.          0.          0.          0.          0.\n",
      "   0.70710678  0.          0.          0.          0.          0.\n",
      "   0.          0.          0.70710678  0.        ]\n",
      " [ 0.          0.          0.          0.          0.          0.\n",
      "   0.          0.70710678  0.          0.          0.          0.\n",
      "   0.          0.          0.          0.70710678]\n",
      " [ 0.70710678  0.          0.          0.          0.          0.\n",
      "   0.          0.         -0.70710678 -0.         -0.         -0.\n",
      "  -0.         -0.         -0.         -0.        ]\n",
      " [ 0.          0.70710678  0.          0.          0.          0.\n",
      "   0.          0.         -0.         -0.70710678 -0.         -0.\n",
      "  -0.         -0.         -0.         -0.        ]\n",
      " [ 0.          0.          0.70710678  0.          0.          0.\n",
      "   0.          0.         -0.         -0.         -0.70710678 -0.\n",
      "  -0.         -0.         -0.         -0.        ]\n",
      " [ 0.          0.          0.          0.70710678  0.          0.\n",
      "   0.          0.         -0.         -0.         -0.         -0.70710678\n",
      "  -0.         -0.         -0.         -0.        ]\n",
      " [ 0.          0.          0.          0.          0.70710678  0.\n",
      "   0.          0.         -0.         -0.         -0.         -0.\n",
      "  -0.70710678 -0.         -0.         -0.        ]\n",
      " [ 0.          0.          0.          0.          0.          0.70710678\n",
      "   0.          0.         -0.         -0.         -0.         -0.\n",
      "  -0.         -0.70710678 -0.         -0.        ]\n",
      " [ 0.          0.          0.          0.          0.          0.\n",
      "   0.70710678  0.         -0.         -0.         -0.         -0.\n",
      "  -0.         -0.         -0.70710678 -0.        ]\n",
      " [ 0.          0.          0.          0.          0.          0.\n",
      "   0.          0.70710678 -0.         -0.         -0.         -0.\n",
      "  -0.         -0.         -0.         -0.70710678]]\n"
     ]
    }
   ],
   "source": [
    "import numpy as np\n",
    "\n",
    "def hadamard_on_qubit(n, target):\n",
    "\n",
    "    H = (1 / np.sqrt(2)) * np.array([[1, 1], [1, -1]])  # Hadamard matrix\n",
    "    I2 = np.eye(2)  # 2x2 Identity matrix\n",
    "\n",
    "    matrices = [H if i == target else I2 for i in range(n)]  # H at target position, I elsewhere\n",
    "    H_n = matrices[0]\n",
    "    \n",
    "    for mat in matrices[1:]:\n",
    "        H_n = np.kron(H_n, mat)  # Apply Kronecker product iteratively\n",
    "\n",
    "    return H_n\n",
    "\n",
    "# Example: Applying Hadamard to the first qubit in a 4-qubit system\n",
    "n = 4\n",
    "target_qubit = 0  # Apply H to the first qubit\n",
    "H_q0 = hadamard_on_qubit(n, target_qubit)\n",
    "\n",
    "print(\"Hadamard on first qubit in a 4-qubit system:\")\n",
    "print(H_q0)"
   ]
  },
  {
   "cell_type": "code",
   "execution_count": 5,
   "id": "22695ba1-34eb-46fc-bd53-95d7d1917928",
   "metadata": {},
   "outputs": [],
   "source": [
    "import numpy as np"
   ]
  },
  {
   "cell_type": "code",
   "execution_count": 15,
   "id": "54cadd54-d13d-4d23-b01d-81ab3fdfac2e",
   "metadata": {},
   "outputs": [
    {
     "data": {
      "text/plain": [
       "4.835"
      ]
     },
     "execution_count": 15,
     "metadata": {},
     "output_type": "execute_result"
    }
   ],
   "source": [
    "x = np.array([0.01, 2, 3, 4, 5, 15])\n",
    "mu = sum(x)/6\n",
    "mu"
   ]
  },
  {
   "cell_type": "code",
   "execution_count": 46,
   "id": "387208e1-5e97-4193-88f7-66fe502ada0d",
   "metadata": {},
   "outputs": [
    {
     "data": {
      "text/plain": [
       "44.75"
      ]
     },
     "execution_count": 46,
     "metadata": {},
     "output_type": "execute_result"
    }
   ],
   "source": [
    "x = np.array([20, 25, 25,\n",
    "              36, 42, 56,\n",
    "              69, 74, 100])\n",
    "\n",
    "mu = sum(x)/len(x)\n",
    "mu"
   ]
  },
  {
   "cell_type": "code",
   "execution_count": 34,
   "id": "268950ee-5554-435a-bee8-01ef3a23e66b",
   "metadata": {},
   "outputs": [
    {
     "data": {
      "text/plain": [
       "14"
      ]
     },
     "execution_count": 34,
     "metadata": {},
     "output_type": "execute_result"
    }
   ],
   "source": [
    "56-42"
   ]
  },
  {
   "cell_type": "code",
   "execution_count": 36,
   "id": "159ae8c0-3116-49c1-9d49-4da051d7a231",
   "metadata": {},
   "outputs": [
    {
     "data": {
      "text/plain": [
       "49"
      ]
     },
     "execution_count": 36,
     "metadata": {},
     "output_type": "execute_result"
    }
   ],
   "source": [
    "56-7"
   ]
  },
  {
   "cell_type": "code",
   "execution_count": null,
   "id": "fd6860f5-7606-42d1-9e92-e923ce27a93f",
   "metadata": {},
   "outputs": [],
   "source": []
  }
 ],
 "metadata": {
  "kernelspec": {
   "display_name": "Python 3 (ipykernel)",
   "language": "python",
   "name": "python3"
  },
  "language_info": {
   "codemirror_mode": {
    "name": "ipython",
    "version": 3
   },
   "file_extension": ".py",
   "mimetype": "text/x-python",
   "name": "python",
   "nbconvert_exporter": "python",
   "pygments_lexer": "ipython3",
   "version": "3.11.5"
  }
 },
 "nbformat": 4,
 "nbformat_minor": 5
}
