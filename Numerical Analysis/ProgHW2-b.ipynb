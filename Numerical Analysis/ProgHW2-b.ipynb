{
 "cells": [
  {
   "cell_type": "code",
   "execution_count": 1,
   "metadata": {},
   "outputs": [],
   "source": [
    "import numpy as np"
   ]
  },
  {
   "cell_type": "markdown",
   "metadata": {},
   "source": [
    "# Problem 1\n",
    "Apply Fixed-Point Iteration to find the solution of the equation \n",
    "\n",
    "$$e^x+x=7$$\n",
    "\n",
    "Iterate until the absolute difference of two successive iterates is less than $\\epsilon=10^{-8}$.\n",
    "\n",
    "(Hint: make sure you use a function $g(x)$ that theoretically works; otherwise the algorithm may diverge; the initial guess can be obtained from a plot of the function.)"
   ]
  },
  {
   "cell_type": "markdown",
   "metadata": {},
   "source": [
    "# Problem 2\n",
    "(2.4-1) Use the Python codes for the secant and Newton's methods to find solutions\n",
    "for the equation $\\sin x-e^{-x}=0$ on $0\\leq x\\leq1$. Set tolerance\n",
    "to $10^{-4}$, and take $p_{0}=0$ in Newton, and $p_{0}=0,p_{1}=1$\n",
    "in secant method. Do a visual inspection of the estimates and comment\n",
    "on the convergence rates of the methods."
   ]
  },
  {
   "cell_type": "markdown",
   "metadata": {},
   "source": [
    "# Problem 3\n",
    "\n",
    "Write a general $LU$ factorization code and use it to solve\n",
    "$$\n",
    "\\left[\\begin{array}{lll}{4} & {2} & {0} \\\\ {4} & {4} & {2} \\\\ {2} & {2} & {3}\\end{array}\\right]\\left[\\begin{array}{l}{x_{1}} \\\\ {x_{2}} \\\\ {x_{3}}\\end{array}\\right]=\\left[\\begin{array}{l}{2} \\\\ {4} \\\\ {6}\\end{array}\\right]\n",
    "$$"
   ]
  },
  {
   "cell_type": "markdown",
   "metadata": {},
   "source": [
    "# Problem 4\n",
    "Let $A$ be the $n\\times n$ matrix with entries $A_{ij}=|i-j|+1$. Define $x=[1,\\dots,1]^T$ and $b=Ax$. For $n=100,200,300,400$ and $500$, use the Python function numpy.linalg.solve to compute $x_c$, the double precision computed solution. For each solution, calculate the infinity norm of the forward error, find the error magnification factor, and compare with the corresponding condition numbers. Use the default norm provided by np.linalg.norm, which, for vectors, is the Euclidean norm $\\|x\\|=\\left(\\sum_{k=1}^n |x_k|^2\\right)^{1/2}$.\n",
    "\n",
    "\\textbf{MATH 5660 only}: Compute the maximum error magnification factor in the vector norm provided by np.linalg.norm. Hint: Look up the description of np.linalg.norm and matrix norms to find which matrix norm of $A$ equals $\\max_{x\\ne 0}\\frac{\\|Ax\\|}{\\|x\\|}$ for the same Euclidean vector norm as above."
   ]
  },
  {
   "cell_type": "markdown",
   "metadata": {},
   "source": [
    "# Problem 5\n",
    "Write a general $PA=LU$ factorization code and use it to solve the following system \n",
    "$$\n",
    "\\begin{bmatrix}\n",
    "-9 & 1 & 17 \\\\\n",
    "3 & 2 & -1 \\\\\n",
    "6 & 8 & 1\n",
    "\\end{bmatrix}\n",
    "\\begin{bmatrix}\n",
    "x_1 \\\\ x_2 \\\\ x_3\n",
    "\\end{bmatrix}\n",
    "=\n",
    "\\begin{bmatrix}\n",
    "5 \\\\ 9 \\\\-3\n",
    "\\end{bmatrix}\n",
    "$$"
   ]
  },
  {
   "cell_type": "code",
   "execution_count": null,
   "metadata": {},
   "outputs": [],
   "source": []
  }
 ],
 "metadata": {
  "kernelspec": {
   "display_name": "Python 3 (ipykernel)",
   "language": "python",
   "name": "python3"
  },
  "language_info": {
   "codemirror_mode": {
    "name": "ipython",
    "version": 3
   },
   "file_extension": ".py",
   "mimetype": "text/x-python",
   "name": "python",
   "nbconvert_exporter": "python",
   "pygments_lexer": "ipython3",
   "version": "3.11.4"
  },
  "latex_envs": {
   "LaTeX_envs_menu_present": true,
   "autoclose": false,
   "autocomplete": true,
   "bibliofile": "biblio.bib",
   "cite_by": "apalike",
   "current_citInitial": 1,
   "eqLabelWithNumbers": true,
   "eqNumInitial": 1,
   "hotkeys": {
    "equation": "Ctrl-E",
    "itemize": "Ctrl-I"
   },
   "labels_anchors": false,
   "latex_user_defs": false,
   "report_style_numbering": false,
   "user_envs_cfg": false
  },
  "toc": {
   "base_numbering": 1,
   "nav_menu": {},
   "number_sections": true,
   "sideBar": true,
   "skip_h1_title": false,
   "title_cell": "Table of Contents",
   "title_sidebar": "Contents",
   "toc_cell": false,
   "toc_position": {},
   "toc_section_display": true,
   "toc_window_display": false
  }
 },
 "nbformat": 4,
 "nbformat_minor": 4
}
