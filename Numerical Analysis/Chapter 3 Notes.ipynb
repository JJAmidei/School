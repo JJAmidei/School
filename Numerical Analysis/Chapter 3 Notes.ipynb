{
 "cells": [
  {
   "cell_type": "code",
   "execution_count": 1,
   "id": "145ad398",
   "metadata": {},
   "outputs": [],
   "source": [
    "import numpy as np"
   ]
  },
  {
   "cell_type": "code",
   "execution_count": 2,
   "id": "0d6ce655",
   "metadata": {},
   "outputs": [],
   "source": [
    "def back_sub(A, b):\n",
    "    \"\"\"\n",
    "    Backward substitution\n",
    "    The right hand side b is changed in place to store the solution\n",
    "    A: the coefficient matrix of size n x n, i.e. a square matrix\n",
    "    b: the right hand side of n\n",
    "    \"\"\"\n",
    "    if A.shape[0] != A.shape[1]: # if the number of rows [0], does not equal the number of columns [1] \n",
    "        print('Error: the given coefficient matrix is not square.')  \n",
    "        return \n",
    "    \n",
    "    if A.shape[0] != b.size:\n",
    "        print('Error: the shape of the coefficient matrix does not match the size of the RHS.')\n",
    "        return\n",
    "    \n",
    "    n = A.shape[0]\n",
    "    \n",
    "    for i in range(n-1, -1, -1):\n",
    "        for j in range(i+1, n):\n",
    "            b[i] = b[i] - A[i,j]*b[j]\n",
    "        b[i] = b[i]/A[i,i]\n",
    "        \n",
    "def GaussianElim(A, b):\n",
    "    \"\"\"\n",
    "    Gaussian Elimination without pivoting. \n",
    "    The coefficient matrix A and the right hand side b are modified in place.\n",
    "    Input:\n",
    "    A: the coefficient matrix of size n x n\n",
    "    b: the right hand side of size n    \n",
    "    Return:\n",
    "    None. The solution is stored in b\n",
    "    \"\"\"\n",
    "    if A.shape[0] != A.shape[1]:\n",
    "        print('Error: the given coefficient matrix is not square')\n",
    "        return\n",
    "    \n",
    "    if A.shape[0] != b.size:\n",
    "        print('Error: the shape of the coefficient matrix does not match the size of the RHS')\n",
    "        return\n",
    "     \n",
    "    # We hard code the epsilon here. It can be an input parameter.\n",
    "    eps = 1e-5 \n",
    "    n = A.shape[0]\n",
    "\n",
    "    for j in range(n-1):\n",
    "        if np.abs(A[j,j]) < eps:\n",
    "            print('Error: zero pivot encountered!')\n",
    "            return\n",
    "        for i in range(j+1, n):\n",
    "            # The multiplier\n",
    "            mp = A[i,j]/A[j,j]\n",
    "            for k in range(j+1,n):\n",
    "                A[i,k] = A[i,k] - mp*A[j,k]\n",
    "            b[i] = b[i] - mp*b[j]\n",
    "    \n",
    "    # No need to return. Both A and b are changed in place"
   ]
  },
  {
   "cell_type": "code",
   "execution_count": 3,
   "id": "63f32599",
   "metadata": {},
   "outputs": [
    {
     "name": "stdout",
     "output_type": "stream",
     "text": [
      "Solve the linear system: \n",
      "[[ 2.  3. -1.]\n",
      " [ 4. -2.  3.]\n",
      " [ 2. -1.  2.]] x =  [-3 12  7]\n",
      "The solution is  [ 1 -1  2]\n"
     ]
    }
   ],
   "source": [
    "A = np.array([[2., 3, -1], [4, -2, 3], [2, -1, 2]])\n",
    "b = np.array([-3, 12, 7])\n",
    "print('Solve the linear system: ')\n",
    "print(A, 'x = ', b)\n",
    "GaussianElim(A, b)\n",
    "back_sub(A, b)\n",
    "print('The solution is ', b)"
   ]
  },
  {
   "cell_type": "code",
   "execution_count": 4,
   "id": "0af3ca51",
   "metadata": {},
   "outputs": [],
   "source": [
    "def LU(A):\n",
    "    \"\"\"\n",
    "    LU factorization without pivoting. \n",
    "    The coefficient matrix A is modified in place.\n",
    "    The lower triangular part of A represents the L matrix, the upper triangular part \n",
    "    (including the diagonal) represents U\n",
    "    A: the coefficient matrix of size n x n   \n",
    "    \"\"\"\n",
    "    if A.shape[0] != A.shape[1]:\n",
    "        print('Error: the given coefficient matrix is not square')\n",
    "        return   \n",
    "     \n",
    "    # We hard code the epsilon here. It can be an input parameter.\n",
    "    eps = 1e-5 \n",
    "    n = A.shape[0]\n",
    "\n",
    "    for j in range(n-1):\n",
    "        if np.abs(A[j,j]) < eps:\n",
    "            print('Error: zero pivot encountered!')\n",
    "            return\n",
    "        for i in range(j+1, n):\n",
    "            # The multiplier\n",
    "            mp = A[i,j]/A[j,j]\n",
    "            A[i,j] = mp\n",
    "            for k in range(j+1,n):\n",
    "                A[i,k] = A[i,k] - mp*A[j,k]\n",
    "    \n",
    "    # No need to return. A is changed in place."
   ]
  },
  {
   "cell_type": "code",
   "execution_count": 5,
   "id": "cfdc798a",
   "metadata": {},
   "outputs": [
    {
     "name": "stdout",
     "output_type": "stream",
     "text": [
      "Perform LU decomposition of A = : \n",
      "[[ 2.  3. -1.]\n",
      " [ 4. -2.  3.]\n",
      " [ 2. -1.  2.]]\n",
      "The result is \n",
      "[[ 2.   3.  -1. ]\n",
      " [ 2.  -8.   5. ]\n",
      " [ 1.   0.5  0.5]]\n"
     ]
    }
   ],
   "source": [
    "A = np.array([[2.,3,-1], [4,-2,3], [2, -1, 2]])\n",
    "print('Perform LU decomposition of A = : ')\n",
    "print(A)\n",
    "LU(A)\n",
    "print('The result is ')\n",
    "print(A)"
   ]
  },
  {
   "cell_type": "code",
   "execution_count": 6,
   "id": "c296fb22",
   "metadata": {},
   "outputs": [],
   "source": [
    "def forward_sub(A, b, A_from_LU):\n",
    "    \"\"\"\n",
    "    Forward substitution\n",
    "    The right hand side b is changed in place to store the solution\n",
    "    A: the coefficient matrix of size n x n\n",
    "    b: the right hand side of size n\n",
    "    A_from_LU: True, if the matrix A is from LU factorization (diagonals are 1).\n",
    "               False, if A is just a regular coefficient matrix\n",
    "    \"\"\"\n",
    "    if A.shape[0] != A.shape[1]:\n",
    "        print('Error: the given coefficient matrix is not square')\n",
    "        return\n",
    "    \n",
    "    if A.shape[0] != b.size:\n",
    "        print('Error: the shape of the coefficient matrix does not match the size of the RHS')\n",
    "        return\n",
    "     \n",
    "    n = A.shape[0]\n",
    "    \n",
    "    if A_from_LU:\n",
    "        for j in range(0,n):       \n",
    "            b[j+1:] = b[j+1:] - A[j+1:,j]*b[j]\n",
    "    else:\n",
    "        for j in range(0,n):  \n",
    "            b[j] = b[j]/A[j,j]\n",
    "            b[j+1:] = b[j+1:] - A[j+1:,j]*b[j]"
   ]
  },
  {
   "cell_type": "code",
   "execution_count": 7,
   "id": "ea83e088",
   "metadata": {},
   "outputs": [],
   "source": [
    "def forward_sub(A, b, A_from_LU):\n",
    "    \"\"\"\n",
    "    Forward substitution\n",
    "    The right hand side b is changed in place to store the solution\n",
    "    A: the coefficient matrix of size n x n\n",
    "    b: the right hand side of size n\n",
    "    A_from_LU: True, if the matrix A is from LU factorization (diagonals are 1).\n",
    "               False, if A is just a regular coefficient matrix\n",
    "    \"\"\"\n",
    "    if A.shape[0] != A.shape[1]:\n",
    "        print('Error: the given coefficient matrix is not square')\n",
    "        return\n",
    "    \n",
    "    if A.shape[0] != b.size:\n",
    "        print('Error: the shape of the coefficient matrix does not match the size of the RHS')\n",
    "        return\n",
    "     \n",
    "    n = A.shape[0]\n",
    "    \n",
    "    if A_from_LU:\n",
    "        for j in range(0,n):       \n",
    "            b[j+1:] = b[j+1:] - A[j+1:,j]*b[j]\n",
    "    else:\n",
    "        for j in range(0,n):  \n",
    "            b[j] = b[j]/A[j,j]\n",
    "            b[j+1:] = b[j+1:] - A[j+1:,j]*b[j]"
   ]
  },
  {
   "cell_type": "code",
   "execution_count": 8,
   "id": "899c4e41",
   "metadata": {},
   "outputs": [
    {
     "name": "stdout",
     "output_type": "stream",
     "text": [
      "The matrix A after LU decomposition is \n",
      "[[ 2.   3.  -1. ]\n",
      " [ 2.  -8.   5. ]\n",
      " [ 1.   0.5  0.5]]\n",
      "After forward substition, the vector b is\n",
      "[-3 18  1]\n",
      "After backward substition, the vector b is\n",
      "[ 1 -1  2]\n"
     ]
    }
   ],
   "source": [
    "A = np.array([[2.,3,-1], [4,-2,3], [2, -1, 2]])\n",
    "b = np.array([-3,12,7])\n",
    "# Perform LU factorization\n",
    "LU(A)\n",
    "print('The matrix A after LU decomposition is ')\n",
    "print(A)\n",
    "# Perform forward substitution\n",
    "forward_sub(A,b,True)\n",
    "print('After forward substition, the vector b is')\n",
    "print(b)\n",
    "# Perform back substitution\n",
    "back_sub(A,b)\n",
    "print('After backward substition, the vector b is')\n",
    "print(b)"
   ]
  },
  {
   "cell_type": "code",
   "execution_count": 9,
   "id": "f4cb686a",
   "metadata": {},
   "outputs": [],
   "source": [
    "def GEPP(A, b):\n",
    "    \"\"\"\n",
    "    Gaussian elimination with partial pivoting. \n",
    "    The coefficient matrix A is modified in place.\n",
    "    A: the coefficient matrix of size n x n\n",
    "    b: the right hand side of size n    \n",
    "    Return:\n",
    "    None. The solution is stored in b\n",
    "    \"\"\"\n",
    "    if A.shape[0] != A.shape[1]:\n",
    "        print('Error: the given coefficient matrix is not square')\n",
    "        return  \n",
    "     \n",
    "    n = A.shape[0]\n",
    "\n",
    "    for j in range(n-1):\n",
    "        # find p\n",
    "        p = np.argmax(np.abs(A[j:,j]))        \n",
    "        if p+j != j:\n",
    "            # change rows p and j of A and b:\n",
    "            A[[p+j, j]] = A[[j, p+j]]\n",
    "            b[[p+j, j]] = b[[j, p+j]]\n",
    "        for i in range(j+1, n):\n",
    "            # The multiplier\n",
    "            mp = A[i,j]/A[j,j]\n",
    "            A[i,j] = 0.\n",
    "            b[i] = b[i] - mp*b[j]\n",
    "            for k in range(j+1,n):\n",
    "                A[i,k] = A[i,k] - mp*A[j,k]"
   ]
  },
  {
   "cell_type": "code",
   "execution_count": 16,
   "id": "fc26196c",
   "metadata": {},
   "outputs": [
    {
     "name": "stdout",
     "output_type": "stream",
     "text": [
      "Solve the linear system: \n",
      "[[ 3. -2.  1.]\n",
      " [ 6.  1. -3.]\n",
      " [-4.  3. -2.]] x =  [-1. 18.  3.]\n",
      "After Gaussian elimination with partial pivoting, A becomes:\n",
      "[[ 6.          1.         -3.        ]\n",
      " [ 0.          3.66666667 -4.        ]\n",
      " [ 0.          0.         -0.22727273]]\n",
      "After Gaussian elimination with partial pivoting, b becomes:\n",
      "[18.         15.          0.22727273]\n",
      "The solution is  [ 2.  3. -1.]\n",
      "CPU times: total: 0 ns\n",
      "Wall time: 3.24 ms\n"
     ]
    }
   ],
   "source": [
    "%%time\n",
    "\n",
    "A = np.array([[3., -2, 1], \n",
    "              [6, 1, -3], \n",
    "              [-4, 3, -2]])\n",
    "b = np.array([-1., 18, 3])\n",
    "print('Solve the linear system: ')\n",
    "print(A, 'x = ', b)\n",
    "GEPP(A, b)\n",
    "print('After Gaussian elimination with partial pivoting, A becomes:')\n",
    "print(A)\n",
    "print('After Gaussian elimination with partial pivoting, b becomes:')\n",
    "print(b)\n",
    "back_sub(A, b)\n",
    "print('The solution is ', b)"
   ]
  },
  {
   "cell_type": "markdown",
   "id": "a3870c27",
   "metadata": {},
   "source": [
    "The partial pivoting algorithm leads to a new matrix factorization for A, which takes the form of \n",
    "\n",
    "$$ PA = LU $$\n",
    "\n",
    "where $L$ and $U$ have the same forms as defined in $LU$ factorization, and $P$ is a permutation matrix. \n",
    "\n",
    "A permutation matrix is a square matis where every entry is either a $1$ or a $0$ that can be obtained by a sequence of exchanges of rows or columns of the identity matrix of the same dimension. \n",
    "\n",
    "$$ PAx = Pb $$\n",
    "\n",
    "$$ LUx = Pb $$\n",
    "\n",
    "$$ Lc = Pb $$\n",
    "$$ Ux = C $$"
   ]
  },
  {
   "cell_type": "code",
   "execution_count": 11,
   "id": "4740325c",
   "metadata": {},
   "outputs": [],
   "source": [
    "def PALU(A):\n",
    "    \"\"\"\n",
    "    PA=LU factorization with partial pivoting. \n",
    "    The coefficient matrix A is modified in place.\n",
    "    The lower triangular part of A represents the L matrix, the upper triangular part \n",
    "    (including the diagonal) represents U\n",
    "    A: the coefficient matrix of size n x n\n",
    "    output:\n",
    "    Permutation matrix $P$ is returned, along with $A$ that is changed in place\n",
    "    \"\"\"\n",
    "    if A.shape[0] != A.shape[1]:\n",
    "        print('Error: the given coefficient matrix is not square')\n",
    "        return   \n",
    "     \n",
    "    n = A.shape[0]\n",
    "    P = np.eye(n)\n",
    "\n",
    "    for j in range(n-1):\n",
    "        # find p\n",
    "        p = np.argmax(np.abs(A[j:,j]))        \n",
    "        if p+j != j:\n",
    "            # change rows p and j of A. Update P:\n",
    "            A[[p+j, j]] = A[[j, p+j]]\n",
    "            P[[p+j, j]] = P[[j, p+j]]   \n",
    "        for i in range(j+1, n):\n",
    "            # The multiplier\n",
    "            mp = A[i,j]/A[j,j]\n",
    "            A[i,j] = mp\n",
    "            for k in range(j+1,n):\n",
    "                A[i,k] = A[i,k] - mp*A[j,k]\n",
    "    return P"
   ]
  },
  {
   "cell_type": "code",
   "execution_count": 15,
   "id": "99e5b086",
   "metadata": {},
   "outputs": [
    {
     "name": "stdout",
     "output_type": "stream",
     "text": [
      "Perform PA=LU factorization: \n",
      "Before PA=LU factorization, A = \n",
      "[[ 3. -2.  1.]\n",
      " [ 6.  1. -3.]\n",
      " [-4.  3. -2.]]\n",
      "The PA=LU factorization result is \n",
      "After PA=LU factorization, A = \n",
      "[[ 6.          1.         -3.        ]\n",
      " [-0.66666667  3.66666667 -4.        ]\n",
      " [ 0.5        -0.68181818 -0.22727273]]\n",
      "The permutation matrix P = \n",
      "[[0. 1. 0.]\n",
      " [0. 0. 1.]\n",
      " [1. 0. 0.]]\n",
      "CPU times: total: 0 ns\n",
      "Wall time: 6.52 ms\n"
     ]
    }
   ],
   "source": [
    "%%time\n",
    "\n",
    "A = np.array([[3., -2, 1], [6, 1, -3], [-4, 3, -2]])\n",
    "print('Perform PA=LU factorization: ')\n",
    "print('Before PA=LU factorization, A = ')\n",
    "print(A)\n",
    "\n",
    "P = PALU(A)\n",
    "print('The PA=LU factorization result is ')\n",
    "print('After PA=LU factorization, A = ')\n",
    "print(A)\n",
    "print('The permutation matrix P = ')\n",
    "print(P)"
   ]
  },
  {
   "cell_type": "code",
   "execution_count": 18,
   "id": "73e806fa",
   "metadata": {},
   "outputs": [],
   "source": [
    "import struct\n",
    "def float2bin(f):\n",
    "    (d,) = struct.unpack(\">Q\", struct.pack(\">d\", f))\n",
    "    return f'{d:064b}'\n",
    "\n",
    "def bin2float(b):\n",
    "    b = b.replace(\" \", \"\")  # Remove spaces if present\n",
    "    d = int(b, 2)\n",
    "    packed = struct.pack(\">Q\", d)\n",
    "    f = struct.unpack(\">d\", packed)[0]\n",
    "    return f"
   ]
  },
  {
   "cell_type": "code",
   "execution_count": 19,
   "id": "302c7889",
   "metadata": {},
   "outputs": [
    {
     "data": {
      "text/plain": [
       "'0100000000100100000000000000000000000000000000000000000000000000'"
      ]
     },
     "execution_count": 19,
     "metadata": {},
     "output_type": "execute_result"
    }
   ],
   "source": [
    "float2bin(10)"
   ]
  },
  {
   "cell_type": "code",
   "execution_count": 26,
   "id": "c273d648",
   "metadata": {},
   "outputs": [
    {
     "data": {
      "text/plain": [
       "10.0"
      ]
     },
     "execution_count": 26,
     "metadata": {},
     "output_type": "execute_result"
    }
   ],
   "source": [
    "bin2float('0 10000000010 0100000000000000000000000000000000000000000000000000')"
   ]
  },
  {
   "cell_type": "code",
   "execution_count": null,
   "id": "bd5a1523",
   "metadata": {},
   "outputs": [],
   "source": []
  }
 ],
 "metadata": {
  "kernelspec": {
   "display_name": "Python 3 (ipykernel)",
   "language": "python",
   "name": "python3"
  },
  "language_info": {
   "codemirror_mode": {
    "name": "ipython",
    "version": 3
   },
   "file_extension": ".py",
   "mimetype": "text/x-python",
   "name": "python",
   "nbconvert_exporter": "python",
   "pygments_lexer": "ipython3",
   "version": "3.11.4"
  }
 },
 "nbformat": 4,
 "nbformat_minor": 5
}
