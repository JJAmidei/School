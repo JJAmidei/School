{
 "cells": [
  {
   "cell_type": "code",
   "execution_count": 21,
   "id": "42d21aa6",
   "metadata": {},
   "outputs": [
    {
     "name": "stdout",
     "output_type": "stream",
     "text": [
      "CPU times: total: 7.28 s\n",
      "Wall time: 8.9 s\n",
      "[       0        1        2 ... 99999997 99999998 99999999]\n"
     ]
    }
   ],
   "source": [
    "import numpy as np \n",
    "\n",
    "# %time es una magia de línea que informa cuánto tiempo tomó\n",
    "# ejecutar una línea especiífica \n",
    "\n",
    "%time x = np.array(range(100000000))\n",
    "print(x)\n",
    "\n",
    "\n",
    "\n"
   ]
  },
  {
   "cell_type": "code",
   "execution_count": 20,
   "id": "3eec80a3",
   "metadata": {},
   "outputs": [
    {
     "name": "stdout",
     "output_type": "stream",
     "text": [
      "CPU times: total: 93.8 ms\n",
      "Wall time: 121 ms\n"
     ]
    }
   ],
   "source": [
    "# %%time es una magia de celda que informa cuánto tiempo tomó\n",
    "# ejecutar una celda específica. \n",
    "\n",
    "%%time\n",
    "total = 0\n",
    "for i in range(1000000):\n",
    "    total += i\n"
   ]
  },
  {
   "cell_type": "code",
   "execution_count": 23,
   "id": "9338cc53",
   "metadata": {},
   "outputs": [
    {
     "data": {
      "text/plain": [
       "array([1, 2, 3, 4, 5, 6, 7, 8])"
      ]
     },
     "execution_count": 23,
     "metadata": {},
     "output_type": "execute_result"
    }
   ],
   "source": [
    "import numpy as np \n",
    "\n",
    "x = np.array(range(1,9))\n",
    "x"
   ]
  },
  {
   "cell_type": "code",
   "execution_count": 24,
   "id": "b8f66d7b",
   "metadata": {},
   "outputs": [
    {
     "name": "stdout",
     "output_type": "stream",
     "text": [
      "[4 5 6 7 8]\n"
     ]
    }
   ],
   "source": [
    "print(x[3:8])"
   ]
  },
  {
   "cell_type": "code",
   "execution_count": 26,
   "id": "9c16fe99",
   "metadata": {},
   "outputs": [],
   "source": [
    "from sympy import *"
   ]
  },
  {
   "cell_type": "code",
   "execution_count": 27,
   "id": "fbd3878d",
   "metadata": {},
   "outputs": [
    {
     "data": {
      "text/latex": [
       "$\\displaystyle \\left[\\begin{matrix}1 & 2 & 3 & 4 & 5 & 6 & 7 & 8\\end{matrix}\\right]$"
      ],
      "text/plain": [
       "Matrix([[1, 2, 3, 4, 5, 6, 7, 8]])"
      ]
     },
     "execution_count": 27,
     "metadata": {},
     "output_type": "execute_result"
    }
   ],
   "source": [
    "A = Matrix([[1,2,3,4,5,6,7,8]])\n",
    "A"
   ]
  },
  {
   "cell_type": "code",
   "execution_count": 28,
   "id": "d5433081",
   "metadata": {},
   "outputs": [
    {
     "data": {
      "text/plain": [
       "[4, 5, 6, 7, 8]"
      ]
     },
     "execution_count": 28,
     "metadata": {},
     "output_type": "execute_result"
    }
   ],
   "source": [
    "A[3:8]"
   ]
  },
  {
   "cell_type": "code",
   "execution_count": 7,
   "id": "54e5305c",
   "metadata": {},
   "outputs": [
    {
     "data": {
      "text/plain": [
       "'0011111111110000000000000000000000000000000000000000000000000000'"
      ]
     },
     "execution_count": 7,
     "metadata": {},
     "output_type": "execute_result"
    }
   ],
   "source": [
    "import struct\n",
    "import numpy as np\n",
    "\n",
    "def float2bin(f):\n",
    "    (d,) = struct.unpack(\">Q\", struct.pack(\">d\", f))\n",
    "    return f'{d:064b}'\n",
    "float2bin(1.0)"
   ]
  },
  {
   "cell_type": "code",
   "execution_count": 18,
   "id": "c7265044",
   "metadata": {},
   "outputs": [
    {
     "data": {
      "text/plain": [
       "1.0000000000000002"
      ]
     },
     "execution_count": 18,
     "metadata": {},
     "output_type": "execute_result"
    }
   ],
   "source": [
    "import struct\n",
    "import numpy as np\n",
    "\n",
    "def bin2float(binary_str):\n",
    "    binary_str = binary_str.replace(\" \", \"\")  # Remove spaces if present\n",
    "    d = int(binary_str, 2)\n",
    "    packed = struct.pack(\">Q\", d)\n",
    "    f = struct.unpack(\">d\", packed)[0]\n",
    "    return f\n",
    "\n",
    "bin2float('0011111111110000000000000000000000000000000000000000000000000001')\n",
    "bin2float('0000000000000000000000000000000000000000000000000000000000000001')"
   ]
  },
  {
   "cell_type": "code",
   "execution_count": 26,
   "id": "a75fe618",
   "metadata": {},
   "outputs": [
    {
     "name": "stdout",
     "output_type": "stream",
     "text": [
      "1.0000000000000002\n",
      "\n",
      "2.220446049250313e-16\n"
     ]
    }
   ],
   "source": [
    "oneplus = bin2float('0011111111110000000000000000000000000000000000000000000000000001')\n",
    "print(oneplus)\n",
    "print()\n",
    "esp = oneplus - 1.0\n",
    "print(esp)"
   ]
  },
  {
   "cell_type": "code",
   "execution_count": 17,
   "id": "364ecfb6",
   "metadata": {},
   "outputs": [
    {
     "data": {
      "text/plain": [
       "'0011110010110000000000000000000000000000000000000000000000000000'"
      ]
     },
     "execution_count": 17,
     "metadata": {},
     "output_type": "execute_result"
    }
   ],
   "source": [
    "float2bin(oneplus - 1.0)"
   ]
  },
  {
   "cell_type": "code",
   "execution_count": 23,
   "id": "da0f97e0",
   "metadata": {},
   "outputs": [
    {
     "name": "stdout",
     "output_type": "stream",
     "text": [
      "0 1.0 2.0\n",
      "1 0.5 1.5\n",
      "2 0.25 1.25\n",
      "3 0.125 1.125\n",
      "4 0.0625 1.0625\n",
      "5 0.03125 1.03125\n",
      "6 0.015625 1.015625\n",
      "7 0.0078125 1.0078125\n",
      "8 0.00390625 1.00390625\n",
      "9 0.001953125 1.001953125\n",
      "10 0.0009765625 1.0009765625\n",
      "11 0.00048828125 1.00048828125\n",
      "12 0.000244140625 1.000244140625\n",
      "13 0.0001220703125 1.0001220703125\n",
      "14 6.103515625e-05 1.00006103515625\n",
      "15 3.0517578125e-05 1.000030517578125\n",
      "16 1.52587890625e-05 1.0000152587890625\n",
      "17 7.62939453125e-06 1.0000076293945312\n",
      "18 3.814697265625e-06 1.0000038146972656\n",
      "19 1.9073486328125e-06 1.0000019073486328\n",
      "20 9.5367431640625e-07 1.0000009536743164\n",
      "21 4.76837158203125e-07 1.0000004768371582\n",
      "22 2.384185791015625e-07 1.000000238418579\n",
      "23 1.1920928955078125e-07 1.0000001192092896\n",
      "24 5.960464477539063e-08 1.0000000596046448\n",
      "25 2.9802322387695312e-08 1.0000000298023224\n",
      "26 1.4901161193847656e-08 1.0000000149011612\n",
      "27 7.450580596923828e-09 1.0000000074505806\n",
      "28 3.725290298461914e-09 1.0000000037252903\n",
      "29 1.862645149230957e-09 1.0000000018626451\n",
      "30 9.313225746154785e-10 1.0000000009313226\n",
      "31 4.656612873077393e-10 1.0000000004656613\n",
      "32 2.3283064365386963e-10 1.0000000002328306\n",
      "33 1.1641532182693481e-10 1.0000000001164153\n",
      "34 5.820766091346741e-11 1.0000000000582077\n",
      "35 2.9103830456733704e-11 1.0000000000291038\n",
      "36 1.4551915228366852e-11 1.000000000014552\n",
      "37 7.275957614183426e-12 1.000000000007276\n",
      "38 3.637978807091713e-12 1.000000000003638\n",
      "39 1.8189894035458565e-12 1.000000000001819\n",
      "40 9.094947017729282e-13 1.0000000000009095\n",
      "41 4.547473508864641e-13 1.0000000000004547\n",
      "42 2.2737367544323206e-13 1.0000000000002274\n",
      "43 1.1368683772161603e-13 1.0000000000001137\n",
      "44 5.684341886080802e-14 1.0000000000000568\n",
      "45 2.842170943040401e-14 1.0000000000000284\n",
      "46 1.4210854715202004e-14 1.0000000000000142\n",
      "47 7.105427357601002e-15 1.000000000000007\n",
      "48 3.552713678800501e-15 1.0000000000000036\n",
      "49 1.7763568394002505e-15 1.0000000000000018\n",
      "50 8.881784197001252e-16 1.0000000000000009\n",
      "51 4.440892098500626e-16 1.0000000000000004\n",
      "52 2.220446049250313e-16 1.0000000000000002\n",
      "53 1.1102230246251565e-16 1.0\n",
      "2.220446049250313e-16\n"
     ]
    }
   ],
   "source": [
    "a=1.0 \n",
    "for i in range(100):\n",
    "    print(i, a, 1.0+a)\n",
    "    if 1.0+a == 1.0:\n",
    "        break\n",
    "    b=a\n",
    "    a=a/2\n",
    "print(b) # b = el constante de maquina, el valor que es 2 veces mas el error de numeros de 'floating point'"
   ]
  },
  {
   "cell_type": "code",
   "execution_count": 122,
   "id": "c8c44de1",
   "metadata": {},
   "outputs": [
    {
     "name": "stdout",
     "output_type": "stream",
     "text": [
      "inf\n",
      "-0.0\n"
     ]
    },
    {
     "data": {
      "text/plain": [
       "68"
      ]
     },
     "execution_count": 122,
     "metadata": {},
     "output_type": "execute_result"
    }
   ],
   "source": [
    "print(bin2float('0 11111 11111 1 0000000000000000000000000000000000000000000000000000'))\n",
    "print(bin2float('1 00000 00000 0 0000000000000000000000000000000000000000000000000000'))\n",
    "\n",
    "# el primero espacio es por el signo, las 11 despúes son el exponente y el resto es la mantissa. \n",
    "# cada espacio tiene un valor maximo de 1\n",
    "\n",
    "len('0 11111 11111 1 0000000000000000000000000000000000000000000000000000')"
   ]
  },
  {
   "cell_type": "code",
   "execution_count": 127,
   "id": "7921a40b",
   "metadata": {},
   "outputs": [
    {
     "name": "stdout",
     "output_type": "stream",
     "text": [
      "-0.0\n"
     ]
    }
   ],
   "source": [
    "print(bin2float('1 00000 00000 0 0000000000000000000000000000000000000000000000000000'))"
   ]
  },
  {
   "cell_type": "code",
   "execution_count": 124,
   "id": "59b17137",
   "metadata": {},
   "outputs": [
    {
     "data": {
      "text/plain": [
       "65"
      ]
     },
     "execution_count": 124,
     "metadata": {},
     "output_type": "execute_result"
    }
   ],
   "source": [
    "len('0 00000 00000 0 0000000000000000000000000000000000000000000000001')"
   ]
  },
  {
   "cell_type": "code",
   "execution_count": 73,
   "id": "620abc09",
   "metadata": {},
   "outputs": [
    {
     "name": "stdout",
     "output_type": "stream",
     "text": [
      "inf + inf = inf\n",
      "\n",
      "inf - inf = nan\n",
      "\n",
      "inf * inf = inf\n",
      "\n",
      "inf / inf = nan\n",
      "\n",
      "inf^inf =  inf\n",
      "\n",
      "inf^-inf =  0.0\n",
      "\n",
      "CPU times: total: 0 ns\n",
      "Wall time: 0 ns\n"
     ]
    }
   ],
   "source": [
    "%%time\n",
    "import numpy as np\n",
    "np.inf\n",
    "print('inf + inf =', np.inf+np.inf)\n",
    "print()\n",
    "print('inf - inf =', np.inf-np.inf)\n",
    "print()\n",
    "print('inf * inf =', np.inf*np.inf)\n",
    "print()\n",
    "print('inf / inf =', np.inf/np.inf)\n",
    "print()\n",
    "print('inf^inf = ', np.inf**np.inf)\n",
    "print()\n",
    "print('inf^-inf = ', np.inf**-np.inf)\n",
    "print()"
   ]
  },
  {
   "cell_type": "code",
   "execution_count": 56,
   "id": "6dc391aa",
   "metadata": {},
   "outputs": [
    {
     "data": {
      "text/plain": [
       "False"
      ]
     },
     "execution_count": 56,
     "metadata": {},
     "output_type": "execute_result"
    }
   ],
   "source": [
    "a = np.nan\n",
    "a==np.nan"
   ]
  },
  {
   "cell_type": "code",
   "execution_count": 4,
   "id": "027e57a1",
   "metadata": {},
   "outputs": [
    {
     "name": "stdout",
     "output_type": "stream",
     "text": [
      "1 1\n",
      "2 4\n",
      "3 27\n",
      "4 256\n",
      "5 3125\n",
      "6 46656\n"
     ]
    }
   ],
   "source": [
    "def fact(n):\n",
    "    k = 1\n",
    "    for i in range(1, n + 1):\n",
    "        k *= i\n",
    "    return k\n",
    "\n",
    "def h(n):\n",
    "    return n**n\n",
    "\n",
    "def g(n):\n",
    "    return n**n/fact(n)\n",
    "\n",
    "def printr(n):\n",
    "    for k in range(n):\n",
    "        print(k+1, h(k+1))\n",
    "\n",
    "printr(6)"
   ]
  },
  {
   "cell_type": "code",
   "execution_count": 1,
   "id": "f5e4429f",
   "metadata": {},
   "outputs": [
    {
     "data": {
      "text/plain": [
       "26.041666666666668"
      ]
     },
     "execution_count": 1,
     "metadata": {},
     "output_type": "execute_result"
    }
   ],
   "source": [
    "from scipy.special import factorial \n",
    "f = lambda n: n**n/factorial(n)\n",
    "f(5)"
   ]
  },
  {
   "cell_type": "code",
   "execution_count": 5,
   "id": "2746636c",
   "metadata": {},
   "outputs": [
    {
     "data": {
      "text/plain": [
       "2.89373"
      ]
     },
     "execution_count": 5,
     "metadata": {},
     "output_type": "execute_result"
    }
   ],
   "source": [
    "1.234 *2.345 # se volvera' un numero con 5 decimos \n",
    "\n",
    "# porque se corta a la mantisa de 52 lugares "
   ]
  },
  {
   "cell_type": "code",
   "execution_count": null,
   "id": "96ccfa3b",
   "metadata": {},
   "outputs": [],
   "source": []
  }
 ],
 "metadata": {
  "kernelspec": {
   "display_name": "Python 3 (ipykernel)",
   "language": "python",
   "name": "python3"
  },
  "language_info": {
   "codemirror_mode": {
    "name": "ipython",
    "version": 3
   },
   "file_extension": ".py",
   "mimetype": "text/x-python",
   "name": "python",
   "nbconvert_exporter": "python",
   "pygments_lexer": "ipython3",
   "version": "3.11.4"
  }
 },
 "nbformat": 4,
 "nbformat_minor": 5
}
