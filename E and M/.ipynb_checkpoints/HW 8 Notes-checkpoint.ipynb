{
 "cells": [
  {
   "cell_type": "code",
   "execution_count": 2,
   "id": "ece79492",
   "metadata": {},
   "outputs": [],
   "source": [
    "import numpy as np\n",
    "import matplotlib.pyplot as plt \n",
    "%matplotlib inline"
   ]
  },
  {
   "cell_type": "code",
   "execution_count": 7,
   "id": "fbc55f48",
   "metadata": {},
   "outputs": [
    {
     "data": {
      "text/plain": [
       "-780"
      ]
     },
     "execution_count": 7,
     "metadata": {},
     "output_type": "execute_result"
    }
   ],
   "source": [
    "# Question 1\n",
    "\n",
    "i = np.array([4,4,6]) \n",
    "f = np.array([6,4,8])\n",
    "\n",
    "E = np.array([900,210,-510])\n",
    "\n",
    "V = -np.dot(E,(f-i))\n",
    "V"
   ]
  },
  {
   "cell_type": "code",
   "execution_count": 9,
   "id": "d840f0ef",
   "metadata": {},
   "outputs": [
    {
     "data": {
      "text/plain": [
       "10333.333333333334"
      ]
     },
     "execution_count": 9,
     "metadata": {},
     "output_type": "execute_result"
    }
   ],
   "source": [
    "# Question 2\n",
    "\n",
    "d = 3e-3 # meters\n",
    "V = 31 # Volts\n",
    "\n",
    "E = V/d\n",
    "E"
   ]
  },
  {
   "cell_type": "code",
   "execution_count": 26,
   "id": "83d4544d",
   "metadata": {},
   "outputs": [
    {
     "data": {
      "text/plain": [
       "-128.34323309562848"
      ]
     },
     "execution_count": 26,
     "metadata": {},
     "output_type": "execute_result"
    }
   ],
   "source": [
    "# Question 3\n",
    "\n",
    "eps = 8.85e-12 #C^2/(N*m^2)\n",
    "\n",
    "r = 6.8 # meters\n",
    "s = 1.0e-3 # meters\n",
    "t = 0.5e-3 # meters\n",
    "\n",
    "q = 3.3e-4 # Coulombs \n",
    "\n",
    "A = np.pi*r**2\n",
    "q_density = q/A\n",
    "\n",
    "E = q_density/eps\n",
    "\n",
    "# E = -dV/dr  \n",
    "# -E*dr = dV\n",
    "\n",
    "dr = (s)/2\n",
    "dV = -E*dr\n",
    "dV"
   ]
  },
  {
   "cell_type": "code",
   "execution_count": 34,
   "id": "6500c499",
   "metadata": {},
   "outputs": [
    {
     "name": "stdout",
     "output_type": "stream",
     "text": [
      "1473.8393515106852\n",
      "-5.895357406042741\n",
      "33.40702530090886\n",
      "27.51166789486612\n",
      "4.401866863178579e-18\n"
     ]
    }
   ],
   "source": [
    "# Question 4 \n",
    "\n",
    "t = 0.02e-3 # meters\n",
    "s1 = 4e-3 # meters, between 1 and 2\n",
    "s2 = 1.7e-3 # meters, between 2 and 3\n",
    "d = 3e-3 # meters, between A and B\n",
    "\n",
    "eps = 8.85e-12 #C^2 * N^-1 * m*-2\n",
    "\n",
    "A = 2.3 # meters^2\n",
    "\n",
    "Q1 = 3e-8 # Coulombs \n",
    "Q2 = 4e-7 # Coulombs\n",
    "\n",
    "E_12 = Q1/(A*eps)\n",
    "\n",
    "print(E_12)\n",
    "\n",
    "del_V_CB = -E_12*s1\n",
    "\n",
    "print(del_V_CB)\n",
    "\n",
    "E_23 = Q2/(A*eps)\n",
    "del_V_FD = E_23*s2\n",
    "\n",
    "print(del_V_FD)\n",
    "\n",
    "del_V_GA = del_V_CB + del_V_FD \n",
    "\n",
    "print(del_V_GA)\n",
    "\n",
    "del_U = del_V_GA*(-1.6e-19)\n",
    "\n",
    "print(del_U)"
   ]
  },
  {
   "cell_type": "code",
   "execution_count": 37,
   "id": "291d1ade",
   "metadata": {},
   "outputs": [
    {
     "data": {
      "text/plain": [
       "0.2406092014568789"
      ]
     },
     "execution_count": 37,
     "metadata": {},
     "output_type": "execute_result"
    }
   ],
   "source": [
    "# Question 5\n",
    "\n",
    "r = 2e-2 \n",
    "E = 311 \n",
    "theta = (90-38)*np.pi/180\n",
    "A = np.pi*r**2\n",
    "flux = E*A*np.cos(theta)\n",
    "flux"
   ]
  },
  {
   "cell_type": "code",
   "execution_count": 44,
   "id": "a42d1d3b",
   "metadata": {},
   "outputs": [
    {
     "data": {
      "text/plain": [
       "4.248e-12"
      ]
     },
     "execution_count": 44,
     "metadata": {},
     "output_type": "execute_result"
    }
   ],
   "source": [
    "# Question 6\n",
    "\n",
    "flux_left = (250)*(2*3)*10**(-4)*np.cos(np.pi)\n",
    "flux_right = (1050)*(2*3)*10**(-4)*np.cos(0)\n",
    "# zero everywhere else because the area vectors from \n",
    "# every other surface are orthogonal to the electric field. \n",
    "\n",
    "eps = 8.85e-12\n",
    "\n",
    "flux_tot = flux_left + flux_right \n",
    "\n",
    "q_enc = eps*flux_tot\n",
    "q_enc"
   ]
  },
  {
   "cell_type": "code",
   "execution_count": 62,
   "id": "aa5c5bef",
   "metadata": {},
   "outputs": [
    {
     "data": {
      "text/plain": [
       "6.383314901390963e-12"
      ]
     },
     "execution_count": 62,
     "metadata": {},
     "output_type": "execute_result"
    }
   ],
   "source": [
    "# Question 7\n",
    "\n",
    "eps = 8.85e-12 \n",
    "\n",
    "# part a\n",
    "E1 = 1600\n",
    "E2 = 1050\n",
    "E3 = 700\n",
    "\n",
    "A = 20e-2 * 3e-2\n",
    "\n",
    "# part b \n",
    "E1 = 1500\n",
    "E3 = 1000\n",
    "A = np.pi*(2.5e-2)**2\n",
    "flux_1 = E1*A*np.cos(np.pi)\n",
    "flux_3 = E3*A*np.cos(0)\n",
    "flux_tot = flux_1 + flux_3\n",
    "q_enc = flux_tot*eps\n",
    "\n",
    "# part c\n",
    "E1 = 90\n",
    "E2 = 450\n",
    "E3 = 220\n",
    "E4 = 225\n",
    "E5 = 270\n",
    "\n",
    "A_l = (4*5)*10**(-4)\n",
    "A_r = (12*5)*10**(-4)\n",
    "\n",
    "flux_l = A_l*E1*np.cos(np.pi)\n",
    "\n",
    "theta = (90-19.5)*np.pi/180\n",
    "\n",
    "flux_r = E2*A_r*np.cos(theta)\n",
    "\n",
    "flux_tot = flux_l + flux_r\n",
    "q_enc_c = eps*flux_tot\n",
    "q_enc_c"
   ]
  },
  {
   "cell_type": "code",
   "execution_count": 63,
   "id": "5617d7ae",
   "metadata": {},
   "outputs": [
    {
     "data": {
      "text/plain": [
       "3.3707947098471073e-12"
      ]
     },
     "execution_count": 63,
     "metadata": {},
     "output_type": "execute_result"
    }
   ],
   "source": [
    "# Question 8\n",
    "\n",
    "E1 = 120\n",
    "E2 = 310\n",
    "E3 = 150\n",
    "E4 = 160\n",
    "E5 = 180\n",
    "\n",
    "A_l = (4*5)*10**(-4)\n",
    "A_r = (12*5)*10**(-4)\n",
    "\n",
    "flux_l = A_l*E1*np.cos(np.pi)\n",
    "\n",
    "theta = (90-19.5)*np.pi/180\n",
    "\n",
    "flux_r = E2*A_r*np.cos(theta)\n",
    "\n",
    "flux_tot = flux_l + flux_r\n",
    "q_enc_c = eps*flux_tot\n",
    "q_enc_c"
   ]
  },
  {
   "cell_type": "code",
   "execution_count": 66,
   "id": "44a2bf02",
   "metadata": {},
   "outputs": [
    {
     "data": {
      "text/plain": [
       "0.004523893421169302"
      ]
     },
     "execution_count": 66,
     "metadata": {},
     "output_type": "execute_result"
    }
   ],
   "source": [
    "# Question 9\n",
    "\n",
    "Bi = 0.4 \n",
    "Bo = 0\n",
    "r_s = 6e-2\n",
    "r_r = 12e-2\n",
    "\n",
    "A_s = np.pi*r_s**2\n",
    "\n",
    "flux_Bi = Bi * A_s\n",
    "flux_Bi\n"
   ]
  },
  {
   "cell_type": "code",
   "execution_count": null,
   "id": "d6350d02",
   "metadata": {},
   "outputs": [],
   "source": []
  }
 ],
 "metadata": {
  "kernelspec": {
   "display_name": "Python 3 (ipykernel)",
   "language": "python",
   "name": "python3"
  },
  "language_info": {
   "codemirror_mode": {
    "name": "ipython",
    "version": 3
   },
   "file_extension": ".py",
   "mimetype": "text/x-python",
   "name": "python",
   "nbconvert_exporter": "python",
   "pygments_lexer": "ipython3",
   "version": "3.11.5"
  }
 },
 "nbformat": 4,
 "nbformat_minor": 5
}
