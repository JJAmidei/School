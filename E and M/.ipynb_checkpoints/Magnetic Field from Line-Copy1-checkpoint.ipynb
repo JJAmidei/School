{
 "cells": [
  {
   "cell_type": "code",
   "execution_count": 3,
   "id": "7f9307ca",
   "metadata": {
    "scrolled": false
   },
   "outputs": [
    {
     "name": "stdout",
     "output_type": "stream",
     "text": [
      "\n",
      "\n",
      "The total B field due to 1000 line segments is [0.0000000e+00 0.0000000e+00 5.7782446e-06]\n",
      "\n",
      "The tells us that the B field is traveling out of the page, which we would expect from the right hand rule.\n"
     ]
    },
    {
     "data": {
      "image/png": "[encoded data removed]",
      "text/plain": [
       "<Figure size 640x480 with 1 Axes>"
      ]
     },
     "metadata": {},
     "output_type": "display_data"
    }
   ],
   "source": [
    "import numpy as np \n",
    "import matplotlib.pyplot as plt \n",
    "\n",
    "n = 1000 # number of line segments\n",
    "L = 1.8 # length of wire\n",
    "B_tot = np.zeros((n,3)) # array for B\n",
    "B_tot_mag = np.zeros(n) \n",
    "rmags = np.zeros(n) \n",
    "I = 7.4 # Amp, current \n",
    "delta_x = L/n\n",
    "a = 0.247 # vertical distance from the wire to the point\n",
    "\n",
    "def magfunc(II, delxx, rr):\n",
    "    BB = ((1.0e-7)*II*np.cross(delxx, rr))/np.dot(rr, rr)**(3/2)\n",
    "    return BB\n",
    "\n",
    "for i in range(n):\n",
    "    # calculating vectors from line segments\n",
    "    dl = np.array([delta_x, 0, 0]) # vector for line segment length\n",
    "    l = np.array([delta_x*(i+0.5), 0, 0])\n",
    "    p = np.array([1/2*(L + delta_x), a, 0])\n",
    "    #p = np.array([])\n",
    "    r = p - l\n",
    "    \n",
    "    eps = 2.220446049250313e-16 # machine epsilon error threshold\n",
    "    r[np.abs(r) < eps] = 0  # truncate values below the set error threshold\n",
    "    \n",
    "    rmag = np.linalg.norm(r)\n",
    "    rmags[i] = rmag\n",
    "    #print(f'The displacement vector from segment {i+1} is {r} m')\n",
    "    #print()\n",
    "    \n",
    "    # calculating the B field vector for each displacement vector r and \n",
    "    # adding them as elements in B_tot array \n",
    "    B = magfunc(I, dl, r)\n",
    "    Bmag = np.linalg.norm(B)\n",
    "    B_tot_mag[i] = Bmag\n",
    "    B_tot[i] = B\n",
    "    \n",
    "    #print(f'The B field vector due to line segment number {i+1} is {B} T')\n",
    "    #print()\n",
    "\n",
    "print()\n",
    "print()\n",
    "print(f'The total B field due to {n} line segments is {sum(B_tot)}')\n",
    "print()\n",
    "print(f'The tells us that the B field is traveling out of the page, which we would expect from the right hand rule.')\n",
    "\n",
    "plt.figure()\n",
    "plt.plot(rmags, B_tot_mag)\n",
    "plt.xlabel('Distance (m)')\n",
    "plt.ylabel('Magnetic Field Strength (T)')\n",
    "plt.title('B field as a function of distance r')\n",
    "plt.show()"
   ]
  },
  {
   "cell_type": "markdown",
   "id": "e3bbbd6d",
   "metadata": {},
   "source": [
    "~This demonstrates the inverse relationship between the distance of the line segment and its contribution to the total magnetic field. The error in the approximate solution above is due to the fact that the point is close to one of he ends of the line. If we were to adjust the point so that its distance from the line was small compared to its distance from the ends, its magnitude would agree with the analytic solution more.~\n",
    "\n"
   ]
  },
  {
   "cell_type": "code",
   "execution_count": 126,
   "id": "cb4d0742",
   "metadata": {
    "scrolled": true
   },
   "outputs": [
    {
     "data": {
      "text/plain": [
       "0.00019999999999999996"
      ]
     },
     "execution_count": 126,
     "metadata": {},
     "output_type": "execute_result"
    }
   ],
   "source": [
    "# comparing the answer above to the analytic solution \n",
    "import numpy as np\n",
    "\n",
    "mu0 = 4*np.pi*10e-7 # N/A^2\n",
    "I = 1 # A\n",
    "a = 1.0e-2\n",
    "\n",
    "def maglinefunc(I, s):\n",
    "    B = mu0*I/(2*np.pi*a) \n",
    "    return B\n",
    "B"
   ]
  },
  {
   "cell_type": "code",
   "execution_count": 88,
   "id": "4edbd47c",
   "metadata": {
    "scrolled": true
   },
   "outputs": [
    {
     "name": "stdout",
     "output_type": "stream",
     "text": [
      "0011111111110000000000000000000000000000000000000000000000000000\n",
      "\n",
      "1.0000000000000002\n",
      "\n",
      "0011110010110000000000000000000000000000000000000000000000000000\n",
      "\n",
      "2.220446049250313e-16\n"
     ]
    }
   ],
   "source": [
    "# calculating machine epsilon error threshold \n",
    "# machine epsilon is the smallest difference between 1.0 and the next number up\n",
    "\n",
    "import struct\n",
    "\n",
    "def float2bin(f):\n",
    "    (d,) = struct.unpack(\">Q\", struct.pack(\">d\", f))\n",
    "    return f'{d:064b}'\n",
    "\n",
    "def bin2float(b):\n",
    "    b = b.replace(\" \", \"\")  \n",
    "    if len(b) != 64:\n",
    "        raise ValueError(\"Binary string must be 64 bits long\")\n",
    "    d = int(b, 2)\n",
    "    f = struct.unpack(\">d\", struct.pack(\">Q\", d))[0]\n",
    "    return f\n",
    "\n",
    "print(float2bin(1.0))\n",
    "print()\n",
    "print(bin2float('0011111111110000000000000000000000000000000000000000000000000001'))\n",
    "print()\n",
    "print(float2bin(1.0000000000000002-1.0))\n",
    "print()\n",
    "print(bin2float('0011110010110000000000000000000000000000000000000000000000000000'))"
   ]
  },
  {
   "cell_type": "code",
   "execution_count": 11,
   "id": "63458286",
   "metadata": {
    "scrolled": true
   },
   "outputs": [
    {
     "data": {
      "text/plain": [
       "0.001"
      ]
     },
     "execution_count": 11,
     "metadata": {},
     "output_type": "execute_result"
    }
   ],
   "source": []
  },
  {
   "cell_type": "code",
   "execution_count": null,
   "id": "e70f8d76",
   "metadata": {
    "scrolled": true
   },
   "outputs": [],
   "source": []
  },
  {
   "cell_type": "code",
   "execution_count": null,
   "id": "a727008e",
   "metadata": {
    "scrolled": true
   },
   "outputs": [],
   "source": []
  }
 ],
 "metadata": {
  "kernelspec": {
   "display_name": "Python 3 (ipykernel)",
   "language": "python",
   "name": "python3"
  },
  "language_info": {
   "codemirror_mode": {
    "name": "ipython",
    "version": 3
   },
   "file_extension": ".py",
   "mimetype": "text/x-python",
   "name": "python",
   "nbconvert_exporter": "python",
   "pygments_lexer": "ipython3",
   "version": "3.11.5"
  }
 },
 "nbformat": 4,
 "nbformat_minor": 5
}
