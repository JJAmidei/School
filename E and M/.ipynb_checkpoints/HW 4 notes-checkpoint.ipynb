{
 "cells": [
  {
   "cell_type": "code",
   "execution_count": 15,
   "id": "51a954c6",
   "metadata": {},
   "outputs": [],
   "source": [
    "import numpy as np \n",
    "import matplotlib.pyplot as plt\n",
    "%matplotlib inline"
   ]
  },
  {
   "cell_type": "code",
   "execution_count": 16,
   "id": "82c558de",
   "metadata": {},
   "outputs": [
    {
     "data": {
      "text/plain": [
       "-1.2274e-22"
      ]
     },
     "execution_count": 16,
     "metadata": {},
     "output_type": "execute_result"
    }
   ],
   "source": [
    "# 4-0 Question 1\n",
    "\n",
    "m = 1.7e-27 # kg\n",
    "v0 = 380 # m/s\n",
    "vf = 0 # m/s\n",
    "K0 = 0.5*m*v0**2\n",
    "Kf = 0.5*m*vf**2\n",
    "del_K = Kf - K0\n",
    "del_K"
   ]
  },
  {
   "cell_type": "code",
   "execution_count": 4,
   "id": "59340ed4",
   "metadata": {},
   "outputs": [
    {
     "data": {
      "text/plain": [
       "-5862.068965517242"
      ]
     },
     "execution_count": 4,
     "metadata": {},
     "output_type": "execute_result"
    }
   ],
   "source": [
    "# 4-0 Question 2\n",
    "\n",
    "del_V = 1700 # Volts\n",
    "d = 0.29 # meters, from A to B\n",
    "# del_V = -Ed\n",
    "E = -del_V/d\n",
    "E"
   ]
  },
  {
   "cell_type": "code",
   "execution_count": 9,
   "id": "780a84d3",
   "metadata": {},
   "outputs": [
    {
     "data": {
      "text/plain": [
       "-18000.0"
      ]
     },
     "execution_count": 9,
     "metadata": {},
     "output_type": "execute_result"
    }
   ],
   "source": [
    "# 4-0 Question 3\n",
    "\n",
    "E_max = 3e6 # N/C\n",
    "d = 6e-3 # meters, distance between capacictor plates\n",
    "V = -E_max*d\n",
    "V"
   ]
  },
  {
   "cell_type": "code",
   "execution_count": 21,
   "id": "c0e56fd4",
   "metadata": {},
   "outputs": [
    {
     "data": {
      "text/plain": [
       "73349981.46025519"
      ]
     },
     "execution_count": 21,
     "metadata": {},
     "output_type": "execute_result"
    }
   ],
   "source": [
    "# 4-0 Question 4\n",
    "\n",
    "e = -1.6e-19 # Coulombs \n",
    "m = 9.1e-31 # kg\n",
    "V = 15300 # volts \n",
    "U = e*V\n",
    "Kf = -U\n",
    "# Kf = 0.5*m*v**2\n",
    "v = np.sqrt(2*Kf/m)\n",
    "v"
   ]
  },
  {
   "cell_type": "code",
   "execution_count": 36,
   "id": "197ecb39",
   "metadata": {},
   "outputs": [
    {
     "data": {
      "text/plain": [
       "8.059999999999999e-17"
      ]
     },
     "execution_count": 36,
     "metadata": {},
     "output_type": "execute_result"
    }
   ],
   "source": [
    "# 4-0 Question 5\n",
    "\n",
    "A = np.array([-0.8, 0, 0]) # meters\n",
    "B = np.array([0.5, 0, 0]) # meters\n",
    "E1 = np.array([575, 0, 0]) # Volt/meter\n",
    "E2 = np.array([-425, 0, 0]) # Volt/meter\n",
    "\n",
    "# part 1\n",
    "\n",
    "# Original answer (incorrect)\n",
    "d = B-A\n",
    "E = E1+E2\n",
    "V = -np.dot(E, d)\n",
    "\n",
    "# corrected answer\n",
    "V1 = -np.dot(E1, A)\n",
    "V2 = -np.dot(E2, B)\n",
    "V_AB = V2 - V1\n",
    "\n",
    "\n",
    "# part 2\n",
    "\n",
    "V1 = -np.dot(E1, A)\n",
    "V2 = -np.dot(E2, B)\n",
    "V_BA = V1 - V2\n",
    "\n",
    "# part 3\n",
    "\n",
    "e_pro = 1.6e-19 # Coulomb\n",
    "K_AB = -e_pro*V_AB\n",
    "K_AB\n",
    "\n",
    "# part 4\n",
    "\n",
    "K0 = 41e-18 # Joules\n",
    "K_B = K_AB + K0\n",
    "K_B"
   ]
  },
  {
   "cell_type": "code",
   "execution_count": 46,
   "id": "48289248",
   "metadata": {},
   "outputs": [
    {
     "data": {
      "text/plain": [
       "-74.66666666666666"
      ]
     },
     "execution_count": 46,
     "metadata": {},
     "output_type": "execute_result"
    }
   ],
   "source": [
    "# 4-0 Question 6 \n",
    "\n",
    "q = 5e-9 # Coulomb\n",
    "s = 6e-3 # meters\n",
    "P1 = np.array([0, 0.05, 0]) # meters\n",
    "P2 = np.array([0, 0.09, 0]) # meters\n",
    "p = q*s # C*meters, electric dipole moment, in y direction\n",
    "p_vec = np.array([0,p,0])\n",
    "k = 9e9\n",
    "\n",
    "del_V = k*p*(1/(0.09**2) - 1/(0.05**2))\n",
    "del_V"
   ]
  },
  {
   "cell_type": "code",
   "execution_count": 54,
   "id": "5f4dbe73",
   "metadata": {},
   "outputs": [
    {
     "data": {
      "text/plain": [
       "7559.469140183868"
      ]
     },
     "execution_count": 54,
     "metadata": {},
     "output_type": "execute_result"
    }
   ],
   "source": [
    "# 4-0 Question 7\n",
    "\n",
    "# part 1\n",
    "\n",
    "E = 3.e6 # V/m\n",
    "L = 90.e-2 # m\n",
    "r = 0.6e-3 # m\n",
    "R = 4.0e-2 # m\n",
    "k = 9.0e9\n",
    "\n",
    "#E = lambda/(2*np.pi*eps*r) = 2*lambda*k/r = 2*q*k/L*r\n",
    "q = (E*L*r)/(2*k)\n",
    "\n",
    "\n",
    "# part 2\n",
    "\n",
    "# dV = -E dr\n",
    "V = ((2*q*k)/L)*np.log(R/r)\n",
    "V"
   ]
  },
  {
   "cell_type": "code",
   "execution_count": 57,
   "id": "d1dccd91",
   "metadata": {},
   "outputs": [
    {
     "data": {
      "text/plain": [
       "-130.47666620362122"
      ]
     },
     "execution_count": 57,
     "metadata": {},
     "output_type": "execute_result"
    }
   ],
   "source": [
    "# 4-0 Question 8 \n",
    "\n",
    "# part 1\n",
    "\n",
    "r = 4.9 # m\n",
    "s = 2.e-3 # m \n",
    "q = 67e-6 # Coulombs\n",
    "s1 = 1.3e-3 # m \n",
    "s2 = 0.6e-2 # m \n",
    "eps = 8.85e-12 # C^2/N*m^2\n",
    "A = np.pi*r**2\n",
    "E = q/(A*eps)\n",
    "\n",
    "# part 2\n",
    "\n",
    "del_V_BA = -E*s1\n",
    "del_V_BA"
   ]
  },
  {
   "cell_type": "code",
   "execution_count": 56,
   "id": "9c4e43e4",
   "metadata": {},
   "outputs": [],
   "source": []
  },
  {
   "cell_type": "code",
   "execution_count": null,
   "id": "0cc5c1b6",
   "metadata": {},
   "outputs": [],
   "source": []
  }
 ],
 "metadata": {
  "kernelspec": {
   "display_name": "Python 3 (ipykernel)",
   "language": "python",
   "name": "python3"
  },
  "language_info": {
   "codemirror_mode": {
    "name": "ipython",
    "version": 3
   },
   "file_extension": ".py",
   "mimetype": "text/x-python",
   "name": "python",
   "nbconvert_exporter": "python",
   "pygments_lexer": "ipython3",
   "version": "3.11.5"
  }
 },
 "nbformat": 4,
 "nbformat_minor": 5
}
