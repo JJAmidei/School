{
 "cells": [
  {
   "cell_type": "code",
   "execution_count": 4,
   "id": "fa310249",
   "metadata": {},
   "outputs": [],
   "source": [
    "import numpy as np \n",
    "import matplotlib.pyplot as plt"
   ]
  },
  {
   "cell_type": "code",
   "execution_count": 49,
   "id": "91ca9b61",
   "metadata": {},
   "outputs": [
    {
     "data": {
      "text/plain": [
       "1.2566370614359173e-06"
      ]
     },
     "execution_count": 49,
     "metadata": {},
     "output_type": "execute_result"
    },
    {
     "data": {
      "image/png": "[encoded data removed]",
      "text/plain": [
       "<Figure size 640x480 with 1 Axes>"
      ]
     },
     "metadata": {},
     "output_type": "display_data"
    }
   ],
   "source": [
    "t = np.linspace(0,60,60)\n",
    "mu = 4.*np.pi*10**(-7)\n",
    "h = 52.\n",
    "l = 17.\n",
    "f = 60.\n",
    "I_0 = 5.e4\n",
    "I = I_0*np.sin(2*np.pi*f*t)\n",
    "plt.plot(t, I)\n",
    "mu"
   ]
  },
  {
   "cell_type": "code",
   "execution_count": 50,
   "id": "fbe3b241",
   "metadata": {},
   "outputs": [
    {
     "data": {
      "text/plain": [
       "6.121197798865121e-05"
      ]
     },
     "execution_count": 50,
     "metadata": {},
     "output_type": "execute_result"
    }
   ],
   "source": [
    "r = np.sqrt((h**2) + ((l/2)**2))\n",
    "\n",
    "B = (mu/(2*np.pi*r))*(2*max(I))*(l/(2*r))\n",
    "B"
   ]
  },
  {
   "cell_type": "code",
   "execution_count": 52,
   "id": "39911abd",
   "metadata": {},
   "outputs": [
    {
     "data": {
      "text/plain": [
       "0.02307637204330161"
      ]
     },
     "execution_count": 52,
     "metadata": {},
     "output_type": "execute_result"
    }
   ],
   "source": [
    "A = 2*0.5\n",
    "emf = B*A*(2*np.pi*f)\n",
    "emf"
   ]
  },
  {
   "cell_type": "code",
   "execution_count": 54,
   "id": "03a93d13",
   "metadata": {},
   "outputs": [
    {
     "data": {
      "text/plain": [
       "0.175"
      ]
     },
     "execution_count": 54,
     "metadata": {},
     "output_type": "execute_result"
    }
   ],
   "source": [
    "l =1.4/8\n",
    "l"
   ]
  },
  {
   "cell_type": "code",
   "execution_count": 71,
   "id": "ddcfeeeb",
   "metadata": {},
   "outputs": [
    {
     "data": {
      "text/plain": [
       "0.4375"
      ]
     },
     "execution_count": 71,
     "metadata": {},
     "output_type": "execute_result"
    }
   ],
   "source": [
    "2.5*.175"
   ]
  },
  {
   "cell_type": "code",
   "execution_count": 80,
   "id": "1b03821f",
   "metadata": {},
   "outputs": [
    {
     "data": {
      "text/plain": [
       "-1e-08"
      ]
     },
     "execution_count": 80,
     "metadata": {},
     "output_type": "execute_result"
    }
   ],
   "source": [
    "q = -8e-8\n",
    "q_2 = q/8\n",
    "q_2"
   ]
  },
  {
   "cell_type": "code",
   "execution_count": 87,
   "id": "8b284810",
   "metadata": {},
   "outputs": [
    {
     "data": {
      "text/plain": [
       "array([-112.00344488,   70.00215305,   -0.        ])"
      ]
     },
     "execution_count": 87,
     "metadata": {},
     "output_type": "execute_result"
    }
   ],
   "source": [
    "k = 9e9\n",
    "r_mag = np.sqrt((0.4375)**2 + (0.7)**2)\n",
    "r = np.array([0.7, -0.4375,0])\n",
    "r_hat = r/r_mag\n",
    "E = ((k*q_2)/r_mag**2)*r_hat\n",
    "E"
   ]
  },
  {
   "cell_type": "code",
   "execution_count": 95,
   "id": "b5c6d618",
   "metadata": {},
   "outputs": [
    {
     "data": {
      "text/plain": [
       "8991804694.457363"
      ]
     },
     "execution_count": 95,
     "metadata": {},
     "output_type": "execute_result"
    }
   ],
   "source": [
    "eps = 8.85e-12\n",
    "Q = 0.6e-7\n",
    "alpha = 1.96e-40\n",
    "L = 0.8\n",
    "d = 1.4*0.01\n",
    "m = 1.99e-26\n",
    "k_sqd = (1/(4*np.pi*eps))**2\n",
    "acc_top = k_sqd*(Q**2)*alpha\n",
    "acc_bot = (L**2)*m*(d**3)\n",
    "acc_top/acc_bot"
   ]
  },
  {
   "cell_type": "code",
   "execution_count": 89,
   "id": "2128bf88",
   "metadata": {},
   "outputs": [
    {
     "data": {
      "text/plain": [
       "0.004629629629629629"
      ]
     },
     "execution_count": 89,
     "metadata": {},
     "output_type": "execute_result"
    }
   ],
   "source": [
    "1/6**3"
   ]
  },
  {
   "cell_type": "code",
   "execution_count": 103,
   "id": "eeef7ee2",
   "metadata": {},
   "outputs": [
    {
     "data": {
      "text/plain": [
       "32.11408092662376"
      ]
     },
     "execution_count": 103,
     "metadata": {},
     "output_type": "execute_result"
    }
   ],
   "source": [
    "k = 8.99e9\n",
    "q = 5e-9\n",
    "l=0.18\n",
    "r = np.sqrt((l/3)**2 + (0.07)**2)\n",
    "\n",
    "((k*q/3)*(l/3))/r**(3/2)"
   ]
  },
  {
   "cell_type": "code",
   "execution_count": 104,
   "id": "0b74468c",
   "metadata": {},
   "outputs": [
    {
     "data": {
      "text/plain": [
       "5741.0"
      ]
     },
     "execution_count": 104,
     "metadata": {},
     "output_type": "execute_result"
    }
   ],
   "source": [
    "1339.9+1339.9+3061.2"
   ]
  },
  {
   "cell_type": "code",
   "execution_count": 128,
   "id": "eb520d98",
   "metadata": {},
   "outputs": [
    {
     "data": {
      "text/plain": [
       "0.16"
      ]
     },
     "execution_count": 128,
     "metadata": {},
     "output_type": "execute_result"
    }
   ],
   "source": [
    "A = np.pi*(16*0.01)**2\n",
    "Q = 8e-6\n",
    "e_0 = 8.85e-12\n",
    "z = 0.02\n",
    "r = 0.16\n",
    "\n",
    "E = Q/(2*A*e_0)\n",
    "\n",
    "E*(1 - (z/(z**2 + r**2)))\n",
    "\n",
    "#E*(1-z/r)\n",
    "E\n",
    "\n",
    "r1=16*1/100\n",
    "r1"
   ]
  },
  {
   "cell_type": "code",
   "execution_count": null,
   "id": "420e4206",
   "metadata": {},
   "outputs": [],
   "source": []
  }
 ],
 "metadata": {
  "kernelspec": {
   "display_name": "Python 3 (ipykernel)",
   "language": "python",
   "name": "python3"
  },
  "language_info": {
   "codemirror_mode": {
    "name": "ipython",
    "version": 3
   },
   "file_extension": ".py",
   "mimetype": "text/x-python",
   "name": "python",
   "nbconvert_exporter": "python",
   "pygments_lexer": "ipython3",
   "version": "3.11.5"
  }
 },
 "nbformat": 4,
 "nbformat_minor": 5
}
