{
 "cells": [
  {
   "cell_type": "code",
   "execution_count": null,
   "id": "fa310249",
   "metadata": {},
   "outputs": [],
   "source": [
    "import numpy as np \n",
    "import matplotlib.pyplot as plt"
   ]
  },
  {
   "cell_type": "code",
   "execution_count": null,
   "id": "91ca9b61",
   "metadata": {},
   "outputs": [],
   "source": [
    "t = np.linspace(0,60,60)\n",
    "mu = 4.*np.pi*10**(-7)\n",
    "h = 52.\n",
    "l = 17.\n",
    "f = 60.\n",
    "I_0 = 5.e4\n",
    "I = I_0*np.sin(2*np.pi*f*t)\n",
    "plt.plot(t, I)\n",
    "mu"
   ]
  },
  {
   "cell_type": "code",
   "execution_count": null,
   "id": "fbe3b241",
   "metadata": {},
   "outputs": [],
   "source": [
    "r = np.sqrt((h**2) + ((l/2)**2))\n",
    "\n",
    "B = (mu/(2*np.pi*r))*(2*max(I))*(l/(2*r))\n",
    "B"
   ]
  },
  {
   "cell_type": "code",
   "execution_count": null,
   "id": "39911abd",
   "metadata": {},
   "outputs": [],
   "source": [
    "A = 2*0.5\n",
    "emf = B*A*(2*np.pi*f)\n",
    "emf"
   ]
  },
  {
   "cell_type": "code",
   "execution_count": null,
   "id": "03a93d13",
   "metadata": {},
   "outputs": [],
   "source": [
    "l =1.4/8\n",
    "l"
   ]
  },
  {
   "cell_type": "code",
   "execution_count": null,
   "id": "ddcfeeeb",
   "metadata": {},
   "outputs": [],
   "source": [
    "2.5*.175"
   ]
  },
  {
   "cell_type": "code",
   "execution_count": null,
   "id": "1b03821f",
   "metadata": {},
   "outputs": [],
   "source": [
    "q = -8e-8\n",
    "q_2 = q/8\n",
    "q_2"
   ]
  },
  {
   "cell_type": "code",
   "execution_count": null,
   "id": "8b284810",
   "metadata": {},
   "outputs": [],
   "source": [
    "k = 9e9\n",
    "r_mag = np.sqrt((0.4375)**2 + (0.7)**2)\n",
    "r = np.array([0.7, -0.4375,0])\n",
    "r_hat = r/r_mag\n",
    "E = ((k*q_2)/r_mag**2)*r_hat\n",
    "E"
   ]
  },
  {
   "cell_type": "code",
   "execution_count": null,
   "id": "b5c6d618",
   "metadata": {},
   "outputs": [],
   "source": [
    "eps = 8.85e-12\n",
    "Q = 0.6e-7\n",
    "alpha = 1.96e-40\n",
    "L = 0.8\n",
    "d = 1.4*0.01\n",
    "m = 1.99e-26\n",
    "k_sqd = (1/(4*np.pi*eps))**2\n",
    "acc_top = k_sqd*(Q**2)*alpha\n",
    "acc_bot = (L**2)*m*(d**3)\n",
    "acc_top/acc_bot"
   ]
  },
  {
   "cell_type": "code",
   "execution_count": null,
   "id": "2128bf88",
   "metadata": {},
   "outputs": [],
   "source": [
    "1/6**3"
   ]
  },
  {
   "cell_type": "code",
   "execution_count": null,
   "id": "eeef7ee2",
   "metadata": {},
   "outputs": [],
   "source": [
    "k = 8.99e9\n",
    "q = 5e-9\n",
    "l=0.18\n",
    "r = np.sqrt((l/3)**2 + (0.07)**2)\n",
    "\n",
    "((k*q/3)*(l/3))/r**(3/2)"
   ]
  },
  {
   "cell_type": "code",
   "execution_count": null,
   "id": "0b74468c",
   "metadata": {},
   "outputs": [],
   "source": [
    "1339.9+1339.9+3061.2"
   ]
  },
  {
   "cell_type": "code",
   "execution_count": null,
   "id": "eb520d98",
   "metadata": {},
   "outputs": [],
   "source": [
    "A = np.pi*(16*0.01)**2\n",
    "Q = 8e-6\n",
    "e_0 = 8.85e-12\n",
    "z = 0.02\n",
    "r = 0.16\n",
    "\n",
    "E = Q/(2*A*e_0)\n",
    "\n",
    "E*(1 - (z/(z**2 + r**2)))\n",
    "\n",
    "#E*(1-z/r)\n",
    "E\n",
    "\n",
    "r1=16*1/100\n",
    "r1"
   ]
  },
  {
   "cell_type": "code",
   "execution_count": null,
   "id": "420e4206",
   "metadata": {},
   "outputs": [],
   "source": [
    "import numpy as np \n",
    "\n",
    "k = 8.99e9\n",
    "r = np.array([0.5, 0, 0])\n",
    "r_mag = np.sqrt(np.dot(r,r))\n",
    "r_hat = r/r_mag\n",
    "q = 5e-9\n",
    "\n",
    "E = k*q*r_hat/r_mag**2\n",
    "E"
   ]
  },
  {
   "cell_type": "code",
   "execution_count": null,
   "id": "d3b72894",
   "metadata": {},
   "outputs": [],
   "source": [
    "q = 1.6e-19\n",
    "E = 400\n",
    "F = q*E\n",
    "F"
   ]
  },
  {
   "cell_type": "code",
   "execution_count": null,
   "id": "d4b58cb9",
   "metadata": {},
   "outputs": [],
   "source": [
    "Q=3*q\n",
    "400*Q"
   ]
  },
  {
   "cell_type": "code",
   "execution_count": null,
   "id": "c77c6308",
   "metadata": {},
   "outputs": [],
   "source": [
    "k=8.99e9\n",
    "r2 = np.array([0.5, -0.2, -0.5])\n",
    "q = 4.5e-9\n",
    "r1 = np.array([-0.6, -0.7, -0.2])\n",
    "r = r2-r1\n",
    "r_mag = np.sqrt(np.dot(r,r))\n",
    "r_hat = r/r_mag\n",
    "\n",
    "E = k*q*r_hat/r_mag**2\n",
    "E"
   ]
  },
  {
   "cell_type": "code",
   "execution_count": null,
   "id": "a2115e80",
   "metadata": {},
   "outputs": [],
   "source": [
    "b = np.array([-0.1, -0.3, 0])\n",
    "b_mag = np.sqrt(np.dot(b,b))\n",
    "b_hat = b/b_mag\n",
    "q = 1e-9\n",
    "k = 8.99e9\n",
    "\n",
    "E = k*q*b_hat/b_mag**2\n",
    "E"
   ]
  },
  {
   "cell_type": "code",
   "execution_count": null,
   "id": "93cd7ce7",
   "metadata": {},
   "outputs": [],
   "source": [
    "a2 = np.array([26e-2,0,0])\n",
    "a1 = np.array([85e-2,0,0])\n",
    "a = a2-a1\n",
    "a_mag = np.sqrt(np.dot(a,a))\n",
    "a_hat = r/r_mag\n",
    "q = -9.5e-9\n",
    "k = 8.99e9\n",
    "\n",
    "E = k*q*a_hat/a_mag**2\n",
    "E"
   ]
  },
  {
   "cell_type": "code",
   "execution_count": 10,
   "id": "d5c11457",
   "metadata": {},
   "outputs": [
    {
     "data": {
      "text/plain": [
       "array([ 1.02606836e-09, -1.53910254e-09,  1.02606836e-09])"
      ]
     },
     "execution_count": 10,
     "metadata": {},
     "output_type": "execute_result"
    }
   ],
   "source": [
    "import numpy as np\n",
    "\n",
    "q = -1.6e-19\n",
    "k=8.99e9\n",
    "r1 = np.array([0.9, 0.7, -0.1])\n",
    "r2 = np.array([0.5, 1.3, -0.5])\n",
    "r = r2-r1\n",
    "rmag = np.sqrt(np.dot(r,r))\n",
    "rhat = r/rmag\n",
    "\n",
    "E = k*q*rhat/rmag**2\n",
    "E"
   ]
  },
  {
   "cell_type": "code",
   "execution_count": 17,
   "id": "0c18212b",
   "metadata": {},
   "outputs": [
    {
     "data": {
      "text/plain": [
       "array([ 0.0000000e+00, -1.8289659e-08,  0.0000000e+00])"
      ]
     },
     "execution_count": 17,
     "metadata": {},
     "output_type": "execute_result"
    }
   ],
   "source": [
    "k = 8.99e9\n",
    "E = 4.3e6\n",
    "qp = 1.6e-19\n",
    "qe = -1.6e-19\n",
    "Ehat = np.array([0,1,0])\n",
    "rhat = -Ehat\n",
    "# +x to the east, +y to the north, +z out of screen\n",
    "\n",
    "rmag = np.sqrt(k*qp/E)\n",
    "r = rhat*rmag\n",
    "r"
   ]
  },
  {
   "cell_type": "code",
   "execution_count": 19,
   "id": "641efa77",
   "metadata": {},
   "outputs": [
    {
     "data": {
      "text/plain": [
       "2.586548386970469e-08"
      ]
     },
     "execution_count": 19,
     "metadata": {},
     "output_type": "execute_result"
    }
   ],
   "source": [
    "k = 8.99e9\n",
    "E = 4.3e6\n",
    "qp = 1.6e-19\n",
    "\n",
    "Ehat = np.array([0,1,0])\n",
    "\n",
    "rpmag = np.sqrt(2*k*qp/E)\n",
    "rpmag"
   ]
  },
  {
   "cell_type": "code",
   "execution_count": 26,
   "id": "ef41d2a6",
   "metadata": {},
   "outputs": [
    {
     "data": {
      "text/plain": [
       "array([-3908.22225668,  -744.90019079,     0.        ])"
      ]
     },
     "execution_count": 26,
     "metadata": {},
     "output_type": "execute_result"
    }
   ],
   "source": [
    "import numpy as np \n",
    "\n",
    "k = 8.99e9\n",
    "q1 = -2e-9\n",
    "q2 = 6e-9\n",
    "a1 = np.array([-0.02, 0.05, 0])\n",
    "a2 = np.array([0.03, -0.03, 0])\n",
    "A = np.array([-0.07, -0.07, 0])\n",
    "r1 = A - a1\n",
    "r2 = A - a2\n",
    "r1mag = np.sqrt(np.dot(r1,r1))\n",
    "r2mag = np.sqrt(np.dot(r2,r2))\n",
    "r1hat = r1/r1mag\n",
    "r2hat = r2/r2mag\n",
    "\n",
    "E1 = k*q1*r1hat/r1mag**2\n",
    "E2 = k*q2*r2hat/r2mag**2\n",
    "E = E1 + E2\n",
    "E"
   ]
  },
  {
   "cell_type": "code",
   "execution_count": 50,
   "id": "07290a07",
   "metadata": {},
   "outputs": [
    {
     "data": {
      "text/plain": [
       "array([1.41751429e+15, 1.64670478e+14, 0.00000000e+00])"
      ]
     },
     "execution_count": 50,
     "metadata": {},
     "output_type": "execute_result"
    }
   ],
   "source": [
    "import numpy as np\n",
    "\n",
    "k=9e9\n",
    "\n",
    "q1 = 1e-6\n",
    "q2 = 9e-6\n",
    "q3 = -4e-6\n",
    "\n",
    "r1 = np.array([0.03, 0, 0])\n",
    "r2 = np.array([0.03, 0.04, 0])\n",
    "r3 = np.array([0, 0.04, 0])\n",
    "r1mag = np.sqrt(np.dot(r1, r1))\n",
    "r2mag = np.sqrt(np.dot(r2, r2))\n",
    "r3mag = np.sqrt(np.dot(r3, r3))\n",
    "r1hat = r1/r1mag\n",
    "r2hat = r2/r2mag\n",
    "r3hat = r3/r3mag\n",
    "\n",
    "E1 = k*q1*r1hat/r1mag**2\n",
    "E2 = k*q2*r2hat/r2mag**2\n",
    "E3 = k*q3*r3hat/r3mag**2\n",
    "E = E1+E2+E3\n",
    "\n",
    "qa = 2*1.6e-19\n",
    "ma = 6.646e-27\n",
    "Fa = qa*E\n",
    "Fa/ma"
   ]
  },
  {
   "cell_type": "code",
   "execution_count": 59,
   "id": "cce9620f",
   "metadata": {},
   "outputs": [
    {
     "data": {
      "text/plain": [
       "287.827286359698"
      ]
     },
     "execution_count": 59,
     "metadata": {},
     "output_type": "execute_result"
    }
   ],
   "source": [
    "import numpy as np\n",
    "\n",
    "k = 9e9\n",
    "q = 4e-9\n",
    "s = 0.001\n",
    "d = 0.05\n",
    "r = np.sqrt(d**2 + s**2)\n",
    "P = q*s\n",
    "Ea = k*2*P/d**3\n",
    "Eb = k*P/r**3\n",
    "Eb"
   ]
  },
  {
   "cell_type": "code",
   "execution_count": 73,
   "id": "97c0ce65",
   "metadata": {},
   "outputs": [
    {
     "data": {
      "text/plain": [
       "3.7272135416666647"
      ]
     },
     "execution_count": 73,
     "metadata": {},
     "output_type": "execute_result"
    }
   ],
   "source": [
    "import numpy as np \n",
    "\n",
    "k = 9e9\n",
    "s1 = 0.4e-3\n",
    "s2 = 0.3e-3\n",
    "q1 = 11e-9\n",
    "q2 = 5e-9\n",
    "P1 = q1*s1\n",
    "P2 = q2*s2\n",
    "d1 = 0.24\n",
    "d2 = 0.16\n",
    "\n",
    "E1 = k*P1/d1**3\n",
    "E2 = k*2*P2/d2**3\n",
    "E2-E1"
   ]
  },
  {
   "cell_type": "code",
   "execution_count": 76,
   "id": "ca69b1ac",
   "metadata": {},
   "outputs": [
    {
     "data": {
      "text/plain": [
       "317.0"
      ]
     },
     "execution_count": 76,
     "metadata": {},
     "output_type": "execute_result"
    }
   ],
   "source": [
    "3.17e-7*1e9"
   ]
  },
  {
   "cell_type": "code",
   "execution_count": null,
   "id": "1671e814",
   "metadata": {},
   "outputs": [],
   "source": []
  }
 ],
 "metadata": {
  "kernelspec": {
   "display_name": "Python 3 (ipykernel)",
   "language": "python",
   "name": "python3"
  },
  "language_info": {
   "codemirror_mode": {
    "name": "ipython",
    "version": 3
   },
   "file_extension": ".py",
   "mimetype": "text/x-python",
   "name": "python",
   "nbconvert_exporter": "python",
   "pygments_lexer": "ipython3",
   "version": "3.11.5"
  }
 },
 "nbformat": 4,
 "nbformat_minor": 5
}
