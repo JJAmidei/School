{
 "cells": [
  {
   "cell_type": "code",
   "execution_count": 1,
   "metadata": {
    "slideshow": {
     "slide_type": "skip"
    }
   },
   "outputs": [],
   "source": [
    "import numpy as np\n",
    "import matplotlib.pyplot as plt\n",
    "%matplotlib inline\n",
    "import pdb"
   ]
  },
  {
   "cell_type": "markdown",
   "metadata": {},
   "source": [
    "### Some pdb commands\n",
    "    n or next: Continue execution until the next line in the current function is reached.\n",
    "    c or continue: Continue execution until a breakpoint is encountered.\n",
    "    q or quit: Exit the debugger and terminate the execution.\n",
    "    l or list: Display the source code around the current line.\n",
    "    p expression: Evaluate and print the value of the expression.\n",
    "    s or step: Execute the current line and stop at the first possible occasion (e.g., in a function that is called).\n",
    "    b NNN set breakpoint at line NNN\n",
    "    b list breakpoints\n",
    "    clear N  clear breakpoint number N (as reported by b)\n",
    "    \n"
   ]
  },
  {
   "cell_type": "code",
   "execution_count": 2,
   "metadata": {
    "slideshow": {
     "slide_type": "subslide"
    }
   },
   "outputs": [],
   "source": [
    "# Bisection Method\n",
    "def bisect(f, a, b, tol):\n",
    "    \"\"\"\n",
    "    f: the function\n",
    "    a: left end\n",
    "    b: right end\n",
    "    tol: tolerance to control when to stop the algo\n",
    "    \"\"\"\n",
    "    pdb.set_trace()\n",
    "    # Check if the algorithm needs to proceed\n",
    "    if f(a) == 0:\n",
    "        print('The solution is ', a)\n",
    "        stop\n",
    "\n",
    "    if f(b) == 0:\n",
    "        print('The solution is ', b)\n",
    "        stop\n",
    "\n",
    "    if np.sign(f(a))*np.sign(f(b)) == 1:\n",
    "        print('f(a)f(b) is not satisfied')\n",
    "        stop\n",
    "\n",
    "    # Start the algorithm\n",
    "    fa = f(a)\n",
    "    fb = f(b)\n",
    "    while (b-a)/2 > tol:\n",
    "        c = (a+b)/2\n",
    "        fc = f(c)\n",
    "        print('a=',a,'f(a)=',f(a))\n",
    "        print('b=',b,'f(b)=',f(b))\n",
    "        print('c=',c,'f(c)=',f(c)) \n",
    "        if fc == 0:\n",
    "            break\n",
    "        if np.sign(fc)*np.sign(fa)<0:\n",
    "            # a and c form the new interval\n",
    "            b = c\n",
    "            fb = fc\n",
    "        else:\n",
    "            a = c\n",
    "            fa = fc\n",
    "    \n",
    "    return (a+b)/2"
   ]
  },
  {
   "cell_type": "code",
   "execution_count": 3,
   "metadata": {
    "slideshow": {
     "slide_type": "fragment"
    }
   },
   "outputs": [
    {
     "data": {
      "text/plain": [
       "[<matplotlib.lines.Line2D at 0x7f8fe817cd00>]"
      ]
     },
     "execution_count": 3,
     "metadata": {},
     "output_type": "execute_result"
    },
    {
     "data": {
      "image/png": "[encoded data removed]",
      "text/plain": [
       "<Figure size 640x480 with 1 Axes>"
      ]
     },
     "metadata": {},
     "output_type": "display_data"
    }
   ],
   "source": [
    "# First define the function:\n",
    "def f_ex2(x):\n",
    "    \"\"\"\n",
    "    The f from example 2\n",
    "    \"\"\"\n",
    "    return x**3+x-1\n",
    "\n",
    "# check what the graph looks like\n",
    "x = np.linspace(0, 1, 1000)\n",
    "plt.plot(x, f_ex2(x))"
   ]
  },
  {
   "cell_type": "code",
   "execution_count": 4,
   "metadata": {
    "slideshow": {
     "slide_type": "fragment"
    }
   },
   "outputs": [
    {
     "name": "stdout",
     "output_type": "stream",
     "text": [
      "> \u001b[0;32m<ipython-input-2-9fa7ce45f2c1>\u001b[0m(11)\u001b[0;36mbisect\u001b[0;34m()\u001b[0m\n",
      "\u001b[0;32m      9 \u001b[0;31m    \u001b[0mpdb\u001b[0m\u001b[0;34m.\u001b[0m\u001b[0mset_trace\u001b[0m\u001b[0;34m(\u001b[0m\u001b[0;34m)\u001b[0m\u001b[0;34m\u001b[0m\u001b[0;34m\u001b[0m\u001b[0m\n",
      "\u001b[0m\u001b[0;32m     10 \u001b[0;31m    \u001b[0;31m# Check if the algorithm needs to proceed\u001b[0m\u001b[0;34m\u001b[0m\u001b[0;34m\u001b[0m\u001b[0;34m\u001b[0m\u001b[0m\n",
      "\u001b[0m\u001b[0;32m---> 11 \u001b[0;31m    \u001b[0;32mif\u001b[0m \u001b[0mf\u001b[0m\u001b[0;34m(\u001b[0m\u001b[0ma\u001b[0m\u001b[0;34m)\u001b[0m \u001b[0;34m==\u001b[0m \u001b[0;36m0\u001b[0m\u001b[0;34m:\u001b[0m\u001b[0;34m\u001b[0m\u001b[0;34m\u001b[0m\u001b[0m\n",
      "\u001b[0m\u001b[0;32m     12 \u001b[0;31m        \u001b[0mprint\u001b[0m\u001b[0;34m(\u001b[0m\u001b[0;34m'The solution is '\u001b[0m\u001b[0;34m,\u001b[0m \u001b[0ma\u001b[0m\u001b[0;34m)\u001b[0m\u001b[0;34m\u001b[0m\u001b[0;34m\u001b[0m\u001b[0m\n",
      "\u001b[0m\u001b[0;32m     13 \u001b[0;31m        \u001b[0mstop\u001b[0m\u001b[0;34m\u001b[0m\u001b[0;34m\u001b[0m\u001b[0m\n",
      "\u001b[0m\n",
      "ipdb> n\n",
      "> \u001b[0;32m<ipython-input-2-9fa7ce45f2c1>\u001b[0m(15)\u001b[0;36mbisect\u001b[0;34m()\u001b[0m\n",
      "\u001b[0;32m     13 \u001b[0;31m        \u001b[0mstop\u001b[0m\u001b[0;34m\u001b[0m\u001b[0;34m\u001b[0m\u001b[0m\n",
      "\u001b[0m\u001b[0;32m     14 \u001b[0;31m\u001b[0;34m\u001b[0m\u001b[0m\n",
      "\u001b[0m\u001b[0;32m---> 15 \u001b[0;31m    \u001b[0;32mif\u001b[0m \u001b[0mf\u001b[0m\u001b[0;34m(\u001b[0m\u001b[0mb\u001b[0m\u001b[0;34m)\u001b[0m \u001b[0;34m==\u001b[0m \u001b[0;36m0\u001b[0m\u001b[0;34m:\u001b[0m\u001b[0;34m\u001b[0m\u001b[0;34m\u001b[0m\u001b[0m\n",
      "\u001b[0m\u001b[0;32m     16 \u001b[0;31m        \u001b[0mprint\u001b[0m\u001b[0;34m(\u001b[0m\u001b[0;34m'The solution is '\u001b[0m\u001b[0;34m,\u001b[0m \u001b[0mb\u001b[0m\u001b[0;34m)\u001b[0m\u001b[0;34m\u001b[0m\u001b[0;34m\u001b[0m\u001b[0m\n",
      "\u001b[0m\u001b[0;32m     17 \u001b[0;31m        \u001b[0mstop\u001b[0m\u001b[0;34m\u001b[0m\u001b[0;34m\u001b[0m\u001b[0m\n",
      "\u001b[0m\n",
      "ipdb> \n",
      "> \u001b[0;32m<ipython-input-2-9fa7ce45f2c1>\u001b[0m(19)\u001b[0;36mbisect\u001b[0;34m()\u001b[0m\n",
      "\u001b[0;32m     17 \u001b[0;31m        \u001b[0mstop\u001b[0m\u001b[0;34m\u001b[0m\u001b[0;34m\u001b[0m\u001b[0m\n",
      "\u001b[0m\u001b[0;32m     18 \u001b[0;31m\u001b[0;34m\u001b[0m\u001b[0m\n",
      "\u001b[0m\u001b[0;32m---> 19 \u001b[0;31m    \u001b[0;32mif\u001b[0m \u001b[0mnp\u001b[0m\u001b[0;34m.\u001b[0m\u001b[0msign\u001b[0m\u001b[0;34m(\u001b[0m\u001b[0mf\u001b[0m\u001b[0;34m(\u001b[0m\u001b[0ma\u001b[0m\u001b[0;34m)\u001b[0m\u001b[0;34m)\u001b[0m\u001b[0;34m*\u001b[0m\u001b[0mnp\u001b[0m\u001b[0;34m.\u001b[0m\u001b[0msign\u001b[0m\u001b[0;34m(\u001b[0m\u001b[0mf\u001b[0m\u001b[0;34m(\u001b[0m\u001b[0mb\u001b[0m\u001b[0;34m)\u001b[0m\u001b[0;34m)\u001b[0m \u001b[0;34m==\u001b[0m \u001b[0;36m1\u001b[0m\u001b[0;34m:\u001b[0m\u001b[0;34m\u001b[0m\u001b[0;34m\u001b[0m\u001b[0m\n",
      "\u001b[0m\u001b[0;32m     20 \u001b[0;31m        \u001b[0mprint\u001b[0m\u001b[0;34m(\u001b[0m\u001b[0;34m'f(a)f(b) is not satisfied'\u001b[0m\u001b[0;34m)\u001b[0m\u001b[0;34m\u001b[0m\u001b[0;34m\u001b[0m\u001b[0m\n",
      "\u001b[0m\u001b[0;32m     21 \u001b[0;31m        \u001b[0mstop\u001b[0m\u001b[0;34m\u001b[0m\u001b[0;34m\u001b[0m\u001b[0m\n",
      "\u001b[0m\n",
      "ipdb> \n",
      "> \u001b[0;32m<ipython-input-2-9fa7ce45f2c1>\u001b[0m(24)\u001b[0;36mbisect\u001b[0;34m()\u001b[0m\n",
      "\u001b[0;32m     22 \u001b[0;31m\u001b[0;34m\u001b[0m\u001b[0m\n",
      "\u001b[0m\u001b[0;32m     23 \u001b[0;31m    \u001b[0;31m# Start the algorithm\u001b[0m\u001b[0;34m\u001b[0m\u001b[0;34m\u001b[0m\u001b[0;34m\u001b[0m\u001b[0m\n",
      "\u001b[0m\u001b[0;32m---> 24 \u001b[0;31m    \u001b[0mfa\u001b[0m \u001b[0;34m=\u001b[0m \u001b[0mf\u001b[0m\u001b[0;34m(\u001b[0m\u001b[0ma\u001b[0m\u001b[0;34m)\u001b[0m\u001b[0;34m\u001b[0m\u001b[0;34m\u001b[0m\u001b[0m\n",
      "\u001b[0m\u001b[0;32m     25 \u001b[0;31m    \u001b[0mfb\u001b[0m \u001b[0;34m=\u001b[0m \u001b[0mf\u001b[0m\u001b[0;34m(\u001b[0m\u001b[0mb\u001b[0m\u001b[0;34m)\u001b[0m\u001b[0;34m\u001b[0m\u001b[0;34m\u001b[0m\u001b[0m\n",
      "\u001b[0m\u001b[0;32m     26 \u001b[0;31m    \u001b[0;32mwhile\u001b[0m \u001b[0;34m(\u001b[0m\u001b[0mb\u001b[0m\u001b[0;34m-\u001b[0m\u001b[0ma\u001b[0m\u001b[0;34m)\u001b[0m\u001b[0;34m/\u001b[0m\u001b[0;36m2\u001b[0m \u001b[0;34m>\u001b[0m \u001b[0mtol\u001b[0m\u001b[0;34m:\u001b[0m\u001b[0;34m\u001b[0m\u001b[0;34m\u001b[0m\u001b[0m\n",
      "\u001b[0m\n",
      "ipdb> \n",
      "> \u001b[0;32m<ipython-input-2-9fa7ce45f2c1>\u001b[0m(25)\u001b[0;36mbisect\u001b[0;34m()\u001b[0m\n",
      "\u001b[0;32m     23 \u001b[0;31m    \u001b[0;31m# Start the algorithm\u001b[0m\u001b[0;34m\u001b[0m\u001b[0;34m\u001b[0m\u001b[0;34m\u001b[0m\u001b[0m\n",
      "\u001b[0m\u001b[0;32m     24 \u001b[0;31m    \u001b[0mfa\u001b[0m \u001b[0;34m=\u001b[0m \u001b[0mf\u001b[0m\u001b[0;34m(\u001b[0m\u001b[0ma\u001b[0m\u001b[0;34m)\u001b[0m\u001b[0;34m\u001b[0m\u001b[0;34m\u001b[0m\u001b[0m\n",
      "\u001b[0m\u001b[0;32m---> 25 \u001b[0;31m    \u001b[0mfb\u001b[0m \u001b[0;34m=\u001b[0m \u001b[0mf\u001b[0m\u001b[0;34m(\u001b[0m\u001b[0mb\u001b[0m\u001b[0;34m)\u001b[0m\u001b[0;34m\u001b[0m\u001b[0;34m\u001b[0m\u001b[0m\n",
      "\u001b[0m\u001b[0;32m     26 \u001b[0;31m    \u001b[0;32mwhile\u001b[0m \u001b[0;34m(\u001b[0m\u001b[0mb\u001b[0m\u001b[0;34m-\u001b[0m\u001b[0ma\u001b[0m\u001b[0;34m)\u001b[0m\u001b[0;34m/\u001b[0m\u001b[0;36m2\u001b[0m \u001b[0;34m>\u001b[0m \u001b[0mtol\u001b[0m\u001b[0;34m:\u001b[0m\u001b[0;34m\u001b[0m\u001b[0;34m\u001b[0m\u001b[0m\n",
      "\u001b[0m\u001b[0;32m     27 \u001b[0;31m        \u001b[0mc\u001b[0m \u001b[0;34m=\u001b[0m \u001b[0;34m(\u001b[0m\u001b[0ma\u001b[0m\u001b[0;34m+\u001b[0m\u001b[0mb\u001b[0m\u001b[0;34m)\u001b[0m\u001b[0;34m/\u001b[0m\u001b[0;36m2\u001b[0m\u001b[0;34m\u001b[0m\u001b[0;34m\u001b[0m\u001b[0m\n",
      "\u001b[0m\n",
      "ipdb> \n",
      "> \u001b[0;32m<ipython-input-2-9fa7ce45f2c1>\u001b[0m(26)\u001b[0;36mbisect\u001b[0;34m()\u001b[0m\n",
      "\u001b[0;32m     24 \u001b[0;31m    \u001b[0mfa\u001b[0m \u001b[0;34m=\u001b[0m \u001b[0mf\u001b[0m\u001b[0;34m(\u001b[0m\u001b[0ma\u001b[0m\u001b[0;34m)\u001b[0m\u001b[0;34m\u001b[0m\u001b[0;34m\u001b[0m\u001b[0m\n",
      "\u001b[0m\u001b[0;32m     25 \u001b[0;31m    \u001b[0mfb\u001b[0m \u001b[0;34m=\u001b[0m \u001b[0mf\u001b[0m\u001b[0;34m(\u001b[0m\u001b[0mb\u001b[0m\u001b[0;34m)\u001b[0m\u001b[0;34m\u001b[0m\u001b[0;34m\u001b[0m\u001b[0m\n",
      "\u001b[0m\u001b[0;32m---> 26 \u001b[0;31m    \u001b[0;32mwhile\u001b[0m \u001b[0;34m(\u001b[0m\u001b[0mb\u001b[0m\u001b[0;34m-\u001b[0m\u001b[0ma\u001b[0m\u001b[0;34m)\u001b[0m\u001b[0;34m/\u001b[0m\u001b[0;36m2\u001b[0m \u001b[0;34m>\u001b[0m \u001b[0mtol\u001b[0m\u001b[0;34m:\u001b[0m\u001b[0;34m\u001b[0m\u001b[0;34m\u001b[0m\u001b[0m\n",
      "\u001b[0m\u001b[0;32m     27 \u001b[0;31m        \u001b[0mc\u001b[0m \u001b[0;34m=\u001b[0m \u001b[0;34m(\u001b[0m\u001b[0ma\u001b[0m\u001b[0;34m+\u001b[0m\u001b[0mb\u001b[0m\u001b[0;34m)\u001b[0m\u001b[0;34m/\u001b[0m\u001b[0;36m2\u001b[0m\u001b[0;34m\u001b[0m\u001b[0;34m\u001b[0m\u001b[0m\n",
      "\u001b[0m\u001b[0;32m     28 \u001b[0;31m        \u001b[0mfc\u001b[0m \u001b[0;34m=\u001b[0m \u001b[0mf\u001b[0m\u001b[0;34m(\u001b[0m\u001b[0mc\u001b[0m\u001b[0;34m)\u001b[0m\u001b[0;34m\u001b[0m\u001b[0;34m\u001b[0m\u001b[0m\n",
      "\u001b[0m\n",
      "ipdb> fa\n",
      "-1\n",
      "ipdb> a\n",
      "f = <function f_ex2 at 0x7f900a093e50>\n",
      "a = 0\n",
      "b = 1\n",
      "tol = 1e-05\n",
      "ipdb> n\n",
      "> \u001b[0;32m<ipython-input-2-9fa7ce45f2c1>\u001b[0m(27)\u001b[0;36mbisect\u001b[0;34m()\u001b[0m\n",
      "\u001b[0;32m     25 \u001b[0;31m    \u001b[0mfb\u001b[0m \u001b[0;34m=\u001b[0m \u001b[0mf\u001b[0m\u001b[0;34m(\u001b[0m\u001b[0mb\u001b[0m\u001b[0;34m)\u001b[0m\u001b[0;34m\u001b[0m\u001b[0;34m\u001b[0m\u001b[0m\n",
      "\u001b[0m\u001b[0;32m     26 \u001b[0;31m    \u001b[0;32mwhile\u001b[0m \u001b[0;34m(\u001b[0m\u001b[0mb\u001b[0m\u001b[0;34m-\u001b[0m\u001b[0ma\u001b[0m\u001b[0;34m)\u001b[0m\u001b[0;34m/\u001b[0m\u001b[0;36m2\u001b[0m \u001b[0;34m>\u001b[0m \u001b[0mtol\u001b[0m\u001b[0;34m:\u001b[0m\u001b[0;34m\u001b[0m\u001b[0;34m\u001b[0m\u001b[0m\n",
      "\u001b[0m\u001b[0;32m---> 27 \u001b[0;31m        \u001b[0mc\u001b[0m \u001b[0;34m=\u001b[0m \u001b[0;34m(\u001b[0m\u001b[0ma\u001b[0m\u001b[0;34m+\u001b[0m\u001b[0mb\u001b[0m\u001b[0;34m)\u001b[0m\u001b[0;34m/\u001b[0m\u001b[0;36m2\u001b[0m\u001b[0;34m\u001b[0m\u001b[0;34m\u001b[0m\u001b[0m\n",
      "\u001b[0m\u001b[0;32m     28 \u001b[0;31m        \u001b[0mfc\u001b[0m \u001b[0;34m=\u001b[0m \u001b[0mf\u001b[0m\u001b[0;34m(\u001b[0m\u001b[0mc\u001b[0m\u001b[0;34m)\u001b[0m\u001b[0;34m\u001b[0m\u001b[0;34m\u001b[0m\u001b[0m\n",
      "\u001b[0m\u001b[0;32m     29 \u001b[0;31m        \u001b[0mprint\u001b[0m\u001b[0;34m(\u001b[0m\u001b[0;34m'a='\u001b[0m\u001b[0;34m,\u001b[0m\u001b[0ma\u001b[0m\u001b[0;34m,\u001b[0m\u001b[0;34m'f(a)='\u001b[0m\u001b[0;34m,\u001b[0m\u001b[0mf\u001b[0m\u001b[0;34m(\u001b[0m\u001b[0ma\u001b[0m\u001b[0;34m)\u001b[0m\u001b[0;34m)\u001b[0m\u001b[0;34m\u001b[0m\u001b[0;34m\u001b[0m\u001b[0m\n",
      "\u001b[0m\n",
      "ipdb> \n",
      "> \u001b[0;32m<ipython-input-2-9fa7ce45f2c1>\u001b[0m(28)\u001b[0;36mbisect\u001b[0;34m()\u001b[0m\n",
      "\u001b[0;32m     26 \u001b[0;31m    \u001b[0;32mwhile\u001b[0m \u001b[0;34m(\u001b[0m\u001b[0mb\u001b[0m\u001b[0;34m-\u001b[0m\u001b[0ma\u001b[0m\u001b[0;34m)\u001b[0m\u001b[0;34m/\u001b[0m\u001b[0;36m2\u001b[0m \u001b[0;34m>\u001b[0m \u001b[0mtol\u001b[0m\u001b[0;34m:\u001b[0m\u001b[0;34m\u001b[0m\u001b[0;34m\u001b[0m\u001b[0m\n",
      "\u001b[0m\u001b[0;32m     27 \u001b[0;31m        \u001b[0mc\u001b[0m \u001b[0;34m=\u001b[0m \u001b[0;34m(\u001b[0m\u001b[0ma\u001b[0m\u001b[0;34m+\u001b[0m\u001b[0mb\u001b[0m\u001b[0;34m)\u001b[0m\u001b[0;34m/\u001b[0m\u001b[0;36m2\u001b[0m\u001b[0;34m\u001b[0m\u001b[0;34m\u001b[0m\u001b[0m\n",
      "\u001b[0m\u001b[0;32m---> 28 \u001b[0;31m        \u001b[0mfc\u001b[0m \u001b[0;34m=\u001b[0m \u001b[0mf\u001b[0m\u001b[0;34m(\u001b[0m\u001b[0mc\u001b[0m\u001b[0;34m)\u001b[0m\u001b[0;34m\u001b[0m\u001b[0;34m\u001b[0m\u001b[0m\n",
      "\u001b[0m\u001b[0;32m     29 \u001b[0;31m        \u001b[0mprint\u001b[0m\u001b[0;34m(\u001b[0m\u001b[0;34m'a='\u001b[0m\u001b[0;34m,\u001b[0m\u001b[0ma\u001b[0m\u001b[0;34m,\u001b[0m\u001b[0;34m'f(a)='\u001b[0m\u001b[0;34m,\u001b[0m\u001b[0mf\u001b[0m\u001b[0;34m(\u001b[0m\u001b[0ma\u001b[0m\u001b[0;34m)\u001b[0m\u001b[0;34m)\u001b[0m\u001b[0;34m\u001b[0m\u001b[0;34m\u001b[0m\u001b[0m\n",
      "\u001b[0m\u001b[0;32m     30 \u001b[0;31m        \u001b[0mprint\u001b[0m\u001b[0;34m(\u001b[0m\u001b[0;34m'b='\u001b[0m\u001b[0;34m,\u001b[0m\u001b[0mb\u001b[0m\u001b[0;34m,\u001b[0m\u001b[0;34m'f(b)='\u001b[0m\u001b[0;34m,\u001b[0m\u001b[0mf\u001b[0m\u001b[0;34m(\u001b[0m\u001b[0mb\u001b[0m\u001b[0;34m)\u001b[0m\u001b[0;34m)\u001b[0m\u001b[0;34m\u001b[0m\u001b[0;34m\u001b[0m\u001b[0m\n",
      "\u001b[0m\n",
      "ipdb> \n",
      "> \u001b[0;32m<ipython-input-2-9fa7ce45f2c1>\u001b[0m(29)\u001b[0;36mbisect\u001b[0;34m()\u001b[0m\n",
      "\u001b[0;32m     27 \u001b[0;31m        \u001b[0mc\u001b[0m \u001b[0;34m=\u001b[0m \u001b[0;34m(\u001b[0m\u001b[0ma\u001b[0m\u001b[0;34m+\u001b[0m\u001b[0mb\u001b[0m\u001b[0;34m)\u001b[0m\u001b[0;34m/\u001b[0m\u001b[0;36m2\u001b[0m\u001b[0;34m\u001b[0m\u001b[0;34m\u001b[0m\u001b[0m\n",
      "\u001b[0m\u001b[0;32m     28 \u001b[0;31m        \u001b[0mfc\u001b[0m \u001b[0;34m=\u001b[0m \u001b[0mf\u001b[0m\u001b[0;34m(\u001b[0m\u001b[0mc\u001b[0m\u001b[0;34m)\u001b[0m\u001b[0;34m\u001b[0m\u001b[0;34m\u001b[0m\u001b[0m\n",
      "\u001b[0m\u001b[0;32m---> 29 \u001b[0;31m        \u001b[0mprint\u001b[0m\u001b[0;34m(\u001b[0m\u001b[0;34m'a='\u001b[0m\u001b[0;34m,\u001b[0m\u001b[0ma\u001b[0m\u001b[0;34m,\u001b[0m\u001b[0;34m'f(a)='\u001b[0m\u001b[0;34m,\u001b[0m\u001b[0mf\u001b[0m\u001b[0;34m(\u001b[0m\u001b[0ma\u001b[0m\u001b[0;34m)\u001b[0m\u001b[0;34m)\u001b[0m\u001b[0;34m\u001b[0m\u001b[0;34m\u001b[0m\u001b[0m\n",
      "\u001b[0m\u001b[0;32m     30 \u001b[0;31m        \u001b[0mprint\u001b[0m\u001b[0;34m(\u001b[0m\u001b[0;34m'b='\u001b[0m\u001b[0;34m,\u001b[0m\u001b[0mb\u001b[0m\u001b[0;34m,\u001b[0m\u001b[0;34m'f(b)='\u001b[0m\u001b[0;34m,\u001b[0m\u001b[0mf\u001b[0m\u001b[0;34m(\u001b[0m\u001b[0mb\u001b[0m\u001b[0;34m)\u001b[0m\u001b[0;34m)\u001b[0m\u001b[0;34m\u001b[0m\u001b[0;34m\u001b[0m\u001b[0m\n",
      "\u001b[0m\u001b[0;32m     31 \u001b[0;31m        \u001b[0mprint\u001b[0m\u001b[0;34m(\u001b[0m\u001b[0;34m'c='\u001b[0m\u001b[0;34m,\u001b[0m\u001b[0mc\u001b[0m\u001b[0;34m,\u001b[0m\u001b[0;34m'f(c)='\u001b[0m\u001b[0;34m,\u001b[0m\u001b[0mf\u001b[0m\u001b[0;34m(\u001b[0m\u001b[0mc\u001b[0m\u001b[0;34m)\u001b[0m\u001b[0;34m)\u001b[0m\u001b[0;34m\u001b[0m\u001b[0;34m\u001b[0m\u001b[0m\n",
      "\u001b[0m\n",
      "ipdb> c\n",
      "a= 0 f(a)= -1\n",
      "b= 1 f(b)= 1\n",
      "c= 0.5 f(c)= -0.375\n",
      "a= 0.5 f(a)= -0.375\n",
      "b= 1 f(b)= 1\n",
      "c= 0.75 f(c)= 0.171875\n",
      "a= 0.5 f(a)= -0.375\n",
      "b= 0.75 f(b)= 0.171875\n",
      "c= 0.625 f(c)= -0.130859375\n",
      "a= 0.625 f(a)= -0.130859375\n",
      "b= 0.75 f(b)= 0.171875\n",
      "c= 0.6875 f(c)= 0.012451171875\n",
      "a= 0.625 f(a)= -0.130859375\n",
      "b= 0.6875 f(b)= 0.012451171875\n",
      "c= 0.65625 f(c)= -0.061126708984375\n",
      "a= 0.65625 f(a)= -0.061126708984375\n",
      "b= 0.6875 f(b)= 0.012451171875\n",
      "c= 0.671875 f(c)= -0.024829864501953125\n",
      "a= 0.671875 f(a)= -0.024829864501953125\n",
      "b= 0.6875 f(b)= 0.012451171875\n",
      "c= 0.6796875 f(c)= -0.006313800811767578\n",
      "a= 0.6796875 f(a)= -0.006313800811767578\n",
      "b= 0.6875 f(b)= 0.012451171875\n",
      "c= 0.68359375 f(c)= 0.003037393093109131\n",
      "a= 0.6796875 f(a)= -0.006313800811767578\n",
      "b= 0.68359375 f(b)= 0.003037393093109131\n",
      "c= 0.681640625 f(c)= -0.0016460046172142029\n",
      "a= 0.681640625 f(a)= -0.0016460046172142029\n",
      "b= 0.68359375 f(b)= 0.003037393093109131\n",
      "c= 0.6826171875 f(c)= 0.0006937412545084953\n",
      "a= 0.681640625 f(a)= -0.0016460046172142029\n",
      "b= 0.6826171875 f(b)= 0.0006937412545084953\n",
      "c= 0.68212890625 f(c)= -0.00047661957796663046\n",
      "a= 0.68212890625 f(a)= -0.00047661957796663046\n",
      "b= 0.6826171875 f(b)= 0.0006937412545084953\n",
      "c= 0.682373046875 f(c)= 0.00010843882046174258\n",
      "a= 0.68212890625 f(a)= -0.00047661957796663046\n",
      "b= 0.682373046875 f(b)= 0.00010843882046174258\n",
      "c= 0.6822509765625 f(c)= -0.0001841208777477732\n",
      "a= 0.6822509765625 f(a)= -0.0001841208777477732\n",
      "b= 0.682373046875 f(b)= 0.00010843882046174258\n",
      "c= 0.68231201171875 f(c)= -3.7848654073968646e-05\n",
      "a= 0.68231201171875 f(a)= -3.7848654073968646e-05\n",
      "b= 0.682373046875 f(b)= 0.00010843882046174258\n",
      "c= 0.682342529296875 f(c)= 3.5293176750883504e-05\n",
      "a= 0.68231201171875 f(a)= -3.7848654073968646e-05\n",
      "b= 0.682342529296875 f(b)= 3.5293176750883504e-05\n",
      "c= 0.6823272705078125 f(c)= -1.278215261635296e-06\n",
      "The solution is  0.6823348999023438\n",
      "The value of the function at x =  0.6823348999023438  is  1.7007361593268655e-05\n"
     ]
    }
   ],
   "source": [
    "# Call the function, suppose tol=1e-5\n",
    "tol = 1e-5\n",
    "xc = bisect(f_ex2, 0, 1, tol)\n",
    "print('The solution is ', xc)\n",
    "# Check if the solution is right\n",
    "print('The value of the function at x = ', \n",
    "      xc, ' is ', f_ex2(xc))"
   ]
  },
  {
   "cell_type": "code",
   "execution_count": 5,
   "metadata": {
    "slideshow": {
     "slide_type": "subslide"
    }
   },
   "outputs": [],
   "source": [
    "# Function for fixed-point iteration \n",
    "# if f(x)=0 can be written as g(x)=x\n",
    "\n",
    "def fpi(g,x_0,k):\n",
    "    \"\"\"\n",
    "    g: the function g(x) in g(x)=x\n",
    "    x_0: the initial guess\n",
    "    k: the maximum number of interation steps\n",
    "    \"\"\"\n",
    "    x = np.zeros(k+1,)\n",
    "    x[0] = x_0\n",
    "    \n",
    "    for i in range(k):\n",
    "        x[i+1] = g(x[i])\n",
    "    \n",
    "    return x[k]"
   ]
  },
  {
   "cell_type": "code",
   "execution_count": 6,
   "metadata": {
    "slideshow": {
     "slide_type": "fragment"
    }
   },
   "outputs": [
    {
     "name": "stdout",
     "output_type": "stream",
     "text": [
      "The approximate solution of f(x)=cosx-x after  1000  steps of fixed point iteration is  0.7390851332151605\n",
      "\n",
      "The value of f at  0.7390851332151605  is:  3.3306690738754696e-16\n"
     ]
    }
   ],
   "source": [
    "# Define g firxt\n",
    "def g_ex6(x):\n",
    "    return np.cos(x)\n",
    "\n",
    "# Applying fixed-point iteration\n",
    "x_0 = 0\n",
    "k = 1000\n",
    "x_fpi = fpi(g_ex6, x_0, k)\n",
    "print('The approximate solution of f(x)=cosx-x after ', \n",
    "     k, ' steps of fixed point iteration is ',\n",
    "     x_fpi)\n",
    "\n",
    "# Check if the result is a solution of f(x)\n",
    "print()\n",
    "print('The value of f at ', x_fpi, ' is: ', \n",
    "      g_ex6(x_fpi)-x_fpi)"
   ]
  },
  {
   "cell_type": "code",
   "execution_count": 7,
   "metadata": {
    "slideshow": {
     "slide_type": "fragment"
    }
   },
   "outputs": [
    {
     "name": "stdout",
     "output_type": "stream",
     "text": [
      "   i       xi   \n",
      "0.000000, 0.500000\n",
      "1.000000, 0.875000\n",
      "2.000000, 0.330078\n",
      "3.000000, 0.964037\n",
      "4.000000, 0.104054\n",
      "5.000000, 0.998873\n",
      "6.000000, 0.003376\n",
      "7.000000, 1.000000\n",
      "8.000000, 0.000000\n",
      "9.000000, 1.000000\n",
      "10.000000, 0.000000\n",
      "11.000000, 1.000000\n"
     ]
    }
   ],
   "source": [
    "# Define g for the first choice in Example 7\n",
    "def g_ex7_ch1(x):\n",
    "    return 1-x**3\n",
    "\n",
    "x_0 = 0.5\n",
    "k_max = 12\n",
    "res = np.zeros(k_max, )\n",
    "res[0] = x_0\n",
    "for k in range(1, k_max):\n",
    "    res[k] = fpi(g_ex7_ch1, x_0, k)\n",
    "    \n",
    "print('   i   ', '   xi   ')\n",
    "for i in range(0, k_max):\n",
    "    print(\"{0:5f}, {1:5f}\".format(i, res[i]))"
   ]
  },
  {
   "cell_type": "code",
   "execution_count": 8,
   "metadata": {
    "slideshow": {
     "slide_type": "fragment"
    }
   },
   "outputs": [
    {
     "name": "stdout",
     "output_type": "stream",
     "text": [
      "   i       xi   \n",
      "0.000000, 0.500000\n",
      "1.000000, 0.793701\n",
      "2.000000, 0.590880\n",
      "3.000000, 0.742364\n",
      "4.000000, 0.636310\n",
      "5.000000, 0.713801\n",
      "6.000000, 0.659006\n",
      "7.000000, 0.698633\n",
      "8.000000, 0.670448\n",
      "9.000000, 0.690729\n",
      "10.000000, 0.676259\n",
      "11.000000, 0.686646\n"
     ]
    }
   ],
   "source": [
    "# Define g for the second choice in Example 7\n",
    "def g_ex7_ch2(x):\n",
    "    return (1-x)**(1/3)\n",
    "\n",
    "x_0 = 0.5\n",
    "k_max = 12\n",
    "res = np.zeros(k_max, )\n",
    "res[0] = x_0\n",
    "for k in range(1, k_max):\n",
    "    res[k] = fpi(g_ex7_ch2, x_0, k)\n",
    "    \n",
    "print('   i   ', '   xi   ')\n",
    "for i in range(0, k_max):\n",
    "    print(\"{0:5f}, {1:5f}\".format(i, res[i]))"
   ]
  },
  {
   "cell_type": "code",
   "execution_count": 9,
   "metadata": {
    "slideshow": {
     "slide_type": "fragment"
    }
   },
   "outputs": [
    {
     "name": "stdout",
     "output_type": "stream",
     "text": [
      "   i       xi   \n",
      "0.000000, 0.500000\n",
      "1.000000, 0.714286\n",
      "2.000000, 0.683180\n",
      "3.000000, 0.682328\n",
      "4.000000, 0.682328\n",
      "5.000000, 0.682328\n",
      "6.000000, 0.682328\n",
      "7.000000, 0.682328\n",
      "8.000000, 0.682328\n",
      "9.000000, 0.682328\n",
      "10.000000, 0.682328\n",
      "11.000000, 0.682328\n"
     ]
    }
   ],
   "source": [
    "# Define g for the second choice in Example 7\n",
    "def g_ex7_ch3(x):\n",
    "    return (1+2*x**3)/(1+3*x**2)\n",
    "\n",
    "x_0 = 0.5\n",
    "k_max = 12\n",
    "res = np.zeros(k_max, )\n",
    "res[0] = x_0\n",
    "for k in range(1, k_max):\n",
    "    res[k] = fpi(g_ex7_ch3, x_0, k)\n",
    "    \n",
    "print('   i   ', '   xi   ')\n",
    "for i in range(0, k_max):\n",
    "    print(\"{0:5f}, {1:5f}\".format(i, res[i]))"
   ]
  },
  {
   "cell_type": "code",
   "execution_count": 10,
   "metadata": {
    "slideshow": {
     "slide_type": "subslide"
    }
   },
   "outputs": [
    {
     "name": "stdout",
     "output_type": "stream",
     "text": [
      " i           xi        g(xi)      ei=|xi-r|   ei/ei-1 \n",
      "0      ,  0.0000000,  1.0000000,  0.7853982,         \n",
      "1      ,  1.0000000,  0.6988313,  0.2146018, 0.273240\n",
      "2      ,  0.6988313,  0.8211025,  0.0865668, 0.403384\n",
      "3      ,  0.8211025,  0.7706197,  0.0357043, 0.412448\n",
      "4      ,  0.7706197,  0.7915189,  0.0147785, 0.413913\n",
      "5      ,  0.7915189,  0.7828629,  0.0061207, 0.414162\n",
      "6      ,  0.7828629,  0.7864483,  0.0025352, 0.414205\n",
      "7      ,  0.7864483,  0.7849632,  0.0010501, 0.414212\n",
      "8      ,  0.7849632,  0.7855783,  0.0004350, 0.414213\n",
      "9      ,  0.7855783,  0.7853235,  0.0001802, 0.414214\n",
      "10     ,  0.7853235,  0.7854291,  0.0000746, 0.414214\n",
      "11     ,  0.7854291,  0.7853854,  0.0000309, 0.414214\n",
      "12     ,  0.7853854,  0.7854035,  0.0000128, 0.414214\n",
      "13     ,  0.7854035,  0.7853960,  0.0000053, 0.414214\n",
      "14     ,  0.7853960,  0.7853991,  0.0000022, 0.414214\n",
      "15     ,  0.7853991,  0.7853978,  0.0000009, 0.414214\n",
      "16     ,  0.7853978,  0.7853983,  0.0000004, 0.414214\n",
      "17     ,  0.7853983,  0.7853981,  0.0000002, 0.414214\n",
      "18     ,  0.7853981,  0.7853982,  0.0000001, 0.414214\n",
      "19     ,  0.7853982,  0.7853982,  0.0000000, 0.414214\n"
     ]
    }
   ],
   "source": [
    "def g_ex10(x):\n",
    "    return x+np.cos(x)-np.sin(x)\n",
    "\n",
    "r = np.pi/4\n",
    "x_0 = 0\n",
    "k_max = 20\n",
    "res = np.zeros(k_max, )\n",
    "res[0] = x_0\n",
    "print(' i  ', '        xi  ', '     g(xi)     ',\n",
    "     'ei=|xi-r|', '  ei/ei-1 ')\n",
    "print(\"{0:<7d}, {1:10.7f}, {2:10.7f}, {3:10.7f}, {4:7s} \".format(\n",
    "        0, x_0, g_ex10(x_0), \n",
    "        np.abs(x_0-r), \n",
    "        '      '))\n",
    "\n",
    "for k in range(1, k_max):\n",
    "    res[k] = fpi(g_ex10, x_0, k)\n",
    "    print(\"{0:<7d}, {1:10.7f}, {2:10.7f}, {3:10.7f}, {4:7f}\".format(\n",
    "        k, res[k], g_ex10(res[k]), \n",
    "        np.abs(res[k]-r), \n",
    "        np.abs(res[k]-r)/np.abs(res[k-1]-r)))"
   ]
  },
  {
   "cell_type": "code",
   "execution_count": 11,
   "metadata": {
    "slideshow": {
     "slide_type": "subslide"
    }
   },
   "outputs": [
    {
     "name": "stdout",
     "output_type": "stream",
     "text": [
      "The approximate solution with FPI is  1.8000000000782124\n"
     ]
    }
   ],
   "source": [
    "def g_ex11(x):\n",
    "    return 2.8*x-x**2\n",
    "\n",
    "x_0 = 0.1\n",
    "k_max = 100\n",
    "sol = fpi(g_ex11, x_0, k_max)\n",
    "print('The approximate solution with FPI is ', \n",
    "     sol)"
   ]
  },
  {
   "cell_type": "code",
   "execution_count": null,
   "metadata": {},
   "outputs": [],
   "source": []
  }
 ],
 "metadata": {
  "celltoolbar": "Slideshow",
  "kernelspec": {
   "display_name": "Python 3",
   "language": "python",
   "name": "python3"
  },
  "language_info": {
   "codemirror_mode": {
    "name": "ipython",
    "version": 3
   },
   "file_extension": ".py",
   "mimetype": "text/x-python",
   "name": "python",
   "nbconvert_exporter": "python",
   "pygments_lexer": "ipython3",
   "version": "3.8.17"
  },
  "latex_envs": {
   "LaTeX_envs_menu_present": true,
   "autoclose": false,
   "autocomplete": true,
   "bibliofile": "biblio.bib",
   "cite_by": "apalike",
   "current_citInitial": 1,
   "eqLabelWithNumbers": true,
   "eqNumInitial": 1,
   "hotkeys": {
    "equation": "Ctrl-E",
    "itemize": "Ctrl-I"
   },
   "labels_anchors": false,
   "latex_user_defs": false,
   "report_style_numbering": false,
   "user_envs_cfg": false
  }
 },
 "nbformat": 4,
 "nbformat_minor": 2
}
