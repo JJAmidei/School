{
 "cells": [
  {
   "cell_type": "markdown",
   "metadata": {},
   "source": [
    "# Problem 1\n",
    "Calculate the expression that follows in double precision arithmetic using Python for $x = 10^{−1},\\dots,10^{-14}$. Then, using an alternative form of the expression that\n",
    "doesn’t suffer from subtracting nearly equal numbers, repeat the calculation and make a table of results. What do you find?\n",
    "\n",
    "$$\\frac{1-\\sec{x}}{\\tan^2{x}}$$"
   ]
  },
  {
   "cell_type": "markdown",
   "metadata": {},
   "source": [
    "# Problem 2\n",
    "Find the root of $f(x)=x^{3}+4x^{2}-10$ using the bisection method, with the following specifications:\n",
    "\n",
    "a. Modify the Python code for the bisection method so that the only stopping criterion is whether $f(p)=0$ (remove the other criterion from the code). Also, add a print statement to the code, so that every time a new $p$ is computed, Python prints the value of $p$ and the iteration number.\n",
    "\n",
    "b. Find the number of iterations $N$ necessary to obtain an accuracy of $10^{-4}$ for the root, using the theoretical results of Chapter 2-2. (The function $f(x)$ has one real root in $(1,2)$, so set $a=1,b=2$.)\n",
    "\n",
    "c. Run the code using the value for $N$ obtained in part (b) to compute $p_{1},p_{2},...,p_{N}$ (set $a=1,b=2$ in the modified Python code).\n",
    "\n",
    "d. The actual root, correct to six digits, is $p=1.36523$. Find the absolute error when $p_N$ is used to approximate the actual root, that is, find $|p-p_N|$. Compare this error, with the upper bound for the error used in part (b)."
   ]
  },
  {
   "cell_type": "markdown",
   "metadata": {},
   "source": [
    "# Problem 3 (MATH/CSCI 4650 only)\n",
    "Find an approximation to $25^{1/3}$ correct to within $10^{-5}$\n",
    "using the bisection algorithm, following the steps below:\n",
    "\n",
    "a. First express the problem as $f(x)=0$ with $p=25^{1/3}$ the root.\n",
    "\n",
    "b. Find an interval $(a,b)$ that contains the root, using Intermediate Value Theorem.\n",
    "\n",
    "c. Determine, analytically, the number of iterations necessary to obtain the accuracy of $10^{-5}$.\n",
    "\n",
    "d. Use the Python code for the bisection method to compute the iterate from (c), and compare the actual absolute error with $10^{-5}$."
   ]
  },
  {
   "cell_type": "markdown",
   "metadata": {},
   "source": [
    "# Problem 4 (MATH 5660 ONLY)\n",
    "A particle starts at rest on a smooth inclined plane whose angle $\\theta$ is changing at a constant rate\n",
    "$$\n",
    "\\frac{d\\theta}{dt} = \\omega < 0.\n",
    "$$\n",
    "At the end of $t$ seconds, the position of the object is given by\n",
    "$$\n",
    "x(t) = -\\frac{g}{2\\omega^2}\\left(\\frac{e^{\\omega t}-e^{-\\omega t}}{2}-\\sin{\\omega t}\\right)\n",
    "$$\n",
    "Suppose the particle has moved $1.7$ ft in $1$ s. Find, to within $10^{−5}$, the rate $\\omega$ at which $\\theta$ changes. Assume that $g = 32.17$ $\\text{ft}/\\text{s}^2$."
   ]
  }
 ],
 "metadata": {
  "kernelspec": {
   "display_name": "Python 3",
   "language": "python",
   "name": "python3"
  },
  "language_info": {
   "codemirror_mode": {
    "name": "ipython",
    "version": 3
   },
   "file_extension": ".py",
   "mimetype": "text/x-python",
   "name": "python",
   "nbconvert_exporter": "python",
   "pygments_lexer": "ipython3",
   "version": "3.8.17"
  },
  "latex_envs": {
   "LaTeX_envs_menu_present": true,
   "autoclose": false,
   "autocomplete": true,
   "bibliofile": "biblio.bib",
   "cite_by": "apalike",
   "current_citInitial": 1,
   "eqLabelWithNumbers": true,
   "eqNumInitial": 1,
   "hotkeys": {
    "equation": "Ctrl-E",
    "itemize": "Ctrl-I"
   },
   "labels_anchors": false,
   "latex_user_defs": false,
   "report_style_numbering": false,
   "user_envs_cfg": false
  },
  "toc": {
   "base_numbering": 1,
   "nav_menu": {},
   "number_sections": true,
   "sideBar": true,
   "skip_h1_title": false,
   "title_cell": "Table of Contents",
   "title_sidebar": "Contents",
   "toc_cell": false,
   "toc_position": {},
   "toc_section_display": true,
   "toc_window_display": false
  }
 },
 "nbformat": 4,
 "nbformat_minor": 2
}
