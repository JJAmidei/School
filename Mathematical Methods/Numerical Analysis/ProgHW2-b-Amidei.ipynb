{
 "cells": [
  {
   "cell_type": "markdown",
   "metadata": {},
   "source": [
    "# ProgHW2-b \n",
    "#### James Amidei\n",
    "---------------------------------\n"
   ]
  },
  {
   "cell_type": "code",
   "execution_count": 1,
   "metadata": {},
   "outputs": [],
   "source": [
    "import numpy as np"
   ]
  },
  {
   "cell_type": "markdown",
   "metadata": {},
   "source": [
    "# Problem 1\n",
    "Apply Fixed-Point Iteration to find the solution of the equation \n",
    "\n",
    "$$e^x+x=7$$\n",
    "\n",
    "Iterate until the absolute difference of two successive iterates is less than $\\epsilon=10^{-8}$.\n",
    "\n",
    "(Hint: make sure you use a function $g(x)$ that theoretically works; otherwise the algorithm may diverge; the initial guess can be obtained from a plot of the function.)"
   ]
  },
  {
   "cell_type": "markdown",
   "metadata": {},
   "source": [
    "----------------------------------------------------\n",
    "#### Answer\n",
    "----------------------------------------------------\n",
    "\n",
    "$f(x) = e^x + x - 7$\n",
    "\n",
    "Let $p$ be a point in the interval $[a,b]$ such that $f(p) = 0$; i.e., $p$ is a root of $f$. \n",
    "\n",
    "Using the definition of a fixed point where $g(p) = p - f(p)$, we get $g(p) = p - (e^p + p - 7) = 7 -e^p$, which of course is equal to $p$.\n",
    "\n",
    "However, attemping to use $p = 7 - e^p$ with the code from our book doesn't exactly yield good results, seen below. "
   ]
  },
  {
   "cell_type": "code",
   "execution_count": 2,
   "metadata": {},
   "outputs": [],
   "source": [
    "def fixedpt(g, pzero, eps, N):\n",
    "    n = 1\n",
    "    while n<N:\n",
    "        print(n)\n",
    "        pone = g(pzero)\n",
    "        if np.abs(pone-pzero)<eps:\n",
    "            print('p is ', pone, ' and the iteration number is ', n)\n",
    "            return\n",
    "        pzero = pone\n",
    "        n += 1\n",
    "    print('Did not converge. The last estimate is p = ', pzero)"
   ]
  },
  {
   "cell_type": "code",
   "execution_count": 3,
   "metadata": {},
   "outputs": [
    {
     "name": "stdout",
     "output_type": "stream",
     "text": [
      "1\n",
      "2\n",
      "3\n",
      "4\n",
      "5\n",
      "6\n",
      "7\n",
      "8\n",
      "9\n",
      "10\n",
      "11\n",
      "12\n",
      "13\n",
      "14\n",
      "15\n",
      "16\n",
      "17\n",
      "18\n",
      "19\n",
      "20\n",
      "21\n",
      "22\n",
      "23\n",
      "24\n",
      "25\n",
      "26\n",
      "27\n",
      "28\n",
      "29\n",
      "Did not converge. The last estimate is p =  7.0\n"
     ]
    }
   ],
   "source": [
    "fixedpt(lambda x: (7 - np.e**x), 1.5, 1e-8, 30)"
   ]
  },
  {
   "cell_type": "markdown",
   "metadata": {},
   "source": [
    "So instead of using $p = 7 -e^p$, we have to come up with another guess for $g(p)$. Rearranging, we can get $p = ln(7-p)$. Fortunately, using this $g$ yields much better results."
   ]
  },
  {
   "cell_type": "code",
   "execution_count": 4,
   "metadata": {},
   "outputs": [
    {
     "name": "stdout",
     "output_type": "stream",
     "text": [
      "1\n",
      "2\n",
      "3\n",
      "4\n",
      "5\n",
      "6\n",
      "7\n",
      "8\n",
      "9\n",
      "10\n",
      "11\n",
      "12\n",
      "p is  1.672821698302485  and the iteration number is  12\n"
     ]
    }
   ],
   "source": [
    "fixedpt(lambda x: np.log(7 - x), 1.5, 1e-8, 30)"
   ]
  },
  {
   "cell_type": "code",
   "execution_count": 5,
   "metadata": {},
   "outputs": [
    {
     "data": {
      "text/plain": [
       "1.6728216986901814"
      ]
     },
     "execution_count": 5,
     "metadata": {},
     "output_type": "execute_result"
    }
   ],
   "source": [
    "# Confirming\n",
    "x = 1.672821698302485\n",
    "g = np.log(7 - x)\n",
    "g"
   ]
  },
  {
   "cell_type": "markdown",
   "metadata": {},
   "source": [
    "# Problem 2\n",
    "(2.4-1) Use the Python codes for the secant and Newton's methods to find solutions\n",
    "for the equation $\\sin x-e^{-x}=0$ on $0\\leq x\\leq1$. Set tolerance\n",
    "to $10^{-4}$, and take $p_{0}=0$ in Newton, and $p_{0}=0,p_{1}=1$\n",
    "in secant method. Do a visual inspection of the estimates and comment\n",
    "on the convergence rates of the methods."
   ]
  },
  {
   "cell_type": "code",
   "execution_count": 6,
   "metadata": {},
   "outputs": [],
   "source": [
    "# Newton's method\n",
    "def newton(f, fprime, pin, eps, N):\n",
    "    n = 1\n",
    "    p = 0. # to ensure the value of p carries out of the while loop\n",
    "    while n <= N:\n",
    "        p = pin - f(pin)/fprime(pin)\n",
    "        if np.isclose(f(p), 0) or np.abs(p-pin) < eps:\n",
    "            print('p is ', p, ' and the iteration number is ', n)\n",
    "            return\n",
    "        pin = p\n",
    "        n += 1\n",
    "    y = f(p)\n",
    "    print('Method did not converge. The last iteration gives ', \n",
    "          p, ' with function value ', y)\n",
    "    \n",
    "# Secant method \n",
    "def secant(f, pzero, pone, eps, N):\n",
    "    n = 1\n",
    "    p = 0. # to ensre the value of p carries out of the while loop\n",
    "    while n <= N:\n",
    "        p = pone - f(pone)*(pone-pzero) / (f(pone)-f(pzero))\n",
    "        if np.isclose(f(p), 0) or np.abs(p-pone)<eps:\n",
    "            print('p is ', p, ' and the iteration number is ', n)\n",
    "            return\n",
    "        pzero = pone\n",
    "        pone = p\n",
    "        n += 1\n",
    "    y = f(p)\n",
    "    print('Method did not converge. The last iteration gives ', \n",
    "          p, ' with function value ', y)"
   ]
  },
  {
   "cell_type": "markdown",
   "metadata": {},
   "source": [
    "Plot for $f(x) = \\sin(x) - e^{-x}$"
   ]
  },
  {
   "cell_type": "code",
   "execution_count": 7,
   "metadata": {},
   "outputs": [
    {
     "data": {
      "image/png": "[encoded data removed]",
      "text/plain": [
       "<Figure size 640x480 with 1 Axes>"
      ]
     },
     "metadata": {},
     "output_type": "display_data"
    }
   ],
   "source": [
    "import matplotlib.pyplot as plt\n",
    "%matplotlib inline\n",
    "\n",
    "x = np.linspace(0, 1, 500)\n",
    "y = np.sin(x) - np.e**(-x)\n",
    "ax = plt.gca()\n",
    "ax.spines['left'].set_position('center')\n",
    "ax.spines['right'].set_position('center')\n",
    "ax.spines['bottom'].set_position('center')\n",
    "ax.spines['top'].set_position('center')\n",
    "ax.set_ylim([-1, 1])\n",
    "plt.plot(x,y);"
   ]
  },
  {
   "cell_type": "markdown",
   "metadata": {},
   "source": [
    "$f(x) = \\sin(x) - e^{-x}$ and $f^{'}(x) = \\cos(x) + e^{-x}$ "
   ]
  },
  {
   "cell_type": "code",
   "execution_count": 8,
   "metadata": {},
   "outputs": [
    {
     "name": "stdout",
     "output_type": "stream",
     "text": [
      "p is  0.588532743977419  and the iteration number is  4\n"
     ]
    }
   ],
   "source": [
    "newton(lambda x: np.sin(x) - np.e**(-x), lambda x: np.cos(x) + np.e**(-x), 0, 1e-4, 20)"
   ]
  },
  {
   "cell_type": "code",
   "execution_count": 9,
   "metadata": {},
   "outputs": [
    {
     "name": "stdout",
     "output_type": "stream",
     "text": [
      "p is  0.588532742347889  and the iteration number is  5\n"
     ]
    }
   ],
   "source": [
    "secant(lambda x: np.sin(x) - np.e**(-x), 0, 1, 1e-4, 20)"
   ]
  },
  {
   "cell_type": "code",
   "execution_count": 10,
   "metadata": {},
   "outputs": [
    {
     "data": {
      "image/png": "[encoded data removed]",
      "text/plain": [
       "<Figure size 640x480 with 1 Axes>"
      ]
     },
     "metadata": {},
     "output_type": "display_data"
    }
   ],
   "source": [
    "import matplotlib.pyplot as plt\n",
    "%matplotlib inline\n",
    "\n",
    "approx_x = [0.588532743977419, 0.588532742347889]\n",
    "approx_y = [0,0]\n",
    "x = np.linspace(0.5885, 0.5886, 100)\n",
    "y = np.sin(x) - np.e**(-x)\n",
    "ax = plt.gca()\n",
    "ax.spines['left'].set_position('center')\n",
    "ax.spines['right'].set_position('center')\n",
    "ax.spines['bottom'].set_position('center')\n",
    "ax.spines['top'].set_position('center')\n",
    "ax.set_ylim([-0.0001, 0.0001])\n",
    "ax.scatter(approx_x, approx_y, color='red', marker='.')\n",
    "plt.plot(x,y);"
   ]
  },
  {
   "cell_type": "markdown",
   "metadata": {},
   "source": [
    "Both approximation have a decent accuracy, only differing around $10^{-8}$. From the iteration number, we can see that Newton's method converges quicker than the Secant method in this instance, which seems to typically be the case. However, it is only quicker by one iteration. "
   ]
  },
  {
   "cell_type": "markdown",
   "metadata": {},
   "source": [
    "# Problem 3\n",
    "\n",
    "Write a general $LU$ factorization code and use it to solve\n",
    "$$\n",
    "\\left[\\begin{array}{lll}{4} & {2} & {0} \\\\ {4} & {4} & {2} \\\\ {2} & {2} & {3}\\end{array}\\right]\\left[\\begin{array}{l}{x_{1}} \\\\ {x_{2}} \\\\ {x_{3}}\\end{array}\\right]=\\left[\\begin{array}{l}{2} \\\\ {4} \\\\ {6}\\end{array}\\right]\n",
    "$$"
   ]
  },
  {
   "cell_type": "code",
   "execution_count": 11,
   "metadata": {},
   "outputs": [
    {
     "name": "stdout",
     "output_type": "stream",
     "text": [
      "L:\n",
      "[[1.  0.  0. ]\n",
      " [1.  1.  0. ]\n",
      " [0.5 0.5 1. ]]\n",
      "\n",
      "U:\n",
      "[[4. 2. 0.]\n",
      " [0. 2. 2.]\n",
      " [0. 0. 2.]]\n",
      "\n",
      "np.dot(L, U):\n",
      "[[4. 2. 0.]\n",
      " [4. 4. 2.]\n",
      " [2. 2. 3.]]\n",
      "\n",
      "Solutions for the system: \n",
      "x = \n",
      "[ 1. -1.  2.]\n"
     ]
    }
   ],
   "source": [
    "import numpy as np\n",
    "\n",
    "def LU(A, b):\n",
    "    if A.shape[0] != A.shape[1]:\n",
    "        print('Error: A must be square.')\n",
    "    if A.shape[0] != b.size:\n",
    "        print('Error: the shape of A does not match the size of b.')\n",
    "    n = A.shape[0]\n",
    "    L = np.eye(n) \n",
    "    U = np.zeros_like(A) # np.zeros(n) would results in an error\n",
    "\n",
    "    # Used @ for matrix multiplication. Using either np.dot() or \n",
    "    # np.matmul() resulted in an error for whatever reason. \n",
    "    for j in range(n):\n",
    "        U[j,j:] = A[j,j:] - L[j,:j] @ U[:j,j:]\n",
    "        L[j+1:,j] = (A[j+1:,j] - L[j+1:,:j] @ U[:j,j])/U[j,j]\n",
    "\n",
    "    y = np.zeros(n)\n",
    "    for i in range(n):\n",
    "        y[i] = (b[i] - L[i,:i] @ y[:i])/L[i,i]\n",
    "        \n",
    "    x = np.zeros(n)\n",
    "    for i in range(n-1, -1, -1):\n",
    "        x[i] = (y[i] - U[i, i+1:] @ x[i+1:])/U[i,i]\n",
    "    \n",
    "    return L, U, x\n",
    "\n",
    "A = np.array([[4., 2., 0.],\n",
    "              [4., 4., 2.],\n",
    "              [2., 2., 3.]])\n",
    "\n",
    "b = np.array([2., 4., 6.])\n",
    "\n",
    "L, U, x = LU(A, b)\n",
    "\n",
    "print('L:')\n",
    "print(L)\n",
    "print()\n",
    "print('U:')\n",
    "print(U)\n",
    "print()\n",
    "print('np.dot(L, U):')\n",
    "print(np.dot(L, U))\n",
    "print()\n",
    "print('Solutions for the system: \\nx = ')\n",
    "print(x)"
   ]
  },
  {
   "cell_type": "code",
   "execution_count": 12,
   "metadata": {},
   "outputs": [
    {
     "data": {
      "text/latex": [
       "$\\displaystyle \\left[\\begin{matrix}1 & 0 & 0 & 1\\\\0 & 1 & 0 & -1\\\\0 & 0 & 1 & 2\\end{matrix}\\right]$"
      ],
      "text/plain": [
       "Matrix([\n",
       "[1, 0, 0,  1],\n",
       "[0, 1, 0, -1],\n",
       "[0, 0, 1,  2]])"
      ]
     },
     "execution_count": 12,
     "metadata": {},
     "output_type": "execute_result"
    }
   ],
   "source": [
    "# Confirming the answer using another method\n",
    "from sympy import *\n",
    "A = Matrix([[4,2,0],\n",
    "            [4,4,2],\n",
    "            [2,2,3]])\n",
    "b = Matrix([2,4,6])\n",
    "C = A.row_join(b)\n",
    "C.rref()[0]"
   ]
  },
  {
   "cell_type": "markdown",
   "metadata": {},
   "source": [
    "# Problem 4\n",
    "Let $A$ be the $n\\times n$ matrix with entries $A_{ij}=|i-j|+1$. Define $x=[1,\\dots,1]^T$ and $b=Ax$. For $n=100,200,300,400$ and $500$, use the Python function numpy.linalg.solve to compute $x_c$, the double precision computed solution. For each solution, calculate the infinity norm of the forward error, find the error magnification factor, and compare with the corresponding condition numbers. Use the default norm provided by np.linalg.norm, which, for vectors, is the Euclidean norm $\\|x\\|=\\left(\\sum_{k=1}^n |x_k|^2\\right)^{1/2}$.\n",
    "\n",
    "$\\textbf{MATH 5660 only}$: Compute the maximum error magnification factor in the vector norm provided by np.linalg.norm. Hint: Look up the description of np.linalg.norm and matrix norms to find which matrix norm of $A$ equals $\\max_{x\\ne 0}\\frac{\\|Ax\\|}{\\|x\\|}$ for the same Euclidean vector norm as above."
   ]
  },
  {
   "cell_type": "markdown",
   "metadata": {},
   "source": [
    "----------------------------\n",
    "#### Answer:\n",
    "----------------------------\n",
    "\n",
    "$\\frac{\\frac{||\\delta x||}{||x||}}{\\frac{||\\delta b||}{||b||}} = \\frac{\\frac{||A^{-1} \\hat{b} - A^{-1}b||}{||x||}}{\\frac{||\\delta b||}{||b||}} = \\frac{\\frac{||A^{-1} \\delta b||}{||x||}}{\\frac{||\\delta b||}{||b||}} = \\frac{||A^{-1} \\delta b||}{||x||} \\frac{||b||}{|| \\delta b ||} = \\frac{||A^{-1} \\delta b||}{||\\delta b||} \\frac{||b||}{|| A^{-1}b ||} = \\frac{||A^{-1} \\delta b||}{||\\delta b||} \\frac{||A x||}{||x||} = ||A^{-1}|| \\cdot ||A||$\n",
    "\n",
    "Forward error: $||\\delta x|| = || \\text{xc} - x ||$ \n",
    "\n",
    "Relative forward error: $ \\frac{||\\delta x||}{||x||}$\n",
    "\n",
    "$A(x + \\delta x) = b + \\delta b \\rightarrow \\delta b = A(x + \\delta x) - b$\n",
    "\n",
    "Backward error: $||\\delta b|| = ||A(x + \\delta x) - b||$  \n",
    "\n",
    "Relative backward error: $\\frac{||\\delta b||}{||b||} = \\frac{||A(x + \\delta x) - b||}{||b||} $\n",
    "\n",
    "Error magnification factor: $\\frac{\\frac{||\\delta x||}{||x||}}{\\frac{||\\delta b||}{||b||}} = \\frac{\\text{relative forward error}}{\\text{relative backward error}} $ "
   ]
  },
  {
   "cell_type": "code",
   "execution_count": 13,
   "metadata": {},
   "outputs": [
    {
     "name": "stdout",
     "output_type": "stream",
     "text": [
      "------------------------------------------------------------\n",
      "n = 100\n",
      "\n",
      "Condition number: 7138.877319654462\n",
      "\n",
      "Infinity norm of forward error: 5.766498389903063e-12\n",
      "\n",
      "Error magnification factor: 5336.446126302083\n",
      "------------------------------------------------------------\n",
      "n = 200\n",
      "\n",
      "Condition number: 28176.505492871525\n",
      "\n",
      "Infinity norm of forward error: 3.96980226469168e-11\n",
      "\n",
      "Error magnification factor: 27416.6748046875\n",
      "------------------------------------------------------------\n",
      "n = 300\n",
      "\n",
      "Condition number: 63110.448449094416\n",
      "\n",
      "Infinity norm of forward error: 9.509282250519391e-11\n",
      "\n",
      "Error magnification factor: 45391.233004056485\n",
      "------------------------------------------------------------\n",
      "n = 400\n",
      "\n",
      "Condition number: 111940.71815086955\n",
      "\n",
      "Infinity norm of forward error: 2.130293719204701e-10\n",
      "\n",
      "Error magnification factor: 117406.92108154298\n",
      "------------------------------------------------------------\n",
      "n = 500\n",
      "\n",
      "Condition number: 174667.31700415767\n",
      "\n",
      "Infinity norm of forward error: 3.597209197181428e-10\n",
      "\n",
      "Error magnification factor: 96754.9728155136\n"
     ]
    }
   ],
   "source": [
    "# with infinity norm\n",
    "import numpy as np\n",
    "for n in [100,200,300,400,500]:   \n",
    "    A = np.array([[abs(i-j)+1 for j in range(n)] \n",
    "                  for i in range(n)])\n",
    "\n",
    "    cond_num = np.linalg.cond(A)\n",
    "    \n",
    "    x = np.ones(n)\n",
    "    \n",
    "    b = A @ x \n",
    "    \n",
    "    x_c = np.linalg.solve(A, b) \n",
    "    \n",
    "    b_c = A @ x_c\n",
    "    \n",
    "    forward_err = np.linalg.norm(abs(x - x_c), np.inf)\n",
    "    rel_forward_err = forward_err / np.linalg.norm(x, np.inf)\n",
    "    \n",
    "    backward_err = np.linalg.norm(abs(b_c - b), np.inf)\n",
    "    b_norm = np.linalg.norm(b, np.inf)\n",
    "    rel_backward_err = backward_err / b_norm\n",
    "    \n",
    "    err_mag_factor = rel_forward_err / rel_backward_err \n",
    "    \n",
    "    print('---'*20)\n",
    "    print(f'n = {n}')\n",
    "    print()\n",
    "    print(f'Condition number: {cond_num}')\n",
    "    print()\n",
    "    print(f'Infinity norm of forward error: {forward_err}')\n",
    "    print()\n",
    "    print(f'Error magnification factor: {err_mag_factor}')"
   ]
  },
  {
   "cell_type": "code",
   "execution_count": 14,
   "metadata": {},
   "outputs": [
    {
     "name": "stdout",
     "output_type": "stream",
     "text": [
      "------------------------------------------------------------\n",
      "n = 100\n",
      "\n",
      "Condition number: 7138.877319654462\n",
      "\n",
      "Norm of forward error: 1.5607402234537677e-11\n",
      "\n",
      "Error magnification factor: 4021.1629493909604\n",
      "------------------------------------------------------------\n",
      "n = 200\n",
      "\n",
      "Condition number: 28176.505492871525\n",
      "\n",
      "Norm of forward error: 1.1058842352813192e-10\n",
      "\n",
      "Error magnification factor: 7022.199105324863\n",
      "------------------------------------------------------------\n",
      "n = 300\n",
      "\n",
      "Condition number: 63110.448449094416\n",
      "\n",
      "Norm of forward error: 3.5216861114957353e-10\n",
      "\n",
      "Error magnification factor: 21750.79531628307\n",
      "------------------------------------------------------------\n",
      "n = 400\n",
      "\n",
      "Condition number: 111940.71815086955\n",
      "\n",
      "Norm of forward error: 8.524208671039513e-10\n",
      "\n",
      "Error magnification factor: 53589.13443907505\n",
      "------------------------------------------------------------\n",
      "n = 500\n",
      "\n",
      "Condition number: 174667.31700415767\n",
      "\n",
      "Norm of forward error: 1.7446369529730022e-09\n",
      "\n",
      "Error magnification factor: 54346.06038674264\n"
     ]
    }
   ],
   "source": [
    "# with default norm\n",
    "import numpy as np\n",
    "for n in [100,200,300,400,500]:   \n",
    "    A = np.array([[abs(i-j)+1 for j in range(n)] \n",
    "                  for i in range(n)])\n",
    "\n",
    "    cond_num = np.linalg.cond(A)\n",
    "    \n",
    "    x = np.ones(n)\n",
    "    \n",
    "    b = A @ x \n",
    "    \n",
    "    x_c = np.linalg.solve(A, b) \n",
    "    \n",
    "    b_c = A @ x_c\n",
    "    \n",
    "    forward_err = np.linalg.norm(abs(x - x_c))\n",
    "    rel_forward_err = forward_err / np.linalg.norm(x)\n",
    "    \n",
    "    backward_err = np.linalg.norm(abs(b_c - b))\n",
    "    b_norm = np.linalg.norm(b)\n",
    "    rel_backward_err = backward_err / b_norm\n",
    "    \n",
    "    err_mag_factor = rel_forward_err / rel_backward_err \n",
    "    \n",
    "    print('---'*20)\n",
    "    print(f'n = {n}')\n",
    "    print()\n",
    "    print(f'Condition number: {cond_num}')\n",
    "    print()\n",
    "    print(f'Norm of forward error: {forward_err}')\n",
    "    print()\n",
    "    print(f'Error magnification factor: {err_mag_factor}')"
   ]
  },
  {
   "cell_type": "markdown",
   "metadata": {},
   "source": [
    "Both the conddition number and the error magnification factor increase as $n$ increases. Meaning, the larger this system becomes, the more ill-conditioned it becomes in tandem. Predictably, the error magnification is less than the condition number, with the one exception being when $n=400$ when we used the infinity norm. This specific case seems to be because of some error in my method.  "
   ]
  },
  {
   "cell_type": "markdown",
   "metadata": {},
   "source": [
    "# Problem 5\n",
    "Write a general $PA=LU$ factorization code and use it to solve the following system \n",
    "$$\n",
    "\\begin{bmatrix}\n",
    "-9 & 1 & 17 \\\\\n",
    "3 & 2 & -1 \\\\\n",
    "6 & 8 & 1\n",
    "\\end{bmatrix}\n",
    "\\begin{bmatrix}\n",
    "x_1 \\\\ x_2 \\\\ x_3\n",
    "\\end{bmatrix}\n",
    "=\n",
    "\\begin{bmatrix}\n",
    "5 \\\\ 9 \\\\-3\n",
    "\\end{bmatrix}\n",
    "$$"
   ]
  },
  {
   "cell_type": "code",
   "execution_count": 17,
   "metadata": {},
   "outputs": [
    {
     "name": "stdout",
     "output_type": "stream",
     "text": [
      "P: \n",
      "\n",
      "[[1. 0. 0.]\n",
      " [0. 0. 1.]\n",
      " [0. 1. 0.]]\n",
      "\n",
      "L: \n",
      "\n",
      "[[ 1.          0.          0.        ]\n",
      " [-0.66666667  1.          0.        ]\n",
      " [-0.33333333  0.26923077  1.        ]]\n",
      "\n",
      "U: \n",
      "\n",
      "[[-9.          1.         17.        ]\n",
      " [ 0.          8.66666667 12.33333333]\n",
      " [ 0.          0.          1.34615385]]\n",
      "\n",
      "A: \n",
      "\n",
      "[[-9.          1.         17.        ]\n",
      " [-0.66666667  8.66666667 12.33333333]\n",
      " [-0.33333333  0.26923077  1.34615385]]\n",
      "\n",
      "b: \n",
      "\n",
      "[ 5.  9. -3.]\n",
      "\n",
      "x (solution): \n",
      "\n",
      "[ 13.04761905 -11.14285714   7.85714286]\n"
     ]
    }
   ],
   "source": [
    "import numpy as np\n",
    "\n",
    "def PALU(A):\n",
    "    if A.shape[0] != A.shape[1]:\n",
    "        print('Error: the given coefficient matrix is not square')\n",
    "        return   \n",
    "     \n",
    "    n = A.shape[0]\n",
    "    P = np.eye(n)\n",
    "\n",
    "    for j in range(n-1):\n",
    "        p = np.argmax(np.abs(A[j:,j]))        \n",
    "        if p+j != j:\n",
    "            A[[p+j, j]] = A[[j, p+j]]\n",
    "            P[[p+j, j]] = P[[j, p+j]]\n",
    "        for i in range(j+1, n):\n",
    "            mp = A[i,j]/A[j,j]\n",
    "            A[i,j] = mp\n",
    "            for k in range(j+1,n):\n",
    "                A[i,k] = A[i,k] - mp*A[j,k]\n",
    "    \n",
    "    L = np.tril(A, k=-1) + np.eye(n) # from lower triangular \n",
    "    U = np.triu(A) # for upper triangular\n",
    "    \n",
    "    return P, L, U, A\n",
    "\n",
    "def fsub(L, b, inplace=False):\n",
    "    n = L.shape[0]\n",
    "    if not inplace:\n",
    "        b = b.copy()\n",
    "    for i in range(n):\n",
    "        for j in range(i):\n",
    "            b[i] -= L[i, j] * b[j]\n",
    "        b[i] /= L[i, i]\n",
    "    return b\n",
    "\n",
    "def bsub(U, b, inplace=False):\n",
    "    n = U.shape[0]\n",
    "    if not inplace:\n",
    "        b = b.copy()\n",
    "    for i in range(n-1, -1, -1):\n",
    "        for j in range(i+1, n):\n",
    "            b[i] -= U[i, j] * b[j]\n",
    "        b[i] /= U[i, i]\n",
    "    return b\n",
    "\n",
    "A = np.array([[-9., 1., 17.],\n",
    "              [3., 2., -1.],\n",
    "              [6., 8., 1.]])\n",
    "\n",
    "b = np.array([5., 9., -3.])\n",
    "\n",
    "P, L, U, A = PALU(A)\n",
    "Pb = np.dot(P, b)\n",
    "c = fsub(L, Pb)\n",
    "x = bsub(U, c)\n",
    "\n",
    "print('P: \\n')\n",
    "print(P)\n",
    "print()\n",
    "print('L: \\n')\n",
    "print(L)\n",
    "print()\n",
    "print('U: \\n')\n",
    "print(U)\n",
    "print()\n",
    "print('A: \\n')\n",
    "print(A)\n",
    "print()\n",
    "print('b: \\n')\n",
    "print(b)\n",
    "print()\n",
    "print('x (solution): \\n')\n",
    "print(x)"
   ]
  },
  {
   "cell_type": "code",
   "execution_count": 16,
   "metadata": {},
   "outputs": [
    {
     "data": {
      "text/latex": [
       "$\\displaystyle \\left[\\begin{matrix}1 & 0 & 0 & 13.047619047619\\\\0 & 1 & 0 & -11.1428571428571\\\\0 & 0 & 1 & 7.85714285714286\\end{matrix}\\right]$"
      ],
      "text/plain": [
       "Matrix([\n",
       "[1, 0, 0,   13.047619047619],\n",
       "[0, 1, 0, -11.1428571428571],\n",
       "[0, 0, 1,  7.85714285714286]])"
      ]
     },
     "execution_count": 16,
     "metadata": {},
     "output_type": "execute_result"
    }
   ],
   "source": [
    "# Checking answers another way \n",
    "from sympy import *\n",
    "A = Matrix([[-9., 1., 17.],\n",
    "            \n",
    "            [3., 2., -1.],\n",
    "            [6., 8., 1.]])\n",
    "\n",
    "b = Matrix([5., 9., -3.])\n",
    "C = A.row_join(b)\n",
    "C.rref()[0]"
   ]
  },
  {
   "cell_type": "code",
   "execution_count": null,
   "metadata": {},
   "outputs": [],
   "source": []
  }
 ],
 "metadata": {
  "kernelspec": {
   "display_name": "Python 3 (ipykernel)",
   "language": "python",
   "name": "python3"
  },
  "language_info": {
   "codemirror_mode": {
    "name": "ipython",
    "version": 3
   },
   "file_extension": ".py",
   "mimetype": "text/x-python",
   "name": "python",
   "nbconvert_exporter": "python",
   "pygments_lexer": "ipython3",
   "version": "3.11.5"
  },
  "latex_envs": {
   "LaTeX_envs_menu_present": true,
   "autoclose": false,
   "autocomplete": true,
   "bibliofile": "biblio.bib",
   "cite_by": "apalike",
   "current_citInitial": 1,
   "eqLabelWithNumbers": true,
   "eqNumInitial": 1,
   "hotkeys": {
    "equation": "Ctrl-E",
    "itemize": "Ctrl-I"
   },
   "labels_anchors": false,
   "latex_user_defs": false,
   "report_style_numbering": false,
   "user_envs_cfg": false
  },
  "toc": {
   "base_numbering": 1,
   "nav_menu": {},
   "number_sections": true,
   "sideBar": true,
   "skip_h1_title": false,
   "title_cell": "Table of Contents",
   "title_sidebar": "Contents",
   "toc_cell": false,
   "toc_position": {},
   "toc_section_display": true,
   "toc_window_display": false
  }
 },
 "nbformat": 4,
 "nbformat_minor": 4
}
