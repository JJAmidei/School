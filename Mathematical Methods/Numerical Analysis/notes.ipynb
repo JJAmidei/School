{
 "cells": [
  {
   "cell_type": "code",
   "execution_count": 5,
   "id": "0b57a60f",
   "metadata": {},
   "outputs": [
    {
     "data": {
      "text/plain": [
       "60.75000000000001"
      ]
     },
     "execution_count": 5,
     "metadata": {},
     "output_type": "execute_result"
    }
   ],
   "source": [
    "n = (2/3)*(9000)**3\n",
    "t = (0.002)/(4000)**2\n",
    "n*t"
   ]
  },
  {
   "cell_type": "code",
   "execution_count": null,
   "id": "9f24ab12",
   "metadata": {},
   "outputs": [],
   "source": []
  }
 ],
 "metadata": {
  "kernelspec": {
   "display_name": "Python 3 (ipykernel)",
   "language": "python",
   "name": "python3"
  },
  "language_info": {
   "codemirror_mode": {
    "name": "ipython",
    "version": 3
   },
   "file_extension": ".py",
   "mimetype": "text/x-python",
   "name": "python",
   "nbconvert_exporter": "python",
   "pygments_lexer": "ipython3",
   "version": "3.11.4"
  }
 },
 "nbformat": 4,
 "nbformat_minor": 5
}
