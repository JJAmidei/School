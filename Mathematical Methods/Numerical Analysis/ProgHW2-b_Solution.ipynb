{
 "cells": [
  {
   "cell_type": "code",
   "execution_count": 3,
   "metadata": {
    "tags": []
   },
   "outputs": [],
   "source": [
    "import numpy as np\n",
    "from base64 import b64decode\n",
    "from IPython import display\n",
    "import matplotlib.pyplot as plt\n",
    "%matplotlib inline"
   ]
  },
  {
   "cell_type": "markdown",
   "metadata": {},
   "source": [
    "# Problem 1\n",
    "Apply Fixed-Point Iteration to find the solution of the equation \n",
    "\n",
    "$$e^x+x=7$$\n",
    "\n",
    "Iterate until the absolute difference of two successive iterates is less than $\\epsilon=10^{-8}$.\n",
    "\n",
    "(Hint: make sure you use a function $g(x)$ that theoretically works; otherwise the algorithm may diverge; the initial guess can be obtained from a plot of the function.)"
   ]
  },
  {
   "cell_type": "markdown",
   "metadata": {},
   "source": [
    "### Solution "
   ]
  },
  {
   "cell_type": "code",
   "execution_count": 4,
   "metadata": {
    "tags": []
   },
   "outputs": [],
   "source": [
    "# Function for fixed-point iteration \n",
    "# The stopping criterion is iterates from two successive steps are close under some tolerance\n",
    "# if f(x)=0 can be written as g(x)=x\n",
    "\n",
    "def fpi_tol(g, x_0, tol):\n",
    "    \"\"\"\n",
    "    g: the function g(x) in g(x)=x\n",
    "    x_0: the initial guess\n",
    "    k: the tolerance. The algorithm stops if two successive iterates have a difference\n",
    "       less than the tol\n",
    "    \"\"\"\n",
    "    nstep = 0\n",
    "    x = g(x_0)\n",
    "    while (np.abs(x-x_0) > tol):\n",
    "        x_0 = x\n",
    "        x = g(x_0)\n",
    "        nstep += 1\n",
    "    \n",
    "    return x, nstep"
   ]
  },
  {
   "cell_type": "markdown",
   "metadata": {},
   "source": [
    "First we check the plot of the function:"
   ]
  },
  {
   "cell_type": "code",
   "execution_count": 5,
   "metadata": {
    "tags": []
   },
   "outputs": [
    {
     "data": {
      "image/png": "[encoded data removed]",
      "text/plain": [
       "<Figure size 640x480 with 1 Axes>"
      ]
     },
     "metadata": {},
     "output_type": "display_data"
    }
   ],
   "source": [
    "def f_pr4_b(x):\n",
    "    return np.exp(x)+x-7.\n",
    "\n",
    "x = np.linspace(-3,3,1000)\n",
    "plt.plot(x,f_pr4_b(x))\n",
    "plt.title('Problem 3')\n",
    "plt.axhline(color='r');"
   ]
  },
  {
   "cell_type": "markdown",
   "metadata": {},
   "source": [
    "Let the intial guess be $1$ for example. Note for\n",
    "\\begin{equation*}\n",
    "g(x) = 7-e^x\n",
    "\\end{equation*}\n",
    "$|g'(1.8)| > 1$. So another $g$ needs to be used.\n",
    "\n",
    "The following $g$ function works:\n",
    "\\begin{equation*}\n",
    "g(x) = \\log{(7-x)}\n",
    "\\end{equation*}"
   ]
  },
  {
   "cell_type": "code",
   "execution_count": 6,
   "metadata": {
    "tags": []
   },
   "outputs": [
    {
     "name": "stdout",
     "output_type": "stream",
     "text": [
      "The approx solution g(x) with |x-g(x)|< 1e-08 found in 11 iterations\n",
      "1.6728216974043735\n",
      "The original function f value evaluated at  1.6728216974043735  is:  -7.747838814964325e-09\n"
     ]
    }
   ],
   "source": [
    "def g_pr4_b(x):\n",
    "    return np.log(7.-x)\n",
    "\n",
    "x_0 = 1.\n",
    "tol = 1e-8\n",
    "sol_b, nstep = fpi_tol(g_pr4_b, x_0, tol)\n",
    "print('The approx solution g(x) with |x-g(x)|<',tol,'found in',nstep,'iterations')\n",
    "print(sol_b)\n",
    "\n",
    "# Check if the solution is correct:\n",
    "print('The original function f value evaluated at ', sol_b, ' is: ', f_pr4_b(sol_b))"
   ]
  },
  {
   "cell_type": "markdown",
   "metadata": {},
   "source": [
    "# Problem 2\n",
    "(2.4-1) Use the Python codes for the secant and Newton's methods to find solutions\n",
    "for the equation $\\sin x-e^{-x}=0$ on $0\\leq x\\leq1$. Set tolerance\n",
    "to $10^{-4}$, and take $p_{0}=0$ in Newton, and $p_{0}=0,p_{1}=1$\n",
    "in secant method. Do a visual inspection of the estimates and comment\n",
    "on the convergence rates of the methods."
   ]
  },
  {
   "cell_type": "markdown",
   "metadata": {
    "tags": []
   },
   "source": [
    "### Solution"
   ]
  },
  {
   "cell_type": "code",
   "execution_count": 7,
   "metadata": {
    "tags": []
   },
   "outputs": [],
   "source": [
    "def newton2(f, fprime, pin, eps, N):\n",
    "    n = 1\n",
    "    p = 0. # to ensure the value of p carries out of the while loop\n",
    "    while n <= N:\n",
    "        p = pin - f(pin)/fprime(pin)\n",
    "        print('p is ', p, ' and the iteration is ', n)\n",
    "        if f(p) == 0:\n",
    "            return\n",
    "        pin = p\n",
    "        n += 1"
   ]
  },
  {
   "cell_type": "code",
   "execution_count": 8,
   "metadata": {
    "tags": []
   },
   "outputs": [],
   "source": [
    "def secant2(f, pzero, pone, eps, N):\n",
    "    n = 1\n",
    "    p = 0. # to ensure the value of p carries out of the while loop\n",
    "    while n <= N:\n",
    "        p = pone - f(pone)*(pone-pzero) / (f(pone)-f(pzero))\n",
    "        print('p is ', p, ' and the iteration is ', n)\n",
    "        if f(p) == 0:\n",
    "            return\n",
    "        pzero = pone\n",
    "        pone = p\n",
    "        n += 1"
   ]
  },
  {
   "cell_type": "code",
   "execution_count": 9,
   "metadata": {
    "tags": []
   },
   "outputs": [
    {
     "name": "stdout",
     "output_type": "stream",
     "text": [
      "p is  0.5  and the iteration is  1\n",
      "p is  0.5856438169664325  and the iteration is  2\n",
      "p is  0.5885294126263548  and the iteration is  3\n",
      "p is  0.5885327439774188  and the iteration is  4\n",
      "p is  0.5885327439818611  and the iteration is  5\n"
     ]
    }
   ],
   "source": [
    "newton2(lambda x: np.sin(x)-np.exp(-x), lambda x: np.cos(x)+np.exp(-x), \n",
    "       0, 1e-4, 30)"
   ]
  },
  {
   "cell_type": "code",
   "execution_count": 10,
   "metadata": {
    "scrolled": true,
    "tags": []
   },
   "outputs": [
    {
     "name": "stdout",
     "output_type": "stream",
     "text": [
      "p is  0.6786141005751505  and the iteration is  1\n",
      "p is  0.5690622514011432  and the iteration is  2\n",
      "p is  0.5892596135984055  and the iteration is  3\n",
      "p is  0.5885383580178513  and the iteration is  4\n",
      "p is  0.5885327423478889  and the iteration is  5\n",
      "p is  0.5885327439818647  and the iteration is  6\n",
      "p is  0.5885327439818612  and the iteration is  7\n",
      "p is  0.5885327439818611  and the iteration is  8\n"
     ]
    }
   ],
   "source": [
    "secant2(lambda x: np.sin(x)-np.exp(-x), 0, 1, 1e-4, 30)"
   ]
  },
  {
   "cell_type": "markdown",
   "metadata": {},
   "source": [
    "Newton's method converges much faster."
   ]
  },
  {
   "cell_type": "markdown",
   "metadata": {},
   "source": [
    "# Problem 3\n",
    "\n",
    "Write a general $LU$ factorization code and use it to solve\n",
    "$$\n",
    "\\left[\\begin{array}{lll}{4} & {2} & {0} \\\\ {4} & {4} & {2} \\\\ {2} & {2} & {3}\\end{array}\\right]\\left[\\begin{array}{l}{x_{1}} \\\\ {x_{2}} \\\\ {x_{3}}\\end{array}\\right]=\\left[\\begin{array}{l}{2} \\\\ {4} \\\\ {6}\\end{array}\\right]\n",
    "$$"
   ]
  },
  {
   "cell_type": "markdown",
   "metadata": {},
   "source": [
    "### Solution "
   ]
  },
  {
   "cell_type": "code",
   "execution_count": 12,
   "metadata": {
    "tags": []
   },
   "outputs": [],
   "source": [
    "def LU(A):\n",
    "    \"\"\"\n",
    "    LU factorization without pivoting. \n",
    "    The coefficient matrix A is modified in place.\n",
    "    The lower triangular part of A represents the L matrix, the upper triangular part \n",
    "    (including the diagonal) represents U\n",
    "    A: the coefficient matrix of size n x n   \n",
    "    \"\"\"\n",
    "    if A.shape[0] != A.shape[1]:\n",
    "        print('The given coefficient matrix is not square')\n",
    "        stop   \n",
    "     \n",
    "    # We hard code the epsilon here. It can be an input parameter.\n",
    "    eps = 1e-5 \n",
    "    n = A.shape[0]\n",
    "\n",
    "    for j in range(n-1):\n",
    "        if np.abs(A[j,j]) < eps:\n",
    "            print('Zero pivot encountered!')\n",
    "            stop\n",
    "        for i in range(j+1, n):\n",
    "            # The multiplier\n",
    "            mp = A[i,j]/A[j,j]\n",
    "            A[i,j] = mp\n",
    "            for k in range(j+1,n):\n",
    "                A[i,k] = A[i,k] - mp*A[j,k]\n",
    "    \n",
    "    # No need to return. Both A and b are changed in place\n",
    "    \n",
    "def forward_sub(A, b, A_from_LU):\n",
    "    \"\"\"\n",
    "    Forward substitution\n",
    "    The right hand side b is changed in place to store the solution\n",
    "    A: the coefficient matrix of size n x n\n",
    "    b: the right hand side of size n\n",
    "    A_from_LU: True, if the matrix A is from LU factorization (diagonals are 1).\n",
    "               False, if A is just a regular coefficient matrix\n",
    "    \"\"\"\n",
    "    if A.shape[0] != A.shape[1]:\n",
    "        print('The given coefficient matrix is not square')\n",
    "        stop\n",
    "    \n",
    "    if A.shape[0] != b.size:\n",
    "        print('The shape of the coefficient matrix does not match the size of the RHS')\n",
    "        stop\n",
    "     \n",
    "    n = A.shape[0]\n",
    "    \n",
    "    if A_from_LU:\n",
    "        for j in range(0,n):       \n",
    "            b[j+1:] = b[j+1:] - A[j+1:,j]*b[j]\n",
    "    else:\n",
    "        for j in range(0,n):  \n",
    "            b[j,j] = b[j,j]/A[j,j]\n",
    "            b[j+1:] = b[j+1:] - A[j+1:,j]*b[j]\n",
    "\n",
    "def back_sub(A, b):\n",
    "    \"\"\"\n",
    "    Backward substitution\n",
    "    The right hand side b is changed in place to store the solution\n",
    "    A: the coefficient matrix of size n x n\n",
    "    b: the right hand side of size n\n",
    "    \"\"\"\n",
    "    if A.shape[0] != A.shape[1]:\n",
    "        print('The given coefficient matrix is not square')\n",
    "        stop\n",
    "    \n",
    "    if A.shape[0] != b.size:\n",
    "        print('The shape of the coefficient matrix does not match the size of the RHS')\n",
    "        stop\n",
    "     \n",
    "    n = A.shape[0]\n",
    "    \n",
    "    for i in range(n-1, -1, -1):\n",
    "        for j in range(i+1, n):\n",
    "            b[i] = b[i] - A[i,j]*b[j]\n",
    "        b[i] = b[i]/A[i,i]\n",
    "            "
   ]
  },
  {
   "cell_type": "code",
   "execution_count": 16,
   "metadata": {
    "tags": []
   },
   "outputs": [
    {
     "name": "stdout",
     "output_type": "stream",
     "text": [
      "The matrix A after LU decomposition is \n",
      "[[4.  2.  0. ]\n",
      " [1.  2.  2. ]\n",
      " [0.5 0.5 2. ]]\n",
      "After forward substition, the vector b is\n",
      "[2. 2. 4.]\n",
      "After backward substition, the vector b is\n",
      "[ 1. -1.  2.]\n"
     ]
    }
   ],
   "source": [
    "A = np.array([[4.,2.,0.], [4.,4.,2.], [2.,2.,3.]])\n",
    "b = np.array([2.,4.,6.])\n",
    "A_copy = A.copy()  # optional\n",
    "b_copy = b.copy()\n",
    "# Perform LU factorization\n",
    "LU(A)\n",
    "print('The matrix A after LU decomposition is ')\n",
    "print(A)\n",
    "# Perform forward substitution\n",
    "forward_sub(A,b,True)\n",
    "print('After forward substition, the vector b is')\n",
    "print(b)\n",
    "# Perform back substitution\n",
    "back_sub(A,b)\n",
    "print('After backward substition, the vector b is')\n",
    "print(b)"
   ]
  },
  {
   "cell_type": "code",
   "execution_count": 19,
   "metadata": {
    "tags": []
   },
   "outputs": [
    {
     "name": "stdout",
     "output_type": "stream",
     "text": [
      "[0. 0. 0.]\n"
     ]
    }
   ],
   "source": [
    "# test - optional\n",
    "err = np.dot(A_copy,b) - b_copy\n",
    "print(err)"
   ]
  },
  {
   "cell_type": "markdown",
   "metadata": {},
   "source": [
    "# Problem 4\n",
    "Let $A$ be the $n\\times n$ matrix with entries $A_{ij}=|i-j|+1$. Define $x=[1,\\dots,1]^T$ and $b=Ax$. For $n=100,200,300,400$ and $500$, use the Python function numpy.linalg.solve to compute $x_c$, the double precision computed solution. For each solution, calculate the infinity norm of the forward error, find the error magnification factor, and compare with the corresponding condition numbers. Use the default norm provided by np.linalg.norm, which, for vectors, is the Euclidean norm $\\|x\\|=\\left(\\sum_{k=1}^n |x_k|^2\\right)^{1/2}$.\n",
    "\n",
    "**MATH 5660 only**: Compute the maximum error magnification factor in the vector norm provided by np.linalg.norm. Hint: Look up the description of np.linalg.norm and matrix norms to find which matrix norm of $A$ equals $\\max_{x\\ne 0}\\frac{\\|Ax\\|}{\\|x\\|}$ for the same Euclidean vector norm as above."
   ]
  },
  {
   "cell_type": "markdown",
   "metadata": {},
   "source": [
    "### Solution"
   ]
  },
  {
   "cell_type": "markdown",
   "metadata": {
    "tags": []
   },
   "source": [
    "Compute $x_c$:"
   ]
  },
  {
   "cell_type": "code",
   "execution_count": 31,
   "metadata": {
    "tags": []
   },
   "outputs": [
    {
     "name": "stdout",
     "output_type": "stream",
     "text": [
      "For n =  100  the forward error in infinity norm is  2.531752585355207e-12\n",
      "For n =  100  the error magnification factor in infinity norm is  3514.4104003906245\n",
      "For n =  100  the condition number in infinity norm is  10100.000000006721 from numpy 10100.000000006721 difference 0.0\n",
      "For n =  100  the error manification factor is 0.3479614257810184 of the condition number, in infinity norm\n",
      "For n =  100  the condition number in infinity norm from numpy is  10100.000000006721\n",
      "For n =  100  the forward error in default norm is  9.128292226590236e-12\n",
      "For n =  100  the error magnification factor in default norm is  2235.521698041085\n",
      "For n =  100  the condition number in default norm is  7138.87731965427 from numpy 7138.8773196543525 difference -8.276401786133647e-11\n",
      "For n =  100  the error manification factor is 0.313147515770638 of the condition number, in default norm\n",
      "For n =  100  the condition number in default norm from numpy is  7138.8773196543525\n",
      "For n =  200  the forward error in infinity norm is  2.126698817050965e-11\n",
      "For n =  200  the error magnification factor in infinity norm is  29375.271606445312\n",
      "For n =  200  the condition number in infinity norm is  40200.00000017773 from numpy 40200.00000017773 difference 0.0\n",
      "For n =  200  the error manification factor is 0.7307281494108319 of the condition number, in infinity norm\n",
      "For n =  200  the condition number in infinity norm from numpy is  40200.00000017773\n",
      "For n =  200  the forward error in default norm is  7.854492324760359e-11\n",
      "For n =  200  the error magnification factor in default norm is  14084.250403030375\n",
      "For n =  200  the condition number in default norm is  28176.505492872482 from numpy 28176.505492873108 difference -6.257323548197746e-10\n",
      "For n =  200  the error manification factor is 0.49985795458535914 of the condition number, in default norm\n",
      "For n =  200  the condition number in default norm from numpy is  28176.505492873108\n",
      "For n =  300  the forward error in infinity norm is  7.525047251988326e-11\n",
      "For n =  300  the error magnification factor in infinity norm is  58369.61631774902\n",
      "For n =  300  the condition number in infinity norm is  90300.00000177609 from numpy 90300.00000177609 difference 0.0\n",
      "For n =  300  the error manification factor is 0.6463966369501768 of the condition number, in infinity norm\n",
      "For n =  300  the condition number in infinity norm from numpy is  90300.00000177609\n",
      "For n =  300  the forward error in default norm is  2.8206039202387897e-10\n",
      "For n =  300  the error magnification factor in default norm is  38843.14261559842\n",
      "For n =  300  the condition number in default norm is  63110.44844909452 from numpy 63110.44844909819 difference -3.67435859516263e-09\n",
      "For n =  300  the error manification factor is 0.6154787926587095 of the condition number, in default norm\n",
      "For n =  300  the condition number in default norm from numpy is  63110.44844909819\n",
      "For n =  400  the forward error in infinity norm is  1.444757646851258e-10\n",
      "For n =  400  the error magnification factor in infinity norm is  79624.9575805664\n",
      "For n =  400  the condition number in infinity norm is  160400.0000059148 from numpy 160400.0000059148 difference 0.0\n",
      "For n =  400  the error manification factor is 0.49641494749146015 of the condition number, in infinity norm\n",
      "For n =  400  the condition number in infinity norm from numpy is  160400.0000059148\n",
      "For n =  400  the forward error in default norm is  5.803777482065902e-10\n",
      "For n =  400  the error magnification factor in default norm is  55052.13284952229\n",
      "For n =  400  the condition number in default norm is  111940.71815079954 from numpy 111940.71815087079 difference -7.12461769580841e-08\n",
      "For n =  400  the error manification factor is 0.49179720979956104 of the condition number, in default norm\n",
      "For n =  400  the condition number in default norm from numpy is  111940.71815087079\n",
      "For n =  500  the forward error in infinity norm is  2.0997448224591153e-10\n",
      "For n =  500  the error magnification factor in infinity norm is  129091.02875845773\n",
      "For n =  500  the condition number in infinity norm is  250500.00001188088 from numpy 250500.00001188088 difference 0.0\n",
      "For n =  500  the error manification factor is 0.5153334481131142 of the condition number, in infinity norm\n",
      "For n =  500  the condition number in infinity norm from numpy is  250500.00001188088\n",
      "For n =  500  the forward error in default norm is  1.2032577663507025e-09\n",
      "For n =  500  the error magnification factor in default norm is  93496.12077568228\n",
      "For n =  500  the condition number in default norm is  174667.31700416375 from numpy 174667.31700418063 difference -1.6880221664905548e-08\n",
      "For n =  500  the error manification factor is 0.5352811411962863 of the condition number, in default norm\n",
      "For n =  500  the condition number in default norm from numpy is  174667.31700418063\n"
     ]
    }
   ],
   "source": [
    "for k in range(5):\n",
    "    n = (k+1)*100\n",
    "    A = np.zeros((n,n))\n",
    "    for i in range(n):\n",
    "        for j in range(n):\n",
    "            A[i,j] = np.abs((i+1)-(j+1))+1\n",
    "    # True solution:\n",
    "    sol_true = np.ones(n,)\n",
    "    b = np.dot(A, sol_true)    \n",
    "    # numerical solution\n",
    "    sol = np.linalg.solve(A, b)\n",
    "    \n",
    "    # in infinity norm\n",
    "    # forward error:\n",
    "    fwd_err = np.linalg.norm(sol-sol_true, np.inf)\n",
    "    # relative forward error:\n",
    "    rel_fwd_err = fwd_err / np.linalg.norm(sol_true, np.inf)\n",
    "    # backward error:\n",
    "    back_err = np.linalg.norm(b-np.dot(A,sol), np.inf)\n",
    "    # relative backward error:\n",
    "    rel_back_err = back_err / np.linalg.norm(b, np.inf)\n",
    "    # error magnification factor:\n",
    "    err_mag_factor = rel_fwd_err / rel_back_err\n",
    "    # condition number\n",
    "    norm_A = np.linalg.norm(A, np.inf)\n",
    "    norm_invA = np.linalg.norm(np.linalg.inv(A), np.inf)\n",
    "    cond_A = norm_A * norm_invA\n",
    "\n",
    "    \n",
    "    print('For n = ', n, ' the forward error in infinity norm is ', fwd_err)\n",
    "    print('For n = ', n, ' the error magnification factor in infinity norm is ', err_mag_factor)\n",
    "    print('For n = ', n, ' the condition number in infinity norm is ', cond_A,'from numpy',np.linalg.cond(A,np.inf),'difference',cond_A-np.linalg.cond(A,np.inf))\n",
    "    print('For n = ', n, ' the error manification factor is', err_mag_factor/cond_A,'of the condition number, in infinity norm')\n",
    "    print('For n = ', n, ' the condition number in infinity norm from numpy is ', np.linalg.cond(A, np.inf)) # optional\n",
    "    \n",
    "    \n",
    "    # in default norm\n",
    "    # forward error:\n",
    "    fwd_err = np.linalg.norm(sol-sol_true)\n",
    "    # relative forward error:\n",
    "    rel_fwd_err = fwd_err / np.linalg.norm(sol_true)\n",
    "    # backward error:\n",
    "    back_err = np.linalg.norm(b-np.dot(A,sol))\n",
    "    # relative backward error:\n",
    "    rel_back_err = back_err / np.linalg.norm(b)\n",
    "    # error magnification factor:\n",
    "    err_mag_factor = rel_fwd_err / rel_back_err\n",
    "    # condition number\n",
    "    norm_A = np.linalg.norm(A,ord=2)\n",
    "    norm_invA = np.linalg.norm(np.linalg.inv(A),ord=2)\n",
    "    cond_A = norm_A * norm_invA\n",
    "    \n",
    "    print('For n = ', n, ' the forward error in default norm is ', fwd_err)\n",
    "    print('For n = ', n, ' the error magnification factor in default norm is ', err_mag_factor)\n",
    "    print('For n = ', n, ' the condition number in default norm is ',cond_A,'from numpy',np.linalg.cond(A,p=2),'difference',cond_A-np.linalg.cond(A,p=2))\n",
    "    print('For n = ', n, ' the error manification factor is', err_mag_factor/cond_A,'of the condition number, in default norm')\n",
    "    print('For n = ', n, ' the condition number in default norm from numpy is ', np.linalg.cond(A))   # optional\n",
    "    \n",
    "    "
   ]
  },
  {
   "cell_type": "markdown",
   "metadata": {},
   "source": [
    "Comparison: in all cases, the error magnification error is a substantial fraction of the condition number."
   ]
  },
  {
   "cell_type": "markdown",
   "metadata": {},
   "source": [
    "### Solution MATH 5660 additional part only"
   ]
  },
  {
   "cell_type": "markdown",
   "metadata": {
    "tags": []
   },
   "source": [
    "For $\\|x\\|$ the infinity norm, $\\max_{x\\ne 0}\\frac{\\|Ax\\|}{\\|x\\|}$ is np.linalg.norm(A,np.inf)\n",
    "\n",
    "For $\\|x\\|$ the default norm (the 2-norm), $\\max_{x\\ne 0}\\frac{\\|Ax\\|}{\\|x\\|}$ is np.linalg.norm(A,ord=2)\n",
    "\n",
    "The maximum error magnification factor is $\\max_{\\delta b\\ne 0}\\frac{\\|A^{-1}\\delta b\\|}{\\|\\delta b\\|}  \\max_{x\\ne 0} \\frac{\\|Ax\\|}{\\|x\\|}$ (textbook, ch.3.1 Condition Number section),\n",
    "which is $\\|A\\| \\|A^{-1}\\|$ already computed in the previous part: np.linalg.norm(A,ord=2)*np.linalg.norm(np.linalg.inv(A),ord=2) for the 2-norm, and np.linalg.norm(A,np.inf)*np.linalg.norm(np.linalg.inv(A),np.inf) for the infinity norm.\n"
   ]
  },
  {
   "cell_type": "markdown",
   "metadata": {
    "tags": []
   },
   "source": [
    "### Grading notes\n",
    "Use of either the default norm or the infinity norm is accepted, but it should be consistent.\n",
    "Computing the condition number either way, as $\\|A\\|\\,\\|A^{-1}\\|$, or by np.linalg.cond, is accepted, if correct.\n"
   ]
  },
  {
   "cell_type": "markdown",
   "metadata": {},
   "source": [
    "# Problem 5"
   ]
  },
  {
   "cell_type": "code",
   "execution_count": 33,
   "metadata": {
    "tags": []
   },
   "outputs": [],
   "source": [
    "def PALU(A):\n",
    "    \"\"\"\n",
    "    PA=LU factorization with partial pivoting. \n",
    "    The coefficient matrix A is modified in place.\n",
    "    The lower triangular part of A represents the L matrix, the upper triangular part \n",
    "    (including the diagonal) represents U\n",
    "    A: the coefficient matrix of size n x n\n",
    "    output:\n",
    "    Permutation matrix $P$ is returned, along with $A$ that is changed in place\n",
    "    \"\"\"\n",
    "    if A.shape[0] != A.shape[1]:\n",
    "        print('The given coefficient matrix is not square')\n",
    "        stop   \n",
    "     \n",
    "    # We hard code the epsilon here. It can be an input parameter.\n",
    "    n = A.shape[0]\n",
    "    P = np.eye(n)\n",
    "\n",
    "    for j in range(n-1):\n",
    "        print(A)\n",
    "        # find p\n",
    "        p = np.argmax(np.abs(A[j:,j]))        \n",
    "        if p+j != j:\n",
    "            # change rows p and j of A. Update P:\n",
    "            A[[p+j, j]] = A[[j, p+j]]\n",
    "            P[[p+j, j]] = P[[j, p+j]]   \n",
    "        for i in range(j+1, n):\n",
    "            # The multiplier\n",
    "            mp = A[i,j]/A[j,j]\n",
    "            A[i,j] = mp\n",
    "            for k in range(j+1,n):\n",
    "                A[i,k] = A[i,k] - mp*A[j,k]\n",
    "    return P"
   ]
  },
  {
   "cell_type": "code",
   "execution_count": 35,
   "metadata": {
    "tags": []
   },
   "outputs": [
    {
     "name": "stdout",
     "output_type": "stream",
     "text": [
      "Perform PA=LU factorization of A = : \n",
      "Before PA=LU factorization, A = \n",
      "[[-9.  1. 17.]\n",
      " [ 3.  2. -1.]\n",
      " [ 6.  8.  1.]]\n",
      "[[-9.  1. 17.]\n",
      " [ 3.  2. -1.]\n",
      " [ 6.  8.  1.]]\n",
      "[[-9.          1.         17.        ]\n",
      " [-0.33333333  2.33333333  4.66666667]\n",
      " [-0.66666667  8.66666667 12.33333333]]\n",
      "The PA=LU factorization result is \n",
      "After PA=LU factorization, A = \n",
      "[[-9.          1.         17.        ]\n",
      " [-0.66666667  8.66666667 12.33333333]\n",
      " [-0.33333333  0.26923077  1.34615385]]\n",
      "The permutation matrix P = \n",
      "[[1. 0. 0.]\n",
      " [0. 0. 1.]\n",
      " [0. 1. 0.]]\n"
     ]
    }
   ],
   "source": [
    "A = np.array([[-9., 1, 17], [3, 2, -1], [6, 8, 1]])\n",
    "print('Perform PA=LU factorization of A = : ')\n",
    "print('Before PA=LU factorization, A = ')\n",
    "print(A)\n",
    "A_copy = A.copy()  # optional\n",
    "\n",
    "P = PALU(A)\n",
    "print('The PA=LU factorization result is ')\n",
    "print('After PA=LU factorization, A = ')\n",
    "print(A)\n",
    "print('The permutation matrix P = ')\n",
    "print(P)"
   ]
  },
  {
   "cell_type": "code",
   "execution_count": 36,
   "metadata": {
    "tags": []
   },
   "outputs": [
    {
     "name": "stdout",
     "output_type": "stream",
     "text": [
      "L*U - P*A_copy = \n",
      "[[ 0.0000000e+00  0.0000000e+00  0.0000000e+00]\n",
      " [ 0.0000000e+00 -8.8817842e-16  0.0000000e+00]\n",
      " [ 0.0000000e+00  4.4408921e-16  0.0000000e+00]]\n"
     ]
    }
   ],
   "source": [
    "# test - optional\n",
    "# Extracting L and U from the modified A\n",
    "U = np.triu(A)\n",
    "L = A - U + np.eye(A.shape[0])\n",
    "# Verifying that L*U = P*A_copy\n",
    "result = np.dot(L, U) - np.dot(P, A_copy)\n",
    "\n",
    "print(\"L*U - P*A_copy = \")\n",
    "print(result)"
   ]
  },
  {
   "cell_type": "code",
   "execution_count": null,
   "metadata": {},
   "outputs": [],
   "source": []
  }
 ],
 "metadata": {
  "kernelspec": {
   "display_name": "Python 3",
   "language": "python",
   "name": "python3"
  },
  "language_info": {
   "codemirror_mode": {
    "name": "ipython",
    "version": 3
   },
   "file_extension": ".py",
   "mimetype": "text/x-python",
   "name": "python",
   "nbconvert_exporter": "python",
   "pygments_lexer": "ipython3",
   "version": "3.8.17"
  },
  "latex_envs": {
   "LaTeX_envs_menu_present": true,
   "autoclose": false,
   "autocomplete": true,
   "bibliofile": "biblio.bib",
   "cite_by": "apalike",
   "current_citInitial": 1,
   "eqLabelWithNumbers": true,
   "eqNumInitial": 1,
   "hotkeys": {
    "equation": "Ctrl-E",
    "itemize": "Ctrl-I"
   },
   "labels_anchors": false,
   "latex_user_defs": false,
   "report_style_numbering": false,
   "user_envs_cfg": false
  },
  "toc": {
   "base_numbering": 1,
   "nav_menu": {},
   "number_sections": true,
   "sideBar": true,
   "skip_h1_title": false,
   "title_cell": "Table of Contents",
   "title_sidebar": "Contents",
   "toc_cell": false,
   "toc_position": {},
   "toc_section_display": true,
   "toc_window_display": false
  }
 },
 "nbformat": 4,
 "nbformat_minor": 4
}
