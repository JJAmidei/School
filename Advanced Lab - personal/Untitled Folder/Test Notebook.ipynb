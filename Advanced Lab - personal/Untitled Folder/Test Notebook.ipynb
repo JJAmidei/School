{
 "cells": [
  {
   "cell_type": "code",
   "execution_count": 41,
   "id": "86f0a88f",
   "metadata": {},
   "outputs": [
    {
     "name": "stdout",
     "output_type": "stream",
     "text": [
      "10.723805294763608\n",
      "0.27975144247209416i + 0.4662524041201569j + 0.8392543274162825k\n",
      "1.0\n"
     ]
    }
   ],
   "source": [
    "%run vectors.py"
   ]
  },
  {
   "cell_type": "code",
   "execution_count": null,
   "id": "64d628d8",
   "metadata": {},
   "outputs": [],
   "source": []
  }
 ],
 "metadata": {
  "kernelspec": {
   "display_name": "Python 3 (ipykernel)",
   "language": "python",
   "name": "python3"
  },
  "language_info": {
   "codemirror_mode": {
    "name": "ipython",
    "version": 3
   },
   "file_extension": ".py",
   "mimetype": "text/x-python",
   "name": "python",
   "nbconvert_exporter": "python",
   "pygments_lexer": "ipython3",
   "version": "3.11.4"
  }
 },
 "nbformat": 4,
 "nbformat_minor": 5
}
