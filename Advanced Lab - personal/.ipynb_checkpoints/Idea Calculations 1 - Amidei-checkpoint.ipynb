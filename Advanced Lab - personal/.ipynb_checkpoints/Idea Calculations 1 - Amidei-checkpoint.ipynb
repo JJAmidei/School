{
 "cells": [
  {
   "cell_type": "markdown",
   "id": "cb35cf29",
   "metadata": {},
   "source": [
    "# Idea Calculations 09/8/2023 - James Amidei\n",
    "-----------------------------------------------------\n",
    "\n",
    "### Excercise 1:\n",
    "\n",
    "For gamma decay, what are the changes in mass number, atomic number, and the\n",
    "number of neutrons?\n",
    "\n",
    "#### Answer: \n",
    "\n",
    "No change in the atomic number, number of neutrons, and by definition no change in the atomic mass number. \n",
    "\n",
    "### Excercise 2: \n",
    "\n",
    "For alpha decay what are the changes in mass number, atomic number, and the number\n",
    "of neutrons?\n",
    "\n",
    "#### Answer: \n",
    "\n",
    "The mass number will reduced by four and the number of protons (the atomic number) and neutrons will decrease by two each. \n",
    "\n",
    "### Excercise 3: \n",
    "\n",
    "For each type of beta decay what are the changes in mass number, atomic number, and\n",
    "the number of neutrons?\n",
    "\n",
    "#### Answer: \n",
    "\n",
    "In each type of beta decay, there is no change in the atomic mass number, the atomic number goes down by one, and the number of neutrons increases by one. \n",
    "\n",
    "### Excercise 4:\n",
    "\n",
    "How much time does it take for a collection of neutrons to decay where only 1%\n",
    "remain?\n",
    "\n",
    "#### Answer: \n",
    "\n",
    "Formula for half life: \n",
    "\n",
    "$$ N(t) = N_{0}(0.5)^{t/t_{1/2}}$$\n",
    "\n",
    "Half life of free neutron: $14.64$ minutes \n",
    "\n",
    "$$ log_{1/2}\\frac{N_f}{N_0} = \\frac{t}{t_{1/2}} $$ \n",
    "\n",
    "$$ t = t_{1/2}log_{1/2}\\frac{N_f}{N_0} $$"
   ]
  },
  {
   "cell_type": "code",
   "execution_count": 12,
   "id": "a53b3ac5",
   "metadata": {},
   "outputs": [
    {
     "name": "stdout",
     "output_type": "stream",
     "text": [
      "The the amount of time it takes for a collection of neutrons to decay to 1% of their original quantity is 97.26605461830196 minutes.\n"
     ]
    }
   ],
   "source": [
    "import numpy as np \n",
    "\n",
    "N_0 = 100 # initial number of neutrons\n",
    "t_half = 14.64 # minutes\n",
    "N_f = 1 # number of neutrons after time t\n",
    "\n",
    "log_bh = np.log(N_f/N_0)/np.log(0.5) # base 0.5 log of final number over initial\n",
    "\n",
    "print('The the amount of time it takes for a collection of neutrons to decay to 1% of their original quantity is', t_half*log_bh, 'minutes.')"
   ]
  },
  {
   "cell_type": "markdown",
   "id": "397856bb",
   "metadata": {},
   "source": [
    "### Excercise 5:\n",
    "\n",
    "Calculate the range in of energies for visible light photons in eV. Compare these to\n",
    "energies of IR, radio, UV, X-ray, and Gamma ray energies and the rest energies of the electron,\n",
    "neutron and proton. \n",
    "\n",
    "#### Answer:\n",
    "\n",
    "$$ \\text{Rest Energy: } E = mc^2 $$\n",
    "\n",
    "$$\\text{Energy: } E = \\frac{hc}{\\lambda} $$\n",
    "\n",
    "$$ \\text{Wavelength: } \\lambda = \\frac{hc}{E}  $$\n",
    "\n",
    "##### Wavelengths: \n",
    "\n",
    "- IR: $2.5$ $\\mu$m to $25$ $\\mu$m $\\rightarrow 2500$ nm to $25000$ nm \n",
    "\n",
    "- Radio: >$1$mm $\\rightarrow$ > $ 1\\times10^6$ nm\n",
    "\n",
    "- UV: $1$ nm to $400$ nm\n",
    "\n",
    "- X-ray: $1$ pm to $1$ nm $\\rightarrow 0.001$ nm to $1$ nm\n",
    "\n",
    "- Gamma Ray: < $10^{-12}$ m $\\rightarrow 10^{-3}$ nm"
   ]
  },
  {
   "cell_type": "code",
   "execution_count": 36,
   "id": "b32c36af",
   "metadata": {},
   "outputs": [
    {
     "name": "stdout",
     "output_type": "stream",
     "text": [
      "The energy spectrum for radio wavelengths is greater than 372000.0 electron volts.\n",
      "\n",
      "The energy spectrum for infrared wavelengths is between 14880000.0 and 148800000.0 electron volts.\n",
      "\n",
      "The energy spectrum for visible wavelengths is between 496000000.0 and 930000000.0 electron volts.\n",
      "\n",
      "The energy spectrum for ultraviolet wavelengths is between 930000000.0 and 372000000000.0 electron volts.\n",
      "\n",
      "The energy spectrum for x-ray wavelengths is between 372000000000.0 and 372000000000000.0 electron volts.\n",
      "\n",
      "The energy spectrum for gamma ray wavelengths is up to  372000000000000.0 electron volts.\n"
     ]
    }
   ],
   "source": [
    "h = 1240 # eV * nm\n",
    "c = 3e8 # m/s (speed of light)\n",
    "hc = h*c\n",
    "\n",
    "r_i = 1e6  # nm (lower wavelength for Radio)\n",
    "\n",
    "ir_i = 2500 # nm (lower wavelength for IR)\n",
    "ir_f = 25000 # nm (upper wavelength for IR)\n",
    "\n",
    "v_i = 400 # nm (lower wavelength for visible light) \n",
    "v_f = 750 # nm (upper wavelength for visibile light)\n",
    "\n",
    "uv_i = 1 # nm (lower wavelength for UV)\n",
    "uv_f = 400 # nm (upper wavlength for UV)\n",
    "\n",
    "x_i = 0.001 # nm (lower wavelength for x-ray)\n",
    "x_f = 1 # nm (upper wavelength for x-ray)\n",
    "\n",
    "g_f = 1e-3 # nm (upper wavelength for gamma)\n",
    "\n",
    "print('The energy spectrum for radio wavelengths is greater than', hc/r_i ,'electron volts.')\n",
    "print()\n",
    "print('The energy spectrum for infrared wavelengths is between', hc/ir_f, 'and', hc/ir_i,'electron volts.')\n",
    "print()\n",
    "print('The energy spectrum for visible wavelengths is between', hc/v_f, 'and', hc/v_i,'electron volts.')\n",
    "print()\n",
    "print('The energy spectrum for ultraviolet wavelengths is between', hc/uv_f, 'and', hc/uv_i,'electron volts.')\n",
    "print()\n",
    "print('The energy spectrum for x-ray wavelengths is between', hc/x_f, 'and', hc/x_i,'electron volts.')\n",
    "print()\n",
    "print('The energy spectrum for gamma ray wavelengths is up to ', hc/g_f ,'electron volts.')"
   ]
  },
  {
   "cell_type": "code",
   "execution_count": 43,
   "id": "fae0cbc0",
   "metadata": {},
   "outputs": [
    {
     "name": "stdout",
     "output_type": "stream",
     "text": [
      "The rest energy of a proton is 938.27 MeV, or 938270000.0 eV.\n",
      "\n",
      "The rest energy of a neutron is 939.57 Mev, or 939570000.0 eV.\n",
      "\n",
      "The rest energy of an electron is 0.511 MeV, or 511000.0 eV.\n"
     ]
    }
   ],
   "source": [
    "m_p = 938.27 # MeV/c^2 (mass of proton)\n",
    "m_n = 939.57 # MeV/c^2 (mass of neutron)\n",
    "m_e = 0.511 # MeV/c^2 (mass of electron)\n",
    "\n",
    "print('The rest energy of a proton is', m_p,'MeV, or',m_p*10**6,'eV.')\n",
    "print()\n",
    "print('The rest energy of a neutron is', m_n,'Mev, or', m_n*10**6,'eV.')\n",
    "print()\n",
    "print('The rest energy of an electron is', m_e,'MeV, or', m_e*10**6,'eV.')"
   ]
  },
  {
   "cell_type": "code",
   "execution_count": null,
   "id": "d87d9737",
   "metadata": {},
   "outputs": [],
   "source": [
    "import matplotlib.pyplot as plt\n",
    "\n",
    "# Define the range of values for your number line\n",
    "start_value = 350000\n",
    "end_value = 400000000000000\n",
    "step = 250000\n",
    "\n",
    "# Create a list of values along the x-axis\n",
    "x_values = list()\n",
    "\n",
    "# Create an empty y-axis\n",
    "y_values = [0] * len(x_values)\n",
    "\n",
    "# Create the plot\n",
    "plt.plot(x_values, y_values, marker='o', markersize=5, linestyle='-', color='b')\n",
    "\n",
    "# Add labels and a title\n",
    "plt.xlabel('X-axis')\n",
    "plt.title('Number Line')\n",
    "\n",
    "# Customize the x-axis ticks\n",
    "plt.xticks(x_values)\n",
    "\n",
    "# Remove the y-axis\n",
    "plt.yticks([])\n",
    "\n",
    "# Show the plot\n",
    "plt.grid(True)\n",
    "plt.show()"
   ]
  },
  {
   "cell_type": "code",
   "execution_count": null,
   "id": "8e29e37b",
   "metadata": {},
   "outputs": [],
   "source": []
  }
 ],
 "metadata": {
  "kernelspec": {
   "display_name": "Python 3 (ipykernel)",
   "language": "python",
   "name": "python3"
  },
  "language_info": {
   "codemirror_mode": {
    "name": "ipython",
    "version": 3
   },
   "file_extension": ".py",
   "mimetype": "text/x-python",
   "name": "python",
   "nbconvert_exporter": "python",
   "pygments_lexer": "ipython3",
   "version": "3.11.4"
  }
 },
 "nbformat": 4,
 "nbformat_minor": 5
}
