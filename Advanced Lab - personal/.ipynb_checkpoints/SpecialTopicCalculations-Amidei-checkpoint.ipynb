{
 "cells": [
  {
   "cell_type": "markdown",
   "id": "c36914bd",
   "metadata": {},
   "source": [
    "# Heat Transfer and the Taylor-Couette Experiment\n",
    "##### James Amidei\n",
    "-----------------------"
   ]
  },
  {
   "cell_type": "markdown",
   "id": "13eb82cd",
   "metadata": {},
   "source": [
    "The Taylor-Couette flow is used to discuss instabilities that emerge in the transitions between various laminar states and turbulence. This makes it well-suited for studying the hyrdodynamic instability, transitional flows, and fully turbulent flows in varying temperature fields, as the combination of rotation and thermal gradients determine the dynamics in complex industrial flow [1]. "
   ]
  },
  {
   "cell_type": "markdown",
   "id": "cf2c5f4d",
   "metadata": {},
   "source": [
    "#### Heat Transfer and the Nusselt number\n",
    "\n",
    "The Nusselt number is a dimensionless number that is the ratio between convective heat transfer and conductive heat transfer. \n",
    "\n",
    "$$ Nu = \\frac{\\text{Heat transfered through convection}}{\\text{Heat transfered through conduction}} = \\frac{q_{conv}}{q_{cond}} = \\frac{h\\Delta T}{k\\frac{\\Delta T}{L}} = \\frac{hL}{k} $$\n",
    "\n",
    "Where $h$ is the convective heat transfer coefficient, $L$ is the characteristic length, $k$ is the thermal conductivity, and $\\Delta T$ is the difference in temperature between the two cylindrical walls [2]. \n",
    "\n",
    "As we can see for $Nu$ values $<1$, the heat transfer is predominantly conductive, whereas values $>1$ are largely conductive and thus the heat transfer is more efficient.\n",
    "\n",
    "Additionally, the Nusselt number represent the heat transfer enhancement through a fluid layer due to convection relative to conduction across the same fluid layer [3]. \n",
    "\n",
    "A large Nusselt number corresponds to more effecctive convection, with turbulent flow in the 100-1000 range. For turbulent flow, the Nusselt number is usually a funciton of the Reynolds number (which we defined in our experiement ad $Re = \\frac{\\Omega (r_2 - r_1)r_1}{\\nu}$) and the Prandtl numbers (which is the ration between the kinematic viscosity and the thermal diffusion rate; thermal conductivity $k$ multiplied by the density then divided by specific heat) [3].\n",
    "\n",
    "Around the Nusselt number range for turbulent flow, the Nusselt number is described as\n",
    "\n",
    "$$ Nu = \\frac{hL}{k} = C \\cdot Re^{m} \\cdot Pr^n $$ [2]. \n",
    "\n",
    "Where $Pr$ is the Prandtl number and $C, m, n$ are system specific constants. \n"
   ]
  },
  {
   "cell_type": "markdown",
   "id": "c677e434",
   "metadata": {},
   "source": [
    "### References\n",
    "\n",
    "[1] S. Merbold, S. Fischer, C. Egbers.\"Torque scaling in Taylor-Couette flow -- an experimental investigaton\". Journal of Physics: Conference Series 317 (2011). \n",
    "\n",
    "[2] \"Nusselt Number: 8 Nusselt number for heat transfer\", ScienceDirect. https://www.sciencedirect.com/topics/chemical-engineering/nusselt-number\n",
    "\n",
    "[3] \"Laminar vs. Turbulent - Nusselt Number\".\n",
    "https://www.nuclear-power.com/nuclear-engineering/heat-transfer/convection-convective-heat-transfer/laminar-vs-turbulent-nusselt-number/\n",
    "\n"
   ]
  },
  {
   "cell_type": "code",
   "execution_count": null,
   "id": "107f4139",
   "metadata": {},
   "outputs": [],
   "source": []
  }
 ],
 "metadata": {
  "kernelspec": {
   "display_name": "Python 3 (ipykernel)",
   "language": "python",
   "name": "python3"
  },
  "language_info": {
   "codemirror_mode": {
    "name": "ipython",
    "version": 3
   },
   "file_extension": ".py",
   "mimetype": "text/x-python",
   "name": "python",
   "nbconvert_exporter": "python",
   "pygments_lexer": "ipython3",
   "version": "3.11.5"
  }
 },
 "nbformat": 4,
 "nbformat_minor": 5
}
