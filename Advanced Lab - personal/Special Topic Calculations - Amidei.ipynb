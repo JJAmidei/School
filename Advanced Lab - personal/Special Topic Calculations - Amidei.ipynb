{
 "cells": [
  {
   "cell_type": "markdown",
   "id": "5faa8538",
   "metadata": {},
   "source": [
    "# Special Topic Calculations - James Amidei\n",
    "-----------------------------------------------\n",
    "\n",
    "One of the most important types of interactions for identifying which peaks correspond to gamma-rays is Compton scattering. This happens when a photon (in our case a gamma-ray photon) is incident upon an electron, which results in a transfer of energy between the two particles and can be seen in the diagram below. \n",
    "\n",
    "![image-3.png](comptonscattering.png) [2]\n",
    "\n",
    "Assuming that the electron is at reat before the scattering, we can write an equation for the energies of the system like so: \n",
    "\n",
    "$$ E_{\\gamma} + E_{e^{-}} = E^{'}_{\\gamma} + E^{'}_{e} $$\n",
    "\n",
    "$$ p_{\\gamma}c + m_{e}c^2 = p^{'}_{\\gamma}c + \\sqrt{(m_{e}c^2)^2 + (p^{'}_{e}c)^2} $$ \n",
    "\n",
    "$$ p_{\\gamma}c + m_{e}c^2 - p^{'}_{\\gamma}c = \\sqrt{(m_{e}c^2)^2 + (p^{'}_{e}c)^2} $$ \n",
    "\n",
    "$$ c(p_{\\gamma} - p^{'}_{\\gamma}) + m_{e}c^2 = \\sqrt{(m_{e}c^2)^2 + (p^{'}_{e}c)^2} $$ \n",
    "\n",
    "$$ c^2(p_{\\gamma} - p^{'}_{\\gamma})^2 + m^2_{e}c^4 + 2m_{e}c^{2}c(p_{\\gamma} - p^{'}_{\\gamma}) = m^2_{e}c^4 + (p^{'}_{e}c)^2 $$ \n",
    "\n",
    "$$ c^2(p_{\\gamma} - p^{'}_{\\gamma})^2 + 2m_{e}c^{2}c(p_{\\gamma} - p^{'}_{\\gamma}) = (p^{'}_{e}c)^2 $$ \n",
    "\n",
    "$$ (p^{'}_{e})^2 = (p_{\\gamma} - p^{'}_{\\gamma})^2 + \\frac{2m_{e}c^{2}(p_{\\gamma} - p^{'}_{\\gamma})}{c} $$ \n",
    "\n",
    "$$ (p^{'}_{e})^2 = p_{\\gamma}^2 + (p^{'}_{\\gamma})^2 - 2p_{\\gamma}p^{'}_{\\gamma} + \\frac{2m_{e}c^{2}(p_{\\gamma} - p^{'}_{\\gamma})}{c} $$ \n",
    " \n",
    "$$ p_{\\gamma}^2 + (p^{'}_{\\gamma})^2 - (p^{'}_{e})^2 =  2p_{\\gamma}p^{'}_{\\gamma} - \\frac{2m_{e}c^{2}(p_{\\gamma} - p^{'}_{\\gamma})}{c} $$  \n",
    " \n",
    "From here, if we look to the momentum of the system we can get the following relationship. \n",
    "\n",
    "$$ \\vec{p_{\\gamma}} = \\vec{p^{'}_{\\gamma}} + \\vec{p^{'}_{e}} $$\n",
    "\n",
    "Since momenta are vectors, we can square both sides by taking the inner product of both sides with themselves. This returns the following relation:  \n",
    "\n",
    "$$ (\\vec{p^{'}_{e})} \\cdot (\\vec{p^{'}_{e})} = (\\vec{p_{\\gamma}} -\\vec{p^{'}_{\\gamma}}) \\cdot (\\vec{p_{\\gamma}} -\\vec{p^{'}_{\\gamma}}) $$\n",
    "\n",
    "$$ (p^{'}_{e})^2 = p_{\\gamma}^2 + (p^{'}_{\\gamma})^2 - \\vec{p_{\\gamma}} \\cdot \\vec{p^{'}_{\\gamma}} $$\n",
    "\n",
    "The inner product of a vector with itself return the magnitude of that vector squared. Similarlly, the inner product of two different vectors is equal to the product of their magnitudes times the $\\cos$ of the angle $\\theta$ between them. This gives us: \n",
    "\n",
    "$$ (p^{'}_{e})^2 - p_{\\gamma}^2 - (p^{'}_{\\gamma})^2 = -2p_{\\gamma}p^{'}_{\\gamma}\\cos(\\theta) $$ \n",
    "\n",
    "Plugging this into the equation we got from the energies above, we get: \n",
    "\n",
    "$$ 2p_{\\gamma}p^{'}_{\\gamma}\\cos(\\theta) =  2p_{\\gamma}p^{'}_{\\gamma} - \\frac{2m_{e}c^{2}(p_{\\gamma} - p^{'}_{\\gamma})}{c} $$  \n",
    "\n",
    "$$ p_{\\gamma}p^{'}_{\\gamma}(1 - \\cos(\\theta)) = \\frac{m_{e}c^{2}(p_{\\gamma} - p^{'}_{\\gamma})}{c} $$  \n",
    "\n",
    "$$ \\frac{hc}{m_{e}c^{2}}(1 - \\cos(\\theta)) = \\biggr( \\frac{hc}{p_{\\gamma}p^{'}_{\\gamma}} \\biggl)\\frac{(p_{\\gamma} - p^{'}_{\\gamma})}{c} $$  \n",
    "\n",
    "$$ \\frac{hc}{m_{e}c^{2}}(1 - \\cos(\\theta)) = \\frac{hcp_{\\gamma} - hcp^{'}_{\\gamma}}{p_{\\gamma}p^{'}_{\\gamma}c} $$  \n",
    "\n",
    "$$ \\frac{hc}{m_{e}c^{2}}(1 - \\cos(\\theta)) = \\frac{h}{p^{'}_{\\gamma}} - \\frac{h}{p_{\\gamma}} $$  \n",
    "\n",
    "The de Broglie wavelength equation tells us that $\\frac{h}{p} = \\lambda$. So using that equation:\n",
    "\n",
    "$$ \\lambda^{'} - \\lambda = \\frac{hc}{m_{e}c^{2}}(1 - \\cos(\\theta)) $$  \n",
    "\n",
    "Which is the equation for the change in a photon's wavelength due to the Compton scattering where $\\frac{hc}{m_{e}c^{2}}$ is a constant called the Compton wavelength. \n",
    " \n",
    "We can then take the equation for the energy of a photon $E = \\frac{hc}{\\lambda}$ and use the equation for the Compton wavelength to find an equation that tells us the energy of a photon after it is scattered. After working through this, we should get the following equations: \n",
    "\n",
    "$$ E_{\\gamma}^{'} = E_{\\gamma}\\biggr(  \\frac{m_{e}c^2}{m_{e}c^2 + E_{\\gamma}(1-cos(\\theta))}\\biggl)$$\n",
    "\n",
    "$$ E^{'}_{e} = E_{\\gamma} - E^{'}_{\\gamma} $$\n",
    "\n",
    "$$ E^{'}_{e} = E_{\\gamma}\\biggr[1 + \\biggr(  \\frac{m_{e}c^2}{m_{e}c^2 + E_{\\gamma}(1-cos(\\theta))}\\biggl)\\biggl] $$\n",
    "\n",
    "We can then use this equation to calculate the range of energies associated with Compton scattering that show up on a gamma pulse. \n",
    "\n",
    "On the diagram below, we have a the spectrum for a single gamma-ray for $^{137}Cs$.\n",
    "\n",
    "![image-2.png](actual_spec_label.gif) [3]\n",
    "\n",
    "As labeled, we can see the beginning of the Compton plateau at the backscatter peak and its ending at the Compton edge. This is created by photons that either scatter inside, or into the detector. When a photon enters the detector and scatters, it can either scatter till its energy is reduced enough for it to be fully absorbed ia the photoelectric effect (in which case the full energy is detected), or it can scatter out of the detector after having only desposited a small amount of its total energy. The energy of a scattered photon inside of the detector is then predictably between some minimum and some maximum. This maximum is energy is what we see above as the Compton edge. In almost an inverse fashion the backsactter peak is created by gammas that fly into the detector's casing and then scatters at a large angle (i.e. backscatters) into the detector. In accordance with the equation for the scatter energies we can see above, this large angle result in a reduced energy, which explain why we see this peak on the lower end of the energy spectrum. \n",
    "\n",
    "Taking one of these larger angles for the backscatter (roughly 180 degrees), we can find the energy at the Compton edge.\n",
    "\n",
    "From the diagram for $^{137}Cs$ above, we can see we have a full gamma energy around $660 \\text{ keV}$. Taking this value and calculating for two angle--160 and 180 degress--we can find energy of the peak at the Compton edge. "
   ]
  },
  {
   "cell_type": "code",
   "execution_count": 15,
   "id": "ef843852",
   "metadata": {},
   "outputs": [
    {
     "data": {
      "text/plain": [
       "475.805570726379"
      ]
     },
     "execution_count": 15,
     "metadata": {},
     "output_type": "execute_result"
    }
   ],
   "source": [
    "import numpy as np\n",
    "\n",
    "E = 660 #keV     \n",
    "E_r = 511 # keV/c^2: rest energy of electron \n",
    "angle_2 = np.pi\n",
    "\n",
    "E_electron = E*(1 - ((E_r)/(E_r + E*(1 - np.cos(angle_2)))))\n",
    "E_electron"
   ]
  },
  {
   "cell_type": "markdown",
   "id": "78481f25",
   "metadata": {},
   "source": [
    "### References\n",
    "-----------------\n",
    "[1]  Glenn F Knoll. Radiation detection and measurement. John Wiley & Sons, 2010.\n",
    "\n",
    "[2] https://www.researchgate.net/figure/The-geometry-of-Compton-scattering-showing-the-directions-of-the-scattered-photon-and_fig1_236737231\n",
    "\n",
    "[3] http://spiff.rit.edu/classes/ast613/lectures/gamma_low/detection/gamma_detection.html"
   ]
  },
  {
   "cell_type": "code",
   "execution_count": null,
   "id": "c1c7dbd0",
   "metadata": {},
   "outputs": [],
   "source": []
  }
 ],
 "metadata": {
  "kernelspec": {
   "display_name": "Python 3 (ipykernel)",
   "language": "python",
   "name": "python3"
  },
  "language_info": {
   "codemirror_mode": {
    "name": "ipython",
    "version": 3
   },
   "file_extension": ".py",
   "mimetype": "text/x-python",
   "name": "python",
   "nbconvert_exporter": "python",
   "pygments_lexer": "ipython3",
   "version": "3.11.4"
  }
 },
 "nbformat": 4,
 "nbformat_minor": 5
}
