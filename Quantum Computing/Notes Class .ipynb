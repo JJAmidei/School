{
 "cells": [
  {
   "cell_type": "markdown",
   "id": "a2bb9fe2",
   "metadata": {},
   "source": [
    "bit (computational arithmetic) --> register (stores info from bits)\n",
    "\n",
    "De Broglie Hypothesis \n",
    "    - Wave particle duality \n",
    "    (momentum of a photon) \n",
    "    $p =  \\h/ \\lambda = \\hbar k -- (k = wavenumber)$\n",
    "    \n",
    "\\vec{k} is the wave vector (momentum like)\n",
    "\\vec{r} is the direction of the wave\n",
    "    \n",
    "    "
   ]
  }
 ],
 "metadata": {
  "kernelspec": {
   "display_name": "Python 3 (ipykernel)",
   "language": "python",
   "name": "python3"
  },
  "language_info": {
   "codemirror_mode": {
    "name": "ipython",
    "version": 3
   },
   "file_extension": ".py",
   "mimetype": "text/x-python",
   "name": "python",
   "nbconvert_exporter": "python",
   "pygments_lexer": "ipython3",
   "version": "3.11.5"
  }
 },
 "nbformat": 4,
 "nbformat_minor": 5
}
