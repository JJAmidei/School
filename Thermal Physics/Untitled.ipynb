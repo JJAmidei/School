{
 "cells": [
  {
   "cell_type": "code",
   "execution_count": 1,
   "id": "e7a4e17b",
   "metadata": {},
   "outputs": [],
   "source": [
    "import sys\n",
    "import matplotlib as mpl\n",
    "from matplotlib import pyplot as plt\n",
    "import numpy as np"
   ]
  },
  {
   "cell_type": "code",
   "execution_count": 2,
   "id": "f36b4b79",
   "metadata": {},
   "outputs": [
    {
     "name": "stdout",
     "output_type": "stream",
     "text": [
      "5.536\n",
      "0.03049\n",
      "646.997535462095\n",
      "22055528.482155304\n"
     ]
    }
   ],
   "source": [
    "#kb*N = n*R\n",
    "kb = 1.381e-23 #J/K\n",
    "R = 8.315 #J/mol K\n",
    "Na = 6.0221409e23\n",
    "\n",
    "#argon\n",
    "#https://en.wikipedia.org/wiki/Van_der_Waals_constants_(data_page)\n",
    "a=1.355\n",
    "b=0.03201\n",
    "\n",
    "#water\n",
    "a=5.536\n",
    "b=0.03049\n",
    "\n",
    "#generic (pg 181 of Schroeder)\n",
    "#a=4*4e-49*Na**2*(1000)**2*(1/1000.)*(1/100.0)\n",
    "#b=6e-29*Na*1000.0\n",
    "print(a)\n",
    "print(b)\n",
    "\n",
    "#critical temp\n",
    "Tc = (8/27)*(a/b)*100*1000*(1/1000.0)/R\n",
    "Pc = (1/27)*(a/b**2)*100*1000\n",
    "\n",
    "print(Tc)\n",
    "print(Pc)"
   ]
  },
  {
   "cell_type": "code",
   "execution_count": 3,
   "id": "b9233442",
   "metadata": {},
   "outputs": [
    {
     "name": "stdout",
     "output_type": "stream",
     "text": [
      "30.490000000000002\n",
      "186569434.16002536\n",
      "183008264.46280986\n",
      "2.451e-05\n",
      "3561169.6972154975\n",
      "227605.93672164326\n"
     ]
    }
   ],
   "source": [
    "#set up for root finding (always use 1 mole of substance)\n",
    "\n",
    "\n",
    "#put a into units of [[m^3]**2 Pa]/mol^2\n",
    "au = a*((1/1000.)**2)*100*1000\n",
    "#put b into [m^3]/mol\n",
    "bu = b*(1/1000.0)\n",
    "\n",
    "\n",
    "#make the P equation\n",
    "n = 1 #1 mole\n",
    "Ttest = 0.85*Tc #Kelvin\n",
    "\n",
    "Vtest=55 #cm**3\n",
    "print(n*bu*100**3)\n",
    "print((n*R*Ttest)/((Vtest/100**3)-n*bu))\n",
    "print(au*n**2/((Vtest/100**3)**2))\n",
    "print(((Vtest/100**3)-n*bu))\n",
    "\n",
    "Pvdw = lambda v,T: ((n*R*T)/(v-n*bu)) - au*n**2/v**2\n",
    "#Pvdw = lambda v: ((n*R*T)/(v))\n",
    "\n",
    "print(Pvdw(Vtest/100**3,Ttest))\n",
    "Pvdw_v = np.vectorize(Pvdw)\n",
    "print(Pvdw(20000/100**3,Ttest))"
   ]
  },
  {
   "cell_type": "code",
   "execution_count": null,
   "id": "dc16e057",
   "metadata": {},
   "outputs": [],
   "source": []
  }
 ],
 "metadata": {
  "kernelspec": {
   "display_name": "Python 3 (ipykernel)",
   "language": "python",
   "name": "python3"
  },
  "language_info": {
   "codemirror_mode": {
    "name": "ipython",
    "version": 3
   },
   "file_extension": ".py",
   "mimetype": "text/x-python",
   "name": "python",
   "nbconvert_exporter": "python",
   "pygments_lexer": "ipython3",
   "version": "3.11.5"
  }
 },
 "nbformat": 4,
 "nbformat_minor": 5
}
